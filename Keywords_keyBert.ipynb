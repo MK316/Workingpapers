{
  "nbformat": 4,
  "nbformat_minor": 0,
  "metadata": {
    "colab": {
      "provenance": [],
      "authorship_tag": "ABX9TyOS6+wFBgc9zte4jzBj3WkN",
      "include_colab_link": true
    },
    "kernelspec": {
      "name": "python3",
      "display_name": "Python 3"
    },
    "language_info": {
      "name": "python"
    }
  },
  "cells": [
    {
      "cell_type": "markdown",
      "metadata": {
        "id": "view-in-github",
        "colab_type": "text"
      },
      "source": [
        "<a href=\"https://colab.research.google.com/github/MK316/Workingpapers/blob/main/Keywords_keyBert.ipynb\" target=\"_parent\"><img src=\"https://colab.research.google.com/assets/colab-badge.svg\" alt=\"Open In Colab\"/></a>"
      ]
    },
    {
      "cell_type": "markdown",
      "source": [
        "# Keyword extraction: [Guide link](https://ourcodeworld.com/articles/read/1613/top-5-best-python-libraries-to-extract-keywords-from-text-automatically)"
      ],
      "metadata": {
        "id": "HdE0zv0_cokT"
      }
    },
    {
      "cell_type": "code",
      "execution_count": null,
      "metadata": {
        "id": "oSREpWILckhd"
      },
      "outputs": [],
      "source": [
        "!pip install keybert"
      ]
    },
    {
      "cell_type": "code",
      "source": [
        "doc = 'I am a graduate. I want to learn Python. I like learning Python. Python is easy. Python is interesting. Learning increases thinking. Everyone should invest time in learning'"
      ],
      "metadata": {
        "id": "b71EPrRsc1z5"
      },
      "execution_count": 2,
      "outputs": []
    },
    {
      "cell_type": "code",
      "source": [
        "# script.py\n",
        "from keybert import KeyBERT"
      ],
      "metadata": {
        "id": "PJ-OJ09lc-eF"
      },
      "execution_count": 22,
      "outputs": []
    },
    {
      "cell_type": "code",
      "source": [
        "doc = \"\"\"\n",
        "    Dear Ms. Green,\n",
        "My name is Donna Williams, a science teacher at Rogan \n",
        "High School. I am planning a special workshop for our science \n",
        "teachers. We are interested in learning how to teach online \n",
        "science classes. I have been impressed with your ideas about \n",
        "using internet platforms for science classes. Since you are an \n",
        "expert in online education, I would like to ask you to deliver \n",
        "a special lecture at the workshop scheduled for next month. \n",
        "I am sure the lecture will help our teachers manage successful \n",
        "online science classes, and I hope we can learn from your \n",
        "insights. I am looking forward to hearing from you.\n",
        "\"\"\""
      ],
      "metadata": {
        "id": "o_l1vzunkXRR"
      },
      "execution_count": 25,
      "outputs": []
    },
    {
      "cell_type": "code",
      "source": [
        "kw_model = KeyBERT()\n",
        "keywords = kw_model.extract_keywords(doc)\n",
        "\n",
        "print(kw_model.extract_keywords(doc, keyphrase_ngram_range=(1, 1), stop_words=None))"
      ],
      "metadata": {
        "colab": {
          "base_uri": "https://localhost:8080/"
        },
        "id": "SYrKGkw1fRdm",
        "outputId": "7eb3ebe4-fe7f-4d5d-c11e-634dd56ba6b7"
      },
      "execution_count": 26,
      "outputs": [
        {
          "output_type": "stream",
          "name": "stdout",
          "text": [
            "[('lecture', 0.4147), ('online', 0.3513), ('workshop', 0.3501), ('teacher', 0.3426), ('teach', 0.3394)]\n"
          ]
        }
      ]
    },
    {
      "cell_type": "code",
      "source": [
        "doc = \"\"\"\n",
        "Mending and restoring objects often require even more \n",
        "creativity than original production. The preindustrial blacksmith \n",
        "made things to order for people in his immediate community; \n",
        "customizing the product, modifying or transforming it according \n",
        "to the user, was routine. Customers would bring things back if \n",
        "something went wrong; repair was thus an extension of \n",
        "fabrication. With industrialization and eventually with mass \n",
        "production, making things became the province of machine \n",
        "tenders with limited knowledge. But repair continued to require \n",
        "a larger grasp of design and materials, an understanding of the \n",
        "whole and a comprehension of the designer’s intentions. \n",
        "“Manufacturers all work by machinery or by vast subdivision \n",
        "of labour and not, so to speak, by hand,” an 1896 Manual of \n",
        "Mending and Repairing explained. “But all repairing must be \n",
        "done by hand. We can make every detail of a watch or of a \n",
        "gun by machinery, but the machine cannot mend it when \n",
        "broken, much less a clock or a pistol!”\n",
        "\"\"\""
      ],
      "metadata": {
        "id": "dKx_ymfvk8wH"
      },
      "execution_count": 29,
      "outputs": []
    },
    {
      "cell_type": "code",
      "source": [
        "kw_model = KeyBERT()\n",
        "keywords = kw_model.extract_keywords(doc)\n",
        "\n",
        "print(kw_model.extract_keywords(doc, keyphrase_ngram_range=(1, 1), stop_words=None))"
      ],
      "metadata": {
        "colab": {
          "base_uri": "https://localhost:8080/"
        },
        "id": "J3cb8Yypk6lO",
        "outputId": "d16f7e82-cdf2-4da8-b5ad-ba0b3b87f511"
      },
      "execution_count": 30,
      "outputs": [
        {
          "output_type": "stream",
          "name": "stdout",
          "text": [
            "[('repairing', 0.5169), ('fabrication', 0.5159), ('machinery', 0.4905), ('industrialization', 0.4853), ('repair', 0.4769)]\n"
          ]
        }
      ]
    }
  ]
}