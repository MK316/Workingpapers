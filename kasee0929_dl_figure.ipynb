{
  "nbformat": 4,
  "nbformat_minor": 0,
  "metadata": {
    "colab": {
      "private_outputs": true,
      "provenance": [],
      "authorship_tag": "ABX9TyPqekwn+7BdIzGcdvVNPFvJ",
      "include_colab_link": true
    },
    "kernelspec": {
      "name": "python3",
      "display_name": "Python 3"
    },
    "language_info": {
      "name": "python"
    }
  },
  "cells": [
    {
      "cell_type": "markdown",
      "metadata": {
        "id": "view-in-github",
        "colab_type": "text"
      },
      "source": [
        "<a href=\"https://colab.research.google.com/github/MK316/Workingpapers/blob/main/kasee0929_dl_figure.ipynb\" target=\"_parent\"><img src=\"https://colab.research.google.com/assets/colab-badge.svg\" alt=\"Open In Colab\"/></a>"
      ]
    },
    {
      "cell_type": "markdown",
      "source": [
        "# Paper 2024b (0929)\n",
        "\n",
        "Figure"
      ],
      "metadata": {
        "id": "L2h_gaVtvaNZ"
      }
    },
    {
      "cell_type": "code",
      "execution_count": null,
      "metadata": {
        "id": "cTb7ZWc0cQqT"
      },
      "outputs": [],
      "source": [
        "# Import necessary libraries\n",
        "import matplotlib.pyplot as plt\n",
        "\n",
        "# Data for digital literacy training sources\n",
        "categories = ['Secondary Schools', 'University Courses', 'Private Institutions', 'Self-Study']\n",
        "percentages = [18, 11, 1.3, 0.9]\n",
        "\n",
        "# Create the bar plot\n",
        "plt.figure(figsize=(8, 4))\n",
        "plt.bar(categories, percentages, color=['#4CAF50', '#2196F3', '#FFC107', '#FF5722'])\n",
        "\n",
        "# Adding labels and title\n",
        "plt.xlabel('Training Sources', fontsize=14)\n",
        "plt.ylabel('Percentage (%)', fontsize=14)\n",
        "plt.ylim(0, 20)\n",
        "#plt.title('Digital Literacy Training Sources among Participants', fontsize=14)\n",
        "\n",
        "# Adding percentage values on top of bars\n",
        "for i, v in enumerate(percentages):\n",
        "    plt.text(i, v + 0.5, str(v) + '%', ha='center', fontsize=14)\n",
        "\n",
        "# Adjust bottom margin to ensure labels are not cut off\n",
        "plt.subplots_adjust(bottom=0.2)\n",
        "\n",
        "# Save the plot\n",
        "plt.savefig('DigitalTrainingRatio.png')\n",
        "\n",
        "# Show the plot with adjusted layout\n",
        "plt.tight_layout()\n",
        "plt.show()\n"
      ]
    }
  ]
}