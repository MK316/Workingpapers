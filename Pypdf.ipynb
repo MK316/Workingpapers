{
  "nbformat": 4,
  "nbformat_minor": 0,
  "metadata": {
    "colab": {
      "provenance": [],
      "include_colab_link": true
    },
    "kernelspec": {
      "name": "python3",
      "display_name": "Python 3"
    },
    "language_info": {
      "name": "python"
    }
  },
  "cells": [
    {
      "cell_type": "markdown",
      "metadata": {
        "id": "view-in-github",
        "colab_type": "text"
      },
      "source": [
        "<a href=\"https://colab.research.google.com/github/MK316/Workingpapers-/blob/main/Pypdf.ipynb\" target=\"_parent\"><img src=\"https://colab.research.google.com/assets/colab-badge.svg\" alt=\"Open In Colab\"/></a>"
      ]
    },
    {
      "cell_type": "markdown",
      "source": [
        "#pdfPlumber"
      ],
      "metadata": {
        "id": "6UqhTcH_3cbq"
      }
    },
    {
      "cell_type": "code",
      "source": [
        "!pip install pdfplumber"
      ],
      "metadata": {
        "id": "lu31nFXA5uBe",
        "outputId": "8a509ba2-9d6c-4ac9-e7da-6874a883b6c0",
        "colab": {
          "base_uri": "https://localhost:8080/"
        }
      },
      "execution_count": 1,
      "outputs": [
        {
          "output_type": "stream",
          "name": "stdout",
          "text": [
            "Looking in indexes: https://pypi.org/simple, https://us-python.pkg.dev/colab-wheels/public/simple/\n",
            "Requirement already satisfied: pdfplumber in /usr/local/lib/python3.7/dist-packages (0.7.4)\n",
            "Requirement already satisfied: Wand>=0.6.7 in /usr/local/lib/python3.7/dist-packages (from pdfplumber) (0.6.10)\n",
            "Requirement already satisfied: Pillow>=9.1 in /usr/local/lib/python3.7/dist-packages (from pdfplumber) (9.2.0)\n",
            "Requirement already satisfied: pdfminer.six==20220524 in /usr/local/lib/python3.7/dist-packages (from pdfplumber) (20220524)\n",
            "Requirement already satisfied: cryptography>=36.0.0 in /usr/local/lib/python3.7/dist-packages (from pdfminer.six==20220524->pdfplumber) (38.0.1)\n",
            "Requirement already satisfied: charset-normalizer>=2.0.0 in /usr/local/lib/python3.7/dist-packages (from pdfminer.six==20220524->pdfplumber) (2.1.1)\n",
            "Requirement already satisfied: cffi>=1.12 in /usr/local/lib/python3.7/dist-packages (from cryptography>=36.0.0->pdfminer.six==20220524->pdfplumber) (1.15.1)\n",
            "Requirement already satisfied: pycparser in /usr/local/lib/python3.7/dist-packages (from cffi>=1.12->cryptography>=36.0.0->pdfminer.six==20220524->pdfplumber) (2.21)\n"
          ]
        }
      ]
    },
    {
      "cell_type": "code",
      "execution_count": 4,
      "metadata": {
        "id": "h-C0vKvN3bwq"
      },
      "outputs": [],
      "source": [
        "import pdfplumber\n"
      ]
    },
    {
      "cell_type": "code",
      "source": [],
      "metadata": {
        "id": "n1V77KmK67O9"
      },
      "execution_count": null,
      "outputs": []
    },
    {
      "cell_type": "code",
      "source": [
        "pdf = pdfplumber.open('/content/2014.6.pdf')"
      ],
      "metadata": {
        "id": "esUrJSNE4ZGl"
      },
      "execution_count": 8,
      "outputs": []
    },
    {
      "cell_type": "code",
      "source": [
        "page = pdf.pages[3]"
      ],
      "metadata": {
        "id": "20lLWLzK7BKc"
      },
      "execution_count": 29,
      "outputs": []
    },
    {
      "cell_type": "code",
      "source": [
        "text = page.extract_text()"
      ],
      "metadata": {
        "id": "Lv33-5hb7GDj"
      },
      "execution_count": 30,
      "outputs": []
    },
    {
      "cell_type": "code",
      "source": [
        "print(text)\n",
        "# with open('/content/2014.6.txt','w') as writefile:\n",
        "#   writefile.write(text)"
      ],
      "metadata": {
        "id": "kA_7TAqS8fM7",
        "outputId": "f3825f38-75a1-421c-802a-a972bee39ff7",
        "colab": {
          "base_uri": "https://localhost:8080/"
        }
      },
      "execution_count": 31,
      "outputs": [
        {
          "output_type": "stream",
          "name": "stdout",
          "text": [
            "4\n",
            "영어 영역(A 형)\n",
            "27. 다음 글의 밑줄 친 부분 중,  어법상 틀린  것은?  [3점] 29. Laketown Sports Camp 2013에 관한 다음 안내문의 내용과 \n",
            "일치하는 것은?\n",
            "When you have ideas you like, you often think everyone \n",
            "else should feel the same way. If they don’t, it very often \n",
            "①becomes  a  matter  of  “they  just  don’t  understand!”  If  a  Laketown Sports Camp 2013\n",
            "colleague  around  you  doesn’t  understand  your  idea,  or  its \n",
            "June 24th- August 23rd\n",
            "potential,  you  are  ②being  given  an  important  message. \n",
            "(Monday-Friday, 9:00 a.m.-4:00 p.m.)\n",
            "Maybe your view of a problem ③that you think you are \n",
            "solving is not shared by other coworkers? If your colleague \n",
            "cannot see it, your consumers may not ④either. Think about \n",
            "it. Make constant efforts until everyone you explain your idea \n",
            "to  understands  it.  This  is  all  to  do  with  ⑤find  simple \n",
            "solutions to our daily communication problems.\n",
            "The city of Laketown offers a sports camp for all children \n",
            "seven and older.\n",
            "∙Campers take swimming lessons every afternoon.\n",
            "∙Our weekly activities include basketball, soccer, tennis, \n",
            "badminton, and much more.\n",
            "∙Campers have the option to bring their own lunch from \n",
            "home or purchase lunch from the snack bar.\n",
            "28. (A),  (B),  (C)의 각 네모 안에서 문맥에 맞는 낱말로 가장 \n",
            "Registration Information\n",
            "적절한 것은?  [3점]\n",
            "Period May 27th－June 7th\n",
            "England’s  plan  to  establish  colonies  in  North  America, \n",
            "Fee $125 for a week (insurance fee included)\n",
            "starting in the late sixteenth century, was founded on a \n",
            "(A) false/valid idea. It was generally assumed that Virginia,  For more information, visit www.laketowncamp.com or \n",
            "the  region  of  the  North  American  continent  to  which  call (310) 555-2211.\n",
            "England  laid  claim,  would  have  the  same  climate  as  the \n",
            "Mediterranean  region  of  Europe,  since  it  lay  at  similar \n",
            "① 참가자의 연령 제한이 없다.\n",
            "latitudes. As a result, the English hoped that the American \n",
            "② 참가자는 매일 오전에 수영 강습을 받는다.\n",
            "colonies,  once  established,  would  be  able  to  supply \n",
            "③ 점심은 캠프에서 무료로 제공한다.\n",
            "Mediterranean goods such as olives and fruit and reduce England’s \n",
            "④ 등록 기간은 5월 말까지이다.\n",
            "(B) dependence/restriction on imports from continental Europe. \n",
            "⑤ 보험료는 등록비에 포함되어 있다.\n",
            "One prospectus claimed that the colonies would provide “the \n",
            "wines, fruit and salt of France and Spain ... the silks of Persia \n",
            "and Italy.” Similarly, (C) abundant/scarce timber would do \n",
            "away  with  the  need  to  import  wood  from  Scandinavia.  In \n",
            "short, America was mistakenly expected to be a land of plenty \n",
            "that would quickly turn a profit.\n",
            "*latitude: 위도  **prospectus: 사업 설명서, 투자 설명서\n",
            "(A) (B) (C)\n",
            "① false …… dependence …… abundant\n",
            "② false …… dependence …… scarce\n",
            "③ false …… restriction …… abundant\n",
            "④ valid …… restriction …… scarce\n",
            "⑤ valid …… restriction …… abundant\n",
            "4\n",
            "8\n",
            "이 문제지에 관한 저작권은 한국교육과정평가원에 있습니다.\n"
          ]
        }
      ]
    },
    {
      "cell_type": "code",
      "source": [
        "# sum = 0 #make a counter\n",
        "# #making the function\n",
        "# for reports in text:\n",
        "#      report = pdfplumber.open(reports)\n",
        "#      page = report.pages[0]\n",
        "#      text = page.extract_text() #extracting the text\n",
        "#      value = text.split(\"\\n\")[6].replace(\"\\t\", \"\").split(\"R$\")[1]\n",
        "#      value = float(value)\n",
        "#      sum += value\n",
        "# print(\"{} ----> {}\".format(reports, value))"
      ],
      "metadata": {
        "id": "7YX1HgYY7dJf"
      },
      "execution_count": 15,
      "outputs": []
    }
  ]
}