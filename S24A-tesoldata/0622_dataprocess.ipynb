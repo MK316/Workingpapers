{
  "nbformat": 4,
  "nbformat_minor": 0,
  "metadata": {
    "colab": {
      "private_outputs": true,
      "provenance": [],
      "authorship_tag": "ABX9TyMGmmmaw378YSO/DgYDCWAj",
      "include_colab_link": true
    },
    "kernelspec": {
      "name": "python3",
      "display_name": "Python 3"
    },
    "language_info": {
      "name": "python"
    }
  },
  "cells": [
    {
      "cell_type": "markdown",
      "metadata": {
        "id": "view-in-github",
        "colab_type": "text"
      },
      "source": [
        "<a href=\"https://colab.research.google.com/github/MK316/Workingpapers/blob/main/S24A-tesoldata/0622_dataprocess.ipynb\" target=\"_parent\"><img src=\"https://colab.research.google.com/assets/colab-badge.svg\" alt=\"Open In Colab\"/></a>"
      ]
    },
    {
      "cell_type": "markdown",
      "source": [
        "# S24 TESOL data analysis (Pilot)\n",
        "\n",
        "+ 2024.06.22~"
      ],
      "metadata": {
        "id": "_j3gH9oVSjbC"
      }
    },
    {
      "cell_type": "markdown",
      "source": [
        "# Part 1. Processes Step-by-Step Guide:\n",
        "1. Read the Google Sheet data.\n",
        "2. Fill empty cells with \"No response\".\n",
        "3.  Rename the columns with Question numbers. (Q1~Q27)\n",
        "4. Extract column names and save them to a CSV file. ('questionlist.csv')"
      ],
      "metadata": {
        "id": "41DHEB4BSvYt"
      }
    },
    {
      "cell_type": "code",
      "source": [
        "%%capture\n",
        "!pip install gspread gspread-dataframe"
      ],
      "metadata": {
        "id": "BZOOUZ5aXEeN"
      },
      "execution_count": null,
      "outputs": []
    },
    {
      "cell_type": "markdown",
      "source": [
        "+ [data link](https://docs.google.com/spreadsheets/d/1Bl-HkoUdmHhCnTWc6xf3SDDbQesD726-kJ4KsJQEENA/edit?usp=sharing): Need authentification"
      ],
      "metadata": {
        "id": "n9jZbGpKa37S"
      }
    },
    {
      "cell_type": "markdown",
      "source": [
        "## 1, 2 & 3 Done"
      ],
      "metadata": {
        "id": "QpEHkiQRlgol"
      }
    },
    {
      "cell_type": "code",
      "source": [
        "import pandas as pd\n",
        "from google.colab import auth\n",
        "import gspread\n",
        "from google.auth import default\n",
        "from gspread_dataframe import get_as_dataframe\n",
        "\n",
        "# Authenticate and setup\n",
        "auth.authenticate_user()\n",
        "creds, _ = default()\n",
        "gc = gspread.authorize(creds)\n",
        "\n",
        "# Open the sheet\n",
        "spreadsheet_url = 'https://docs.google.com/spreadsheets/d/1Bl-HkoUdmHhCnTWc6xf3SDDbQesD726-kJ4KsJQEENA/edit?usp=sharing'\n",
        "sheet = gc.open_by_url(spreadsheet_url).sheet1\n",
        "\n",
        "# Fetch data and convert to DataFrame\n",
        "data = sheet.get_all_values()\n",
        "df = pd.DataFrame(data[1:], columns=data[0])\n",
        "\n",
        "# Debug print to check DataFrame after conversion\n",
        "print(\"DataFrame after initial conversion:\", df.head())\n",
        "\n",
        "# Clean the DataFrame\n",
        "df = df.loc[:, ~df.columns.str.contains('^Unnamed')]\n",
        "df.replace('', 'No responses', inplace=True)\n",
        "df.reset_index(drop=True, inplace=True)\n",
        "\n",
        "# Final debug print\n",
        "# print(\"DataFrame after cleaning:\", df.head())\n"
      ],
      "metadata": {
        "id": "IXEG8tOrXJf1"
      },
      "execution_count": null,
      "outputs": []
    },
    {
      "cell_type": "markdown",
      "source": [
        "## 4. Extract column names and save them to a CSV file. ('questionlist.csv')\n",
        "\n",
        "Column name as a dataframe (Done and saved on Google sheet datainfo file; skip this)\n",
        "\n",
        "|QN|Questions|\n",
        "|--|--|\n",
        "|Q1|What's your ID?|"
      ],
      "metadata": {
        "id": "4ANFs54Zgsc4"
      }
    },
    {
      "cell_type": "code",
      "source": [
        "#@markdown Record column names as csv file (done; no need to run again)\n",
        "# import pandas as pd\n",
        "\n",
        "# # Assume df is your original DataFrame and already defined\n",
        "# # Example: df = pd.DataFrame(columns=['A', 'B', 'C'])\n",
        "\n",
        "# # Get column names from the original DataFrame\n",
        "# column_names = df.columns.tolist()\n",
        "\n",
        "# # Generate identifiers from 'Q1' to 'Qn', where n is the number of columns\n",
        "# qn_labels = ['Q' + str(i+1) for i in range(len(column_names))]\n",
        "\n",
        "# # Create a new DataFrame with 'QN' and 'Questions' as the column names\n",
        "# new_df = pd.DataFrame({\n",
        "#     'QN': qn_labels,\n",
        "#     'Questions': column_names\n",
        "# })\n",
        "\n",
        "# # Display the new DataFrame\n",
        "# # new_df.to_csv(\"SuveryQuestions.csv\",encoding='utf-8',index=False)\n",
        "# # Write new_df to a CSV file\n",
        "# new_df.to_csv('output.csv', index=False)  # `index=False` to avoid writing row numbers\n",
        "\n",
        "# print(new_df)\n"
      ],
      "metadata": {
        "cellView": "form",
        "id": "twUZacPrh2GQ"
      },
      "execution_count": null,
      "outputs": []
    },
    {
      "cell_type": "markdown",
      "source": [
        "# Part II. Data description"
      ],
      "metadata": {
        "id": "eft2u4AtmVJ7"
      }
    },
    {
      "cell_type": "markdown",
      "source": [
        "## [1] Column names to Q1~Q27 (df1)\n",
        "\n",
        "+ df > df1\n",
        "\n",
        "## [2] Question data info file (df2)\n",
        "+ df2 > [Question info file](https://raw.githubusercontent.com/MK316/Workingpapers/main/S24A-tesoldata/data/S24-tesoldata-questions.csv)"
      ],
      "metadata": {
        "id": "pa341rospYTi"
      }
    },
    {
      "cell_type": "code",
      "source": [
        "#@markdown Read info file (df2), change column names (df1)\n",
        "import pandas as pd\n",
        "\n",
        "# Assuming df is already defined and has 27 columns\n",
        "df1 = df\n",
        "# Generate new column names 'Q1', 'Q2', ..., 'Q27'\n",
        "new_column_names = [f'Q{i+1}' for i in range(27)]\n",
        "\n",
        "# Rename the columns of df\n",
        "df1.columns = new_column_names\n",
        "\n",
        "df2 = pd.read_csv('https://raw.githubusercontent.com/MK316/Workingpapers/main/S24A-tesoldata/data/S24-tesoldata-questions.csv')\n",
        "# Display the DataFrame to confirm the changes\n",
        "print(df1.head())\n",
        "print(df2.head())\n"
      ],
      "metadata": {
        "cellView": "form",
        "id": "KaIrXohxpWYG"
      },
      "execution_count": null,
      "outputs": []
    },
    {
      "cell_type": "code",
      "source": [
        "# Filter the DataFrame to include only rows where 'Responsetype' is 'Likert'\n",
        "filtered_df2 = df2[df2['Responsetype'] == 'Likert']\n",
        "\n",
        "# Extract the values of 'QN' from the filtered DataFrame\n",
        "filtered_qn_values = filtered_df2['QN'].tolist()\n",
        "filtered_question_values = filtered_df2['Questions'].tolist()\n",
        "# Display the filtered QN values\n",
        "print(\"Filtered QN values:\", filtered_qn_values)\n",
        "print(\"Filtered Question values:\", filtered_question_values)"
      ],
      "metadata": {
        "id": "LHiHCVY1o6gy"
      },
      "execution_count": null,
      "outputs": []
    },
    {
      "cell_type": "markdown",
      "source": [
        "# Part III. Data exploration"
      ],
      "metadata": {
        "id": "uOE4T7EBw3iE"
      }
    },
    {
      "cell_type": "markdown",
      "source": [
        "## [1] Four language skills: radar plots"
      ],
      "metadata": {
        "id": "-DWm0nEQx329"
      }
    },
    {
      "cell_type": "code",
      "source": [
        "#@markdown 1) Radar plot with Mean and STD (scale included)\n",
        "import pandas as pd\n",
        "import numpy as np\n",
        "import matplotlib.pyplot as plt\n",
        "\n",
        "# Assuming df1 is your DataFrame and it is already defined\n",
        "\n",
        "# Define the Likert scale columns\n",
        "likert_columns = ['Q13', 'Q14', 'Q15', 'Q16']\n",
        "\n",
        "# Convert columns to numeric, coerce errors to NaN (useful if there are any non-numeric entries)\n",
        "df1[likert_columns] = df1[likert_columns].apply(pd.to_numeric, errors='coerce')\n",
        "\n",
        "# Compute the mean and standard deviation for the specified columns\n",
        "mean_values = df1[likert_columns].mean()\n",
        "std_values = df1[likert_columns].std()\n",
        "\n",
        "# Print mean and standard deviation values to ensure correctness\n",
        "print(\"Mean values of Likert scale columns:\")\n",
        "print(mean_values)\n",
        "print(\"Standard deviation of Likert scale columns:\")\n",
        "print(std_values)\n",
        "\n",
        "# Convert mean and standard deviation values to lists and append the first value to close the radar chart loop\n",
        "mean_values_list = mean_values.tolist()\n",
        "mean_values_list += mean_values_list[:1]\n",
        "\n",
        "std_values_list = std_values.tolist()\n",
        "std_values_list += std_values_list[:1]\n",
        "\n",
        "# Define the categories\n",
        "categories = ['Reading', 'Writing', 'Listening', 'Speaking']\n",
        "\n",
        "# Number of variables\n",
        "num_vars = len(categories)\n",
        "\n",
        "# Compute angle for each category\n",
        "angles = np.linspace(0, 2 * np.pi, num_vars, endpoint=False).tolist()\n",
        "\n",
        "# The plot is made in a circular loop, so we need to \"complete the loop\" and append the start value to the end\n",
        "angles += angles[:1]\n",
        "\n",
        "# Plot\n",
        "fig, ax = plt.subplots(figsize=(6, 6), subplot_kw=dict(polar=True))\n",
        "\n",
        "# Plot mean values\n",
        "ax.plot(angles, mean_values_list, color='blue', linewidth=2, linestyle='solid', label='Mean')\n",
        "\n",
        "# Fill the area between mean ± standard deviation\n",
        "ax.fill(angles, mean_values_list, color='blue', alpha=0.25)\n",
        "\n",
        "# Calculate upper and lower bounds for the shaded area\n",
        "upper_bound = (mean_values + std_values).tolist()\n",
        "lower_bound = (mean_values - std_values).tolist()\n",
        "\n",
        "# Close the loop for upper and lower bounds\n",
        "upper_bound += upper_bound[:1]\n",
        "lower_bound += lower_bound[:1]\n",
        "\n",
        "# Fill the area between the upper and lower bounds\n",
        "ax.fill_between(angles, lower_bound, upper_bound, color='blue', alpha=0.1)\n",
        "\n",
        "# Add labels\n",
        "ax.set_yticklabels([])  # Remove default y-tick labels\n",
        "ax.set_xticks(angles[:-1])\n",
        "ax.set_xticklabels(categories)\n",
        "\n",
        "# Add horizontal scale numbers from 1 to 6\n",
        "ax.set_ylim(0, 6)  # Set the limit for y-axis\n",
        "ax.set_yticks(np.arange(1, 7))\n",
        "ax.yaxis.set_tick_params(labelsize=10)\n",
        "ax.set_yticklabels([str(i) for i in range(1, 7)])\n",
        "\n",
        "# Title\n",
        "plt.title('Likert Scale Radar Plot with Standard Deviation')\n",
        "\n",
        "# Add legend\n",
        "plt.legend(loc='upper right')\n",
        "\n",
        "# Show the plot\n",
        "plt.show()\n"
      ],
      "metadata": {
        "cellView": "form",
        "id": "X_MXgN2Y2KTS"
      },
      "execution_count": null,
      "outputs": []
    },
    {
      "cell_type": "markdown",
      "source": [
        "+ Using median and IQR"
      ],
      "metadata": {
        "id": "7mL54EHz1Fan"
      }
    },
    {
      "cell_type": "code",
      "source": [
        "#@markdown 2) Radar plot with median and IQR (scales included 1~6)\n",
        "\n",
        "import pandas as pd\n",
        "import numpy as np\n",
        "import matplotlib.pyplot as plt\n",
        "\n",
        "# Assuming df1 is your DataFrame and it is already defined\n",
        "\n",
        "# Define the Likert scale columns\n",
        "likert_columns = ['Q13', 'Q14', 'Q15', 'Q16']\n",
        "\n",
        "# Convert columns to numeric, coerce errors to NaN (useful if there are any non-numeric entries)\n",
        "df1[likert_columns] = df1[likert_columns].apply(pd.to_numeric, errors='coerce')\n",
        "\n",
        "# Compute the median and IQR for the specified columns\n",
        "median_values = df1[likert_columns].median()\n",
        "q1 = df1[likert_columns].quantile(0.25)\n",
        "q3 = df1[likert_columns].quantile(0.75)\n",
        "iqr_values = q3 - q1\n",
        "\n",
        "# Print median and IQR values to ensure correctness\n",
        "print(\"Median values of Likert scale columns:\")\n",
        "print(median_values)\n",
        "print(\"Interquartile range (IQR) of Likert scale columns:\")\n",
        "print(iqr_values)\n",
        "\n",
        "# Convert median and IQR values to lists and append the first value to close the radar chart loop\n",
        "median_values_list = median_values.tolist()\n",
        "median_values_list += median_values_list[:1]\n",
        "\n",
        "iqr_values_list = iqr_values.tolist()\n",
        "iqr_values_list += iqr_values_list[:1]\n",
        "\n",
        "# Define the categories\n",
        "categories = ['Reading', 'Writing', 'Listening', 'Speaking']\n",
        "\n",
        "# Number of variables\n",
        "num_vars = len(categories)\n",
        "\n",
        "# Compute angle for each category\n",
        "angles = np.linspace(0, 2 * np.pi, num_vars, endpoint=False).tolist()\n",
        "\n",
        "# The plot is made in a circular loop, so we need to \"complete the loop\" and append the start value to the end\n",
        "angles += angles[:1]\n",
        "\n",
        "# Plot\n",
        "fig, ax = plt.subplots(figsize=(6, 6), subplot_kw=dict(polar=True))\n",
        "\n",
        "# Plot median values\n",
        "ax.plot(angles, median_values_list, color='blue', linewidth=2, linestyle='solid', label='Median')\n",
        "\n",
        "# Fill the area between median ± IQR/2\n",
        "ax.fill(angles, median_values_list, color='blue', alpha=0.25)\n",
        "\n",
        "# Calculate upper and lower bounds for the shaded area\n",
        "upper_bound = (median_values + iqr_values / 2).tolist()\n",
        "lower_bound = (median_values - iqr_values / 2).tolist()\n",
        "\n",
        "# Close the loop for upper and lower bounds\n",
        "upper_bound += upper_bound[:1]\n",
        "lower_bound += lower_bound[:1]\n",
        "\n",
        "# Fill the area between the upper and lower bounds\n",
        "ax.fill_between(angles, lower_bound, upper_bound, color='blue', alpha=0.1)\n",
        "\n",
        "# Add labels\n",
        "ax.set_yticklabels([])  # Remove default y-tick labels\n",
        "ax.set_xticks(angles[:-1])\n",
        "ax.set_xticklabels(categories)\n",
        "\n",
        "# Add horizontal scale numbers from 1 to 6\n",
        "ax.set_ylim(0, 6)  # Set the limit for y-axis\n",
        "ax.set_yticks(np.arange(1, 7))\n",
        "ax.yaxis.set_tick_params(labelsize=10)\n",
        "ax.set_yticklabels([str(i) for i in range(1, 7)])\n",
        "\n",
        "# Title\n",
        "plt.title('Likert Scale Radar Plot with Interquartile Range (IQR)')\n",
        "\n",
        "# Add legend\n",
        "plt.legend(loc='upper right')\n",
        "\n",
        "# Show the plot\n",
        "plt.show()\n"
      ],
      "metadata": {
        "cellView": "form",
        "id": "8JDRGFtT1pj0"
      },
      "execution_count": null,
      "outputs": []
    },
    {
      "cell_type": "markdown",
      "source": [
        "### Negative range in red color"
      ],
      "metadata": {
        "id": "pruYR9Qf3Vf9"
      }
    },
    {
      "cell_type": "code",
      "source": [
        "#@markdown 1) Radar plot with Mean (negative area in red)\n",
        "import pandas as pd\n",
        "import numpy as np\n",
        "import matplotlib.pyplot as plt\n",
        "\n",
        "# Assuming df1 is your DataFrame and it is already defined\n",
        "\n",
        "# Define the Likert scale columns\n",
        "likert_columns = ['Q13', 'Q14', 'Q15', 'Q16']\n",
        "\n",
        "# Convert columns to numeric, coerce errors to NaN (useful if there are any non-numeric entries)\n",
        "df1[likert_columns] = df1[likert_columns].apply(pd.to_numeric, errors='coerce')\n",
        "\n",
        "# Compute the mean and standard deviation for the specified columns\n",
        "mean_values = df1[likert_columns].mean()\n",
        "std_values = df1[likert_columns].std()\n",
        "\n",
        "# Print mean and standard deviation values to ensure correctness\n",
        "print(\"Mean values of Likert scale columns:\")\n",
        "print(mean_values)\n",
        "print(\"Standard deviation of Likert scale columns:\")\n",
        "print(std_values)\n",
        "\n",
        "# Convert mean and standard deviation values to lists and append the first value to close the radar chart loop\n",
        "mean_values_list = mean_values.tolist()\n",
        "mean_values_list += mean_values_list[:1]\n",
        "\n",
        "std_values_list = std_values.tolist()\n",
        "std_values_list += std_values_list[:1]\n",
        "\n",
        "# Define the categories\n",
        "categories = ['Reading', 'Writing', 'Listening', 'Speaking']\n",
        "\n",
        "# Number of variables\n",
        "num_vars = len(categories)\n",
        "\n",
        "# Compute angle for each category\n",
        "angles = np.linspace(0, 2 * np.pi, num_vars, endpoint=False).tolist()\n",
        "\n",
        "# The plot is made in a circular loop, so we need to \"complete the loop\" and append the start value to the end\n",
        "angles += angles[:1]\n",
        "\n",
        "# Plot\n",
        "fig, ax = plt.subplots(figsize=(6, 6), subplot_kw=dict(polar=True))\n",
        "\n",
        "# Fill the inner circle (values less than 3) with red\n",
        "theta = np.linspace(0, 2 * np.pi, 100)\n",
        "r = np.full_like(theta, 3)\n",
        "ax.fill(theta, r, color='red', alpha=0.1, zorder=1)\n",
        "\n",
        "# Plot mean values\n",
        "ax.plot(angles, mean_values_list, color='blue', linewidth=2, linestyle='solid', label='Mean')\n",
        "\n",
        "# Fill the area between mean ± standard deviation\n",
        "ax.fill(angles, mean_values_list, color='blue', alpha=0.25, zorder=2)\n",
        "\n",
        "# Calculate upper and lower bounds for the shaded area\n",
        "upper_bound = (mean_values + std_values).tolist()\n",
        "lower_bound = (mean_values - std_values).tolist()\n",
        "\n",
        "# Close the loop for upper and lower bounds\n",
        "upper_bound += upper_bound[:1]\n",
        "lower_bound += lower_bound[:1]\n",
        "\n",
        "# Fill the area between the upper and lower bounds\n",
        "ax.fill_between(angles, lower_bound, upper_bound, color='blue', alpha=0.1, zorder=2)\n",
        "\n",
        "# Add labels\n",
        "ax.set_yticklabels([])\n",
        "ax.set_xticks(angles[:-1])\n",
        "ax.set_xticklabels(categories)\n",
        "\n",
        "# Add horizontal scale numbers from 1 to 6\n",
        "ax.set_ylim(0, 6)  # Set the limit for y-axis\n",
        "ax.set_yticks(np.arange(1, 7))\n",
        "ax.yaxis.set_tick_params(labelsize=10)\n",
        "ax.set_yticklabels([str(i) for i in range(1, 7)])\n",
        "\n",
        "# Title\n",
        "plt.title('Likert Scale Radar Plot with Standard Deviation')\n",
        "\n",
        "# Add legend\n",
        "plt.legend(loc='upper right')\n",
        "\n",
        "# Show the plot\n",
        "plt.show()\n"
      ],
      "metadata": {
        "cellView": "form",
        "id": "nCVjkGfL5cjx"
      },
      "execution_count": null,
      "outputs": []
    },
    {
      "cell_type": "code",
      "source": [
        "#@markdown 2) Radar plot with median (negative area in red)\n",
        "import pandas as pd\n",
        "import numpy as np\n",
        "import matplotlib.pyplot as plt\n",
        "\n",
        "# Assuming df1 is your DataFrame and it is already defined\n",
        "\n",
        "# Define the Likert scale columns\n",
        "likert_columns = ['Q13', 'Q14', 'Q15', 'Q16']\n",
        "\n",
        "# Convert columns to numeric, coerce errors to NaN (useful if there are any non-numeric entries)\n",
        "df1[likert_columns] = df1[likert_columns].apply(pd.to_numeric, errors='coerce')\n",
        "\n",
        "# Compute the median and IQR for the specified columns\n",
        "median_values = df1[likert_columns].median()\n",
        "q1 = df1[likert_columns].quantile(0.25)\n",
        "q3 = df1[likert_columns].quantile(0.75)\n",
        "iqr_values = q3 - q1\n",
        "\n",
        "# Print median and IQR values to ensure correctness\n",
        "print(\"Median values of Likert scale columns:\")\n",
        "print(median_values)\n",
        "print(\"Interquartile range (IQR) of Likert scale columns:\")\n",
        "print(iqr_values)\n",
        "\n",
        "# Convert median and IQR values to lists and append the first value to close the radar chart loop\n",
        "median_values_list = median_values.tolist()\n",
        "median_values_list += median_values_list[:1]\n",
        "\n",
        "iqr_values_list = iqr_values.tolist()\n",
        "iqr_values_list += iqr_values_list[:1]\n",
        "\n",
        "# Define the categories\n",
        "categories = ['Reading', 'Writing', 'Listening', 'Speaking']\n",
        "\n",
        "# Number of variables\n",
        "num_vars = len(categories)\n",
        "\n",
        "# Compute angle for each category\n",
        "angles = np.linspace(0, 2 * np.pi, num_vars, endpoint=False).tolist()\n",
        "\n",
        "# The plot is made in a circular loop, so we need to \"complete the loop\" and append the start value to the end\n",
        "angles += angles[:1]\n",
        "\n",
        "# Plot\n",
        "fig, ax = plt.subplots(figsize=(6, 6), subplot_kw=dict(polar=True))\n",
        "\n",
        "# Fill the inner circle (values less than 3) with red\n",
        "theta = np.linspace(0, 2 * np.pi, 100)\n",
        "r = np.full_like(theta, 3)\n",
        "ax.fill(theta, r, color='red', alpha=0.1, zorder=1)\n",
        "\n",
        "# Plot median values\n",
        "ax.plot(angles, median_values_list, color='blue', linewidth=2, linestyle='solid', label='Median')\n",
        "\n",
        "# Fill the area between median ± IQR/2\n",
        "ax.fill(angles, median_values_list, color='blue', alpha=0.25, zorder=2)\n",
        "\n",
        "# Calculate upper and lower bounds for the shaded area\n",
        "upper_bound = (median_values + iqr_values / 2).tolist()\n",
        "lower_bound = (median_values - iqr_values / 2).tolist()\n",
        "\n",
        "# Close the loop for upper and lower bounds\n",
        "upper_bound += upper_bound[:1]\n",
        "lower_bound += lower_bound[:1]\n",
        "\n",
        "# Fill the area between the upper and lower bounds\n",
        "ax.fill_between(angles, lower_bound, upper_bound, color='blue', alpha=0.1, zorder=2)\n",
        "\n",
        "# Add labels\n",
        "ax.set_yticklabels([])  # Remove default y-tick labels\n",
        "ax.set_xticks(angles[:-1])\n",
        "ax.set_xticklabels(categories)\n",
        "\n",
        "# Add horizontal scale numbers from 1 to 6\n",
        "ax.set_ylim(0, 6)  # Set the limit for y-axis\n",
        "ax.set_yticks(np.arange(1, 7))\n",
        "ax.yaxis.set_tick_params(labelsize=10)\n",
        "ax.set_yticklabels([str(i) for i in range(1, 7)])\n",
        "\n",
        "# Title\n",
        "plt.title('Likert Scale Radar Plot with Interquartile Range (IQR)')\n",
        "\n",
        "# Add legend\n",
        "plt.legend(loc='upper right')\n",
        "\n",
        "# Show the plot\n",
        "plt.show()\n"
      ],
      "metadata": {
        "cellView": "form",
        "id": "eAFGjmU53YbP"
      },
      "execution_count": null,
      "outputs": []
    },
    {
      "cell_type": "markdown",
      "source": [],
      "metadata": {
        "id": "iuu7YVLG26Xp"
      }
    },
    {
      "cell_type": "markdown",
      "source": [
        "## [2] Before and After:\n",
        "\n",
        "Q10, 11. How would you rate **your perspective on coding-focused digital literacy training before and after** this course?\n",
        "\n",
        " 1 (Very negative); 6 (Very positive)"
      ],
      "metadata": {
        "id": "-1ojkYiM6NqV"
      }
    },
    {
      "cell_type": "code",
      "source": [
        "import pandas as pd\n",
        "\n",
        "# Define the Likert scale columns\n",
        "likert_columns = ['Q10', 'Q11']\n",
        "\n",
        "# Convert columns to numeric, coerce errors to NaN\n",
        "df1[likert_columns] = df1[likert_columns].apply(pd.to_numeric, errors='coerce')\n",
        "\n",
        "# Drop rows with NaN values in Q10 or Q11 to ensure the t-test works correctly\n",
        "df1.dropna(subset=likert_columns, inplace=True)"
      ],
      "metadata": {
        "id": "E2RCFs2Z7Y0R"
      },
      "execution_count": null,
      "outputs": []
    },
    {
      "cell_type": "markdown",
      "source": [
        "### t-test (Before and After): Q10, Q11"
      ],
      "metadata": {
        "id": "gHUk2SrY-swo"
      }
    },
    {
      "cell_type": "code",
      "source": [
        "from scipy.stats import ttest_rel\n",
        "\n",
        "# Perform paired t-test\n",
        "t_stat, p_value = ttest_rel(df1['Q10'], df1['Q11'])\n",
        "print(f\"Paired t-test results: t-statistic = {t_stat}, p-value = {p_value}\")\n"
      ],
      "metadata": {
        "id": "ijVTx9gp7kzl"
      },
      "execution_count": null,
      "outputs": []
    },
    {
      "cell_type": "code",
      "source": [
        "#@markdown Data summary and plots\n",
        "import pandas as pd\n",
        "import numpy as np\n",
        "import matplotlib.pyplot as plt\n",
        "from scipy.stats import wilcoxon\n",
        "\n",
        "# Assuming df1 is your DataFrame and it is already defined\n",
        "\n",
        "# Define the Likert scale columns\n",
        "likert_columns = ['Q10', 'Q11']\n",
        "\n",
        "# Convert columns to numeric, coerce errors to NaN\n",
        "df1[likert_columns] = df1[likert_columns].apply(pd.to_numeric, errors='coerce')\n",
        "\n",
        "# Drop rows with NaN values in Q10 or Q11 to ensure the test works correctly\n",
        "df1.dropna(subset=likert_columns, inplace=True)\n",
        "\n",
        "# Calculate descriptive statistics\n",
        "descriptive_stats = df1[likert_columns].describe()\n",
        "print(descriptive_stats)\n",
        "\n",
        "# Perform Wilcoxon signed-rank test\n",
        "w_stat, p_value = wilcoxon(df1['Q10'], df1['Q11'])\n",
        "print(f\"Wilcoxon signed-rank test results: W-statistic = {w_stat}, p-value = {p_value}\")\n",
        "\n",
        "# Visualizations\n",
        "\n",
        "# Box Plot\n",
        "plt.figure(figsize=(8, 6))\n",
        "df1[likert_columns].boxplot()\n",
        "plt.title('Box Plot of Likert Scale Responses Before and After Course')\n",
        "plt.xlabel('Questions')\n",
        "plt.ylabel('Responses')\n",
        "plt.xticks([1, 2], ['Before (Q10)', 'After (Q11)'])\n",
        "plt.show()\n",
        "\n",
        "# Paired Plot\n",
        "plt.figure(figsize=(8, 6))\n",
        "plt.plot(df1['Q10'], 'ro-', label='Before (Q10)')\n",
        "plt.plot(df1['Q11'], 'bo-', label='After (Q11)')\n",
        "plt.legend()\n",
        "plt.title('Paired Plot of Responses Before and After Course')\n",
        "plt.xlabel('Participants')\n",
        "plt.ylabel('Responses')\n",
        "plt.show()\n",
        "\n",
        "# Radar Plot\n",
        "# Calculate means\n",
        "means = df1[likert_columns].mean().tolist()\n",
        "\n",
        "# Define the categories\n",
        "categories = ['Before (Q10)', 'After (Q11)']\n",
        "\n",
        "# Number of variables\n",
        "num_vars = len(categories)\n",
        "\n",
        "# Compute angle for each category\n",
        "angles = np.linspace(0, 2 * np.pi, num_vars, endpoint=False).tolist()\n",
        "\n",
        "# The plot is made in a circular loop, so we need to \"complete the loop\" and append the start value to the end\n",
        "means += means[:1]\n",
        "angles += angles[:1]\n",
        "\n",
        "# Plot\n",
        "fig, ax = plt.subplots(figsize=(6, 6), subplot_kw=dict(polar=True))\n",
        "\n",
        "# Plot mean values\n",
        "ax.plot(angles, means, color='lightblue', linewidth=2, linestyle='solid', label='Mean Responses')\n",
        "ax.fill(angles, means, color='lightblue', alpha=0.25)\n",
        "\n",
        "# Add labels\n",
        "ax.set_yticklabels([])  # Remove default y-tick labels\n",
        "ax.set_xticks(angles[:-1])\n",
        "ax.set_xticklabels(categories)\n",
        "\n",
        "# Add horizontal scale numbers from 1 to 6\n",
        "ax.set_ylim(0, 6)  # Set the limit for y-axis\n",
        "ax.set_yticks(np.arange(1, 7))\n",
        "ax.yaxis.set_tick_params(labelsize=10)\n",
        "ax.set_yticklabels([str(i) for i in range(1, 7)])\n",
        "\n",
        "# Title\n",
        "plt.title('Radar Plot of Likert Scale Responses Before and After Course')\n",
        "\n",
        "# Add legend\n",
        "plt.legend(loc='upper right')\n",
        "\n",
        "# Show the plot\n",
        "plt.show()\n"
      ],
      "metadata": {
        "cellView": "form",
        "id": "OlM9xCKZ-tH6"
      },
      "execution_count": null,
      "outputs": []
    },
    {
      "cell_type": "markdown",
      "source": [
        "### Paired response plot: focusing on the changes (good)\n"
      ],
      "metadata": {
        "id": "0X3ypvf4_jyh"
      }
    },
    {
      "cell_type": "code",
      "source": [
        "#@markdown Q10, Q11 (before and after) difference plot\n",
        "import pandas as pd\n",
        "import numpy as np\n",
        "import matplotlib.pyplot as plt\n",
        "\n",
        "# Assuming df1 is your DataFrame and it is already defined\n",
        "\n",
        "# Define the Likert scale columns\n",
        "likert_columns = ['Q10', 'Q11']\n",
        "\n",
        "# Convert columns to numeric, coerce errors to NaN\n",
        "df1[likert_columns] = df1[likert_columns].apply(pd.to_numeric, errors='coerce')\n",
        "\n",
        "# Drop rows with NaN values in Q10 or Q11 to ensure the plot works correctly\n",
        "df1.dropna(subset=likert_columns, inplace=True)\n",
        "\n",
        "# Create paired plot\n",
        "plt.figure(figsize=(10, 6))\n",
        "\n",
        "# Plot the individual points for Q10 and Q11\n",
        "plt.scatter(df1.index, df1['Q10'], color='red', label='Before (Q10)')\n",
        "plt.scatter(df1.index, df1['Q11'], color='blue', label='After (Q11)')\n",
        "\n",
        "# Draw lines between the paired points to highlight changes\n",
        "for i in range(len(df1)):\n",
        "    plt.plot([i, i], [df1['Q10'].iloc[i], df1['Q11'].iloc[i]], color='gray', linestyle='-', linewidth=1)\n",
        "\n",
        "# Label the axes and the plot\n",
        "plt.title('Paired Plot of Responses Before and After Course Highlighting Changes')\n",
        "plt.xlabel('Participants')\n",
        "plt.ylabel('Responses')\n",
        "plt.xticks(df1.index)\n",
        "plt.yticks(np.arange(1, 7))  # Assuming Likert scale 1 to 6\n",
        "plt.ylim(0.5, 6.5)  # Set limits for y-axis to improve visibility\n",
        "\n",
        "# Add legend\n",
        "# plt.legend(loc='upper left')\n",
        "plt.legend(loc='lower right')\n",
        "\n",
        "# Show the plot\n",
        "plt.show()\n"
      ],
      "metadata": {
        "cellView": "form",
        "id": "b5lQhMI__jjJ"
      },
      "execution_count": null,
      "outputs": []
    },
    {
      "cell_type": "markdown",
      "source": [],
      "metadata": {
        "id": "VliMx876BuGc"
      }
    }
  ]
}