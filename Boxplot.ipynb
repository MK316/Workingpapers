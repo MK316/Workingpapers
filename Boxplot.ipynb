{
  "nbformat": 4,
  "nbformat_minor": 0,
  "metadata": {
    "colab": {
      "provenance": [],
      "authorship_tag": "ABX9TyMxVImB620+xVDrAFY7Fxz4",
      "include_colab_link": true
    },
    "kernelspec": {
      "name": "python3",
      "display_name": "Python 3"
    },
    "language_info": {
      "name": "python"
    }
  },
  "cells": [
    {
      "cell_type": "markdown",
      "metadata": {
        "id": "view-in-github",
        "colab_type": "text"
      },
      "source": [
        "<a href=\"https://colab.research.google.com/github/MK316/Workingpapers/blob/main/Boxplot.ipynb\" target=\"_parent\"><img src=\"https://colab.research.google.com/assets/colab-badge.svg\" alt=\"Open In Colab\"/></a>"
      ]
    },
    {
      "cell_type": "markdown",
      "source": [
        "# Boxplot using matplotlib"
      ],
      "metadata": {
        "id": "jXfrNDbRwetw"
      }
    },
    {
      "cell_type": "code",
      "execution_count": 1,
      "metadata": {
        "colab": {
          "base_uri": "https://localhost:8080/",
          "height": 295
        },
        "id": "MsjIpyX3wb1A",
        "outputId": "466b137c-9f02-4336-81d5-ce4a48bd948f"
      },
      "outputs": [
        {
          "output_type": "display_data",
          "data": {
            "text/plain": [
              "<Figure size 432x288 with 1 Axes>"
            ],
            "image/png": "[encoded data removed]"
          },
          "metadata": {
            "needs_background": "light"
          }
        }
      ],
      "source": [
        "import numpy as np\n",
        "import matplotlib.pyplot as plt\n",
        "\n",
        "# --- Your data, e.g. results per algorithm:\n",
        "data1 = [5,5,4,3,3,5]\n",
        "data2 = [6,6,4,6,8,5]\n",
        "data3 = [7,8,4,5,8,2]\n",
        "data4 = [6,9,3,6,8,4]\n",
        "\n",
        "# --- Combining your data:\n",
        "data_group1 = [data1, data2]\n",
        "data_group2 = [data3, data4]\n",
        "\n",
        "# --- Labels for your data:\n",
        "labels_list = ['a','b']\n",
        "xlocations  = range(len(data_group1))\n",
        "width       = 0.3\n",
        "symbol      = 'r+'\n",
        "ymin        = 0\n",
        "ymax        = 10\n",
        "\n",
        "ax = plt.gca()\n",
        "ax.set_ylim(ymin,ymax)\n",
        "ax.set_xticklabels( labels_list, rotation=0 )\n",
        "ax.grid(True, linestyle='dotted')\n",
        "ax.set_axisbelow(True)\n",
        "ax.set_xticks(xlocations)\n",
        "plt.xlabel('X axis label')\n",
        "plt.ylabel('Y axis label')\n",
        "plt.title('title')\n",
        "\n",
        "# --- Offset the positions per group:\n",
        "positions_group1 = [x-(width+0.01) for x in xlocations]\n",
        "positions_group2 = xlocations\n",
        "\n",
        "plt.boxplot(data_group1, \n",
        "            sym=symbol,\n",
        "            labels=['']*len(labels_list),\n",
        "            positions=positions_group1, \n",
        "            widths=width, \n",
        "#           notch=False,  \n",
        "#           vert=True, \n",
        "#           whis=1.5,\n",
        "#           bootstrap=None, \n",
        "#           usermedians=None, \n",
        "#           conf_intervals=None,\n",
        "#           patch_artist=False,\n",
        "            )\n",
        "\n",
        "plt.boxplot(data_group2, \n",
        "            labels=labels_list,\n",
        "            sym=symbol,\n",
        "            positions=positions_group2, \n",
        "            widths=width, \n",
        "#           notch=False,  \n",
        "#           vert=True, \n",
        "#           whis=1.5,\n",
        "#           bootstrap=None, \n",
        "#           usermedians=None, \n",
        "#           conf_intervals=None,\n",
        "#           patch_artist=False,\n",
        "            )\n",
        "\n",
        "plt.savefig('boxplot_grouped.png')  \n",
        "plt.savefig('boxplot_grouped.pdf')    # when publishing, use high quality PDFs\n",
        "#plt.show()                   # uncomment to show the plot. "
      ]
    },
    {
      "cell_type": "markdown",
      "source": [
        "# Color boxplots"
      ],
      "metadata": {
        "id": "IsGSVsG6wkt9"
      }
    },
    {
      "cell_type": "code",
      "source": [
        "import pandas as pd\n",
        "import matplotlib.pyplot as plt\n",
        "import seaborn as sns\n",
        "\n",
        "df = pd.DataFrame({'Group':['A','A','A','B','C','B','B','C','A','C'],\\\n",
        "                  'Apple':np.random.rand(10),'Orange':np.random.rand(10)})\n",
        "df = df[['Group','Apple','Orange']]\n",
        "\n",
        "dd=pd.melt(df,id_vars=['Group'],value_vars=['Apple','Orange'],var_name='fruits')\n",
        "sns.boxplot(x='Group',y='value',data=dd,hue='fruits')"
      ],
      "metadata": {
        "colab": {
          "base_uri": "https://localhost:8080/",
          "height": 297
        },
        "id": "1XIrFgrqwmm0",
        "outputId": "c8205761-2ec9-4ad5-cf10-6bc198cfa5a7"
      },
      "execution_count": 2,
      "outputs": [
        {
          "output_type": "execute_result",
          "data": {
            "text/plain": [
              "<matplotlib.axes._subplots.AxesSubplot at 0x7fe419dab990>"
            ]
          },
          "metadata": {},
          "execution_count": 2
        },
        {
          "output_type": "display_data",
          "data": {
            "text/plain": [
              "<Figure size 432x288 with 1 Axes>"
            ],
            "image/png": "[encoded data removed]"
          },
          "metadata": {
            "needs_background": "light"
          }
        }
      ]
    },
    {
      "cell_type": "code",
      "source": [
        "positions_group1 = [x-(width+0.01) for x in xlocations]\n",
        "positions_group2 = xlocations\n",
        "\n",
        "plt.boxplot(data_group1, \n",
        "            sym=symbol,\n",
        "            labels=['']*len(labels_list),\n",
        "            positions=positions_group1, \n",
        "            widths=width, \n",
        "#           notch=False,  \n",
        "#           vert=True, \n",
        "#           whis=1.5,\n",
        "#           bootstrap=None, \n",
        "#           usermedians=None, \n",
        "#           conf_intervals=None,\n",
        "#           patch_artist=False,\n",
        "            )\n",
        "\n",
        "plt.boxplot(data_group2, \n",
        "            labels=labels_list,\n",
        "            sym=symbol,\n",
        "            positions=positions_group2, \n",
        "            widths=width, \n",
        "#           notch=False,  \n",
        "#           vert=True, \n",
        "#           whis=1.5,\n",
        "#           bootstrap=None, \n",
        "#           usermedians=None, \n",
        "#           conf_intervals=None,\n",
        "#           patch_artist=False,\n",
        "            )\n",
        "\n",
        "plt.savefig('boxplot_grouped.png')  \n",
        "plt.savefig('boxplot_grouped.pdf')    # when publishing, use high quality PDFs\n",
        "#plt.show()                   # uncomment to show the plot. "
      ],
      "metadata": {
        "id": "glI8VDg4xR9g",
        "outputId": "4986c348-6eb6-4039-d162-d09b8bb343db",
        "colab": {
          "base_uri": "https://localhost:8080/",
          "height": 265
        }
      },
      "execution_count": 3,
      "outputs": [
        {
          "output_type": "display_data",
          "data": {
            "text/plain": [
              "<Figure size 432x288 with 1 Axes>"
            ],
            "image/png": "[encoded data removed]"
          },
          "metadata": {
            "needs_background": "light"
          }
        }
      ]
    }
  ]
}