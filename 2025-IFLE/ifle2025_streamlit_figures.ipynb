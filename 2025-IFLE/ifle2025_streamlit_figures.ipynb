{
  "nbformat": 4,
  "nbformat_minor": 0,
  "metadata": {
    "colab": {
      "private_outputs": true,
      "provenance": [],
      "authorship_tag": "ABX9TyOJz+OfetLDJ0HWIgUMVAZX",
      "include_colab_link": true
    },
    "kernelspec": {
      "name": "python3",
      "display_name": "Python 3"
    },
    "language_info": {
      "name": "python"
    }
  },
  "cells": [
    {
      "cell_type": "markdown",
      "metadata": {
        "id": "view-in-github",
        "colab_type": "text"
      },
      "source": [
        "<a href=\"https://colab.research.google.com/github/MK316/Workingpapers/blob/main/2025-IFLE/ifle2025_streamlit_figures.ipynb\" target=\"_parent\"><img src=\"https://colab.research.google.com/assets/colab-badge.svg\" alt=\"Open In Colab\"/></a>"
      ]
    },
    {
      "cell_type": "markdown",
      "source": [
        "# IFLE analysis 2025"
      ],
      "metadata": {
        "id": "grF28U0Ih8pP"
      }
    },
    {
      "cell_type": "code",
      "execution_count": null,
      "metadata": {
        "id": "leUjcb2Qh7wj"
      },
      "outputs": [],
      "source": [
        "# STEP 1: Import libraries\n",
        "import pandas as pd\n",
        "from google.colab import files\n",
        "\n",
        "# STEP 2: Upload CSV file (assume it contains columns like 'StudentID', 'EQ2', 'EQ3')\n",
        "uploaded = files.upload()\n",
        "\n",
        "# STEP 3: Load data into DataFrame\n",
        "df = pd.read_csv(next(iter(uploaded)))  # Automatically selects the uploaded file\n",
        "df.head()  # Display first few rows\n"
      ]
    },
    {
      "cell_type": "markdown",
      "source": [],
      "metadata": {
        "id": "RSfAdLDoiMRu"
      }
    },
    {
      "cell_type": "code",
      "source": [
        "# View EQ2 column (adjust column name if necessary)\n",
        "eq2_data = df['EQ2-E']  # Change to 'EQ2-English' or similar if that's your column name\n",
        "eq2_data.head(10)\n"
      ],
      "metadata": {
        "id": "0aghUG-hiMr6"
      },
      "execution_count": null,
      "outputs": []
    },
    {
      "cell_type": "markdown",
      "source": [],
      "metadata": {
        "id": "v0asJVzOiSc0"
      }
    },
    {
      "cell_type": "markdown",
      "source": [
        "TF-IDF to extract keywords"
      ],
      "metadata": {
        "id": "m0NMtkp4lXel"
      }
    },
    {
      "cell_type": "code",
      "source": [],
      "metadata": {
        "id": "rMBivXi_lX0I"
      },
      "execution_count": null,
      "outputs": []
    },
    {
      "cell_type": "code",
      "source": [
        "# Define basic keyword categories for themes\n",
        "themes = {\n",
        "    'Perspective Shift': ['changed', 'realize', 'understand', 'perception', 'view', 'rethink'],\n",
        "    'Future Role as Teacher': ['future', 'as a teacher', 'teach', 'students', 'my classroom'],\n",
        "    'Instructional Design': ['design', 'structure', 'lesson', 'plan', 'sequence'],\n",
        "    'Student-Centered Learning': ['learner', 'student-centered', 'engagement', 'participation'],\n",
        "    'Digital Tool Effectiveness': ['useful', 'effective', 'tts', 'quiz', 'dictionary', 'streamlit'],\n",
        "    'Prior Skepticism': ['never thought', 'negative', 'limited', 'did not think', 'questioned']\n",
        "}"
      ],
      "metadata": {
        "id": "wQNiMqz9iSw4"
      },
      "execution_count": null,
      "outputs": []
    },
    {
      "cell_type": "code",
      "source": [
        "# Function to classify a response based on keywords\n",
        "def identify_themes(text):\n",
        "    matched = []\n",
        "    for theme, keywords in themes.items():\n",
        "        if any(keyword.lower() in text.lower() for keyword in keywords):\n",
        "            matched.append(theme)\n",
        "    return ', '.join(matched) if matched else 'Other'\n",
        "\n",
        "# Apply to EQ2 column\n",
        "df['EQ2_Themes'] = df['EQ2-E'].apply(identify_themes)\n",
        "df[['SID', 'EQ2-E', 'EQ2_Themes']]  # Display with themes\n"
      ],
      "metadata": {
        "id": "4G8_y21ZiYlY"
      },
      "execution_count": null,
      "outputs": []
    },
    {
      "cell_type": "code",
      "source": [
        "# Count how many times each theme appears\n",
        "from collections import Counter\n",
        "from itertools import chain\n",
        "\n",
        "theme_counts = Counter(chain.from_iterable(df['EQ2_Themes'].str.split(', ')))\n",
        "theme_counts = dict(sorted(theme_counts.items(), key=lambda x: x[1], reverse=True))\n",
        "theme_counts\n"
      ],
      "metadata": {
        "id": "A3ZVs-Naif8q"
      },
      "execution_count": null,
      "outputs": []
    }
  ]
}