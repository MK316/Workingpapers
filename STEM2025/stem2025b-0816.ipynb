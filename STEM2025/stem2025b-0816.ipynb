{
  "nbformat": 4,
  "nbformat_minor": 0,
  "metadata": {
    "colab": {
      "private_outputs": true,
      "provenance": [],
      "authorship_tag": "ABX9TyPEqZoa3edd1HB07qQEVSGq",
      "include_colab_link": true
    },
    "kernelspec": {
      "name": "python3",
      "display_name": "Python 3"
    },
    "language_info": {
      "name": "python"
    }
  },
  "cells": [
    {
      "cell_type": "markdown",
      "metadata": {
        "id": "view-in-github",
        "colab_type": "text"
      },
      "source": [
        "<a href=\"https://colab.research.google.com/github/MK316/Workingpapers/blob/main/STEM2025/stem2025b-0816.ipynb\" target=\"_parent\"><img src=\"https://colab.research.google.com/assets/colab-badge.svg\" alt=\"Open In Colab\"/></a>"
      ]
    },
    {
      "cell_type": "markdown",
      "source": [
        "# STEM-revision0816"
      ],
      "metadata": {
        "id": "dcTQoCXgMP6x"
      }
    },
    {
      "cell_type": "markdown",
      "source": [
        "# Figure 1"
      ],
      "metadata": {
        "id": "HdoIGoyZzvtp"
      }
    },
    {
      "cell_type": "code",
      "source": [
        "#@markdown Figure 1 code: Exposure to Python\n",
        "import matplotlib.pyplot as plt\n",
        "\n",
        "# Data setup\n",
        "responses = {\n",
        "    1: 9,\n",
        "    2: 1,\n",
        "    3: 1,\n",
        "    4: 1,\n",
        "    5: 1,\n",
        "    6: 0\n",
        "}\n",
        "\n",
        "# Prepare data\n",
        "x = list(responses.keys())\n",
        "y = list(responses.values())\n",
        "total = sum(y)\n",
        "\n",
        "# Plotting\n",
        "plt.figure(figsize=(8, 6))\n",
        "bars = plt.bar(x, y, color='darkblue', edgecolor='black')\n",
        "\n",
        "# Add percentage labels on top and count inside each bar\n",
        "for bar, count in zip(bars, y):\n",
        "    bar_x = bar.get_x() + bar.get_width() / 2\n",
        "    bar_height = bar.get_height()\n",
        "\n",
        "    # Percent label on top\n",
        "    if count > 0:\n",
        "        percent = (count / total) * 100\n",
        "        plt.text(bar_x, bar_height + 0.3, f'{percent:.1f}%', ha='center', va='bottom', fontsize=16)\n",
        "\n",
        "    # Count label inside bar\n",
        "    if count > 0:\n",
        "        plt.text(bar_x, bar_height / 2, f'{count}', ha='center', va='center', fontsize=16, color='white', fontweight='bold')\n",
        "\n",
        "plt.xticks(x)\n",
        "# plt.xlabel(\"Response (1 = Least Experience, 6 = Most Experience)\", fontsize=16)\n",
        "plt.xlabel(r\"Response (1 = $\\mathit{Least\\ Familiar}$, 6 = $\\mathit{Most\\ Familiar}$)\", fontsize=16)\n",
        "\n",
        "plt.ylabel(\"Number of Students\", fontsize=16)\n",
        "plt.ylim(0,10)\n",
        "plt.yticks(fontsize=16)\n",
        "# plt.title(\"Students' Experience with Programming Languages (Python)\")\n",
        "plt.grid(axis='y', linestyle='--', alpha=0.7)\n",
        "plt.savefig('figure1b.png', dpi=300, bbox_inches='tight')\n",
        "plt.tight_layout()\n",
        "plt.show()\n"
      ],
      "metadata": {
        "cellView": "form",
        "id": "a_eKAlouuz7x"
      },
      "execution_count": null,
      "outputs": []
    },
    {
      "cell_type": "markdown",
      "source": [
        "Figure 3: Other digital tools"
      ],
      "metadata": {
        "id": "W9_BHhNlz685"
      }
    },
    {
      "cell_type": "code",
      "source": [
        "#@markdown Figure 1b code: Exposure to Python\n",
        "import matplotlib.pyplot as plt\n",
        "\n",
        "# Data setup\n",
        "responses = {\n",
        "    1: 2,\n",
        "    2: 5,\n",
        "    3: 2,\n",
        "    4: 1,\n",
        "    5: 2,\n",
        "    6: 0\n",
        "}\n",
        "\n",
        "# Prepare data\n",
        "x = list(responses.keys())\n",
        "y = list(responses.values())\n",
        "total = sum(y)\n",
        "\n",
        "# Plotting\n",
        "plt.figure(figsize=(8, 6))\n",
        "bars = plt.bar(x, y, color='orange', edgecolor='black')\n",
        "\n",
        "# Add percentage labels on top and count inside each bar\n",
        "for bar, count in zip(bars, y):\n",
        "    bar_x = bar.get_x() + bar.get_width() / 2\n",
        "    bar_height = bar.get_height()\n",
        "\n",
        "    # Percent label on top\n",
        "    if count > 0:\n",
        "        percent = (count / total) * 100\n",
        "        plt.text(bar_x, bar_height + 0.3, f'{percent:.1f}%', ha='center', va='bottom', fontsize=16)\n",
        "\n",
        "    # Count label inside bar\n",
        "    if count > 0:\n",
        "        plt.text(bar_x, bar_height / 2, f'{count}', ha='center', va='center', fontsize=16, color='white', fontweight='bold')\n",
        "\n",
        "plt.xticks(x)\n",
        "# plt.xlabel(\"Response (1 = Not at all, 6 = Extensively used)\", fontsize=16)\n",
        "plt.xlabel(r\"Response (1 = $\\mathit{Not\\ at\\ All}$, 6 = $\\mathit{Extensively}$)\", fontsize=16)\n",
        "plt.ylabel(\"Number of Students\", fontsize=16)\n",
        "plt.ylim(0,10)\n",
        "plt.yticks(fontsize=16)\n",
        "# plt.title(\"Before Creation: Familiarity with Ready-Made Digital Tools\")\n",
        "plt.grid(axis='y', linestyle='--', alpha=0.7)\n",
        "plt.savefig('figure1a.png', dpi=300, bbox_inches='tight')\n",
        "plt.tight_layout()\n",
        "plt.show()\n"
      ],
      "metadata": {
        "id": "YaVXtuwp2qnA",
        "cellView": "form"
      },
      "execution_count": null,
      "outputs": []
    },
    {
      "cell_type": "markdown",
      "source": [
        "# IV. Results"
      ],
      "metadata": {
        "id": "4Lci9NmzNbQw"
      }
    },
    {
      "cell_type": "markdown",
      "source": [
        "## 1) Manageability of Python Learning (Q1)"
      ],
      "metadata": {
        "id": "EpIsUPu7NfFu"
      }
    },
    {
      "cell_type": "code",
      "source": [
        "import matplotlib.pyplot as plt\n",
        "\n",
        "# Q1 responses: 4(1 student), 5(9), 6(3)\n",
        "labels = [1, 2, 3, 4, 5, 6]\n",
        "counts = [0, 0, 0, 1, 9, 3]\n",
        "total = sum(counts)\n",
        "\n",
        "# Set up the plot\n",
        "plt.figure(figsize=(8, 2))\n",
        "bars = plt.bar(labels, counts, color='darkblue')\n",
        "\n",
        "# Add percentage inside bars and count above bars\n",
        "for bar, count in zip(bars, counts):\n",
        "    if count > 0:\n",
        "        percent = f\"{(count / total) * 100:.0f}%\"\n",
        "        # Percent inside bar\n",
        "        plt.text(bar.get_x() + bar.get_width()/2,\n",
        "                 bar.get_height()/2,\n",
        "                 percent,\n",
        "                 ha='center',\n",
        "                 va='center',\n",
        "                 color='white',\n",
        "                 fontsize=10,\n",
        "                 fontweight='bold')\n",
        "    # Count above bar (even if 0)\n",
        "    plt.text(bar.get_x() + bar.get_width()/2,\n",
        "             bar.get_height() + 0.1,\n",
        "             str(count),\n",
        "             ha='center',\n",
        "             va='bottom',\n",
        "             fontsize=10)\n",
        "\n",
        "# Chart formatting\n",
        "plt.xticks(labels)\n",
        "# plt.xlabel('Response (1 = Strongly Disagree, 6 = Strongly Agree)')\n",
        "plt.xlabel(r\"Response (1 = $\\mathit{Strongly\\ Disagree}$, 6 = $\\mathit{Strongly\\ Agree}$)\", fontsize=16)\n",
        "plt.ylabel('Number of Students')\n",
        "plt.ylim(0, max(counts) + 2)\n",
        "plt.grid(axis='y', linestyle='--', alpha=0.7)\n",
        "\n",
        "plt.tight_layout()\n",
        "plt.show()\n"
      ],
      "metadata": {
        "id": "jRTTzsNF2pMT"
      },
      "execution_count": null,
      "outputs": []
    },
    {
      "cell_type": "markdown",
      "source": [
        "### Percent included"
      ],
      "metadata": {
        "id": "N69kunb9HK5i"
      }
    },
    {
      "cell_type": "code",
      "source": [
        "import matplotlib.pyplot as plt\n",
        "\n",
        "# Q1 responses: 4(1 student), 5(9), 6(3)\n",
        "# Full scale from 1 to 6\n",
        "labels = [1, 2, 3, 4, 5, 6]\n",
        "counts = [0, 0, 0, 1, 9, 3]\n",
        "total = sum(counts)\n",
        "\n",
        "# Set up the plot\n",
        "plt.figure(figsize=(8, 3))\n",
        "bars = plt.bar(labels, counts, color='darkblue')\n",
        "\n",
        "# Add percentage labels inside bars in white\n",
        "for bar, count in zip(bars, counts):\n",
        "    if count > 0:\n",
        "        percent = f\"{(count / total) * 100:.0f}%\"\n",
        "        plt.text(bar.get_x() + bar.get_width()/2,\n",
        "                 bar.get_height()/2,\n",
        "                 percent,\n",
        "                 ha='center',\n",
        "                 va='center',\n",
        "                 color='white',\n",
        "                 fontsize=10,\n",
        "                 fontweight='bold')\n",
        "\n",
        "# Chart formatting\n",
        "plt.xticks(labels)\n",
        "plt.xlabel('Response (1 = Strongly Disagree, 6 = Strongly Agree)')\n",
        "plt.ylabel('Number of Students')\n",
        "# plt.title('Q1: Manageability of Python Learning')\n",
        "plt.ylim(0, max(counts) + 1)\n",
        "plt.grid(axis='y', linestyle='--', alpha=0.7)\n",
        "\n",
        "plt.tight_layout()\n",
        "plt.show()\n"
      ],
      "metadata": {
        "id": "nODg2Q5fHN8V"
      },
      "execution_count": null,
      "outputs": []
    },
    {
      "cell_type": "markdown",
      "source": [
        "Q2 figure"
      ],
      "metadata": {
        "id": "MksO9lCqK-od"
      }
    },
    {
      "cell_type": "code",
      "source": [
        "import matplotlib.pyplot as plt\n",
        "\n",
        "# Q2 responses: 4(1 student), 5(9), 6(3)\n",
        "# Full scale from 1 to 6\n",
        "labels = [1, 2, 3, 4, 5, 6]\n",
        "counts = [0, 0, 0, 3, 5, 5]\n",
        "total = sum(counts)\n",
        "\n",
        "# \"Q2. Streamlit Use\": {4: 3, 5: 5, 6: 5},\n",
        "\n",
        "# Set up the plot\n",
        "plt.figure(figsize=(8, 2))\n",
        "bars = plt.bar(labels, counts, color='darkblue')\n",
        "\n",
        "# Add percentage labels inside bars in white\n",
        "for bar, count in zip(bars, counts):\n",
        "    if count > 0:\n",
        "        percent = f\"{(count / total) * 100:.0f}%\"\n",
        "        plt.text(bar.get_x() + bar.get_width()/2,\n",
        "                 bar.get_height()/2,\n",
        "                 percent,\n",
        "                 ha='center',\n",
        "                 va='center',\n",
        "                 color='white',\n",
        "                 fontsize=10,\n",
        "                 fontweight='bold')\n",
        "\n",
        "# Chart formatting\n",
        "plt.xticks(labels)\n",
        "plt.xlabel('Response (1 = Strongly Disagree, 6 = Strongly Agree)')\n",
        "plt.ylabel('Number of Students')\n",
        "# plt.title('Q2: Effectiveness using Streamlit ')\n",
        "plt.ylim(0, max(counts) + 1)\n",
        "plt.grid(axis='y', linestyle='--', alpha=0.7)\n",
        "\n",
        "plt.tight_layout()\n",
        "plt.show()\n"
      ],
      "metadata": {
        "id": "Bd6iqQkELBFp"
      },
      "execution_count": null,
      "outputs": []
    },
    {
      "cell_type": "markdown",
      "source": [
        "### Q3"
      ],
      "metadata": {
        "id": "KYaQTgHGNjBr"
      }
    },
    {
      "cell_type": "code",
      "source": [
        "import matplotlib.pyplot as plt\n",
        "\n",
        "# Q2 responses: 4(1 student), 5(9), 6(3)\n",
        "# Full scale from 1 to 6\n",
        "labels = [1, 2, 3, 4, 5, 6]\n",
        "counts = [0, 0, 0, 0, 6, 7]\n",
        "total = sum(counts)\n",
        "\n",
        "# Q3. Creative Thinking\": {5: 6, 6: 7},\n",
        "\n",
        "# Set up the plot\n",
        "plt.figure(figsize=(8, 2))\n",
        "bars = plt.bar(labels, counts, color='darkblue')\n",
        "\n",
        "# Add percentage labels inside bars in white\n",
        "for bar, count in zip(bars, counts):\n",
        "    if count > 0:\n",
        "        percent = f\"{(count / total) * 100:.0f}%\"\n",
        "        plt.text(bar.get_x() + bar.get_width()/2,\n",
        "                 bar.get_height()/2,\n",
        "                 percent,\n",
        "                 ha='center',\n",
        "                 va='center',\n",
        "                 color='white',\n",
        "                 fontsize=10,\n",
        "                 fontweight='bold')\n",
        "\n",
        "# Chart formatting\n",
        "plt.xticks(labels)\n",
        "plt.xlabel('Response (1 = Strongly Disagree, 6 = Strongly Agree)')\n",
        "plt.ylabel('Number of Students')\n",
        "# plt.title('Q3: Creative Rethinking of English Teaching  ')\n",
        "plt.ylim(0, max(counts) + 1)\n",
        "plt.grid(axis='y', linestyle='--', alpha=0.7)\n",
        "\n",
        "plt.tight_layout()\n",
        "plt.show()\n"
      ],
      "metadata": {
        "id": "xYqRzzyjNkrU"
      },
      "execution_count": null,
      "outputs": []
    },
    {
      "cell_type": "markdown",
      "source": [
        "### Q4 plot"
      ],
      "metadata": {
        "id": "Krs3LG2_QJ1P"
      }
    },
    {
      "cell_type": "code",
      "source": [
        "import matplotlib.pyplot as plt\n",
        "\n",
        "# Q2 responses: 4(1 student), 5(9), 6(3)\n",
        "# Full scale from 1 to 6\n",
        "labels = [1, 2, 3, 4, 5, 6]\n",
        "counts = [0, 0, 1, 1, 7, 4]\n",
        "total = sum(counts)\n",
        "\n",
        "#  \"Q4. Motivation to Explore\": {3: 1, 4: 1, 5: 7, 6: 4},\n",
        "\n",
        "# Set up the plot\n",
        "plt.figure(figsize=(8, 2))\n",
        "bars = plt.bar(labels, counts, color='darkblue')\n",
        "\n",
        "# Add percentage labels inside bars in white\n",
        "for bar, count in zip(bars, counts):\n",
        "    if count > 0:\n",
        "        percent = f\"{(count / total) * 100:.0f}%\"\n",
        "        plt.text(bar.get_x() + bar.get_width()/2,\n",
        "                 bar.get_height()/2,\n",
        "                 percent,\n",
        "                 ha='center',\n",
        "                 va='center',\n",
        "                 color='white',\n",
        "                 fontsize=10,\n",
        "                 fontweight='bold')\n",
        "\n",
        "# Chart formatting\n",
        "plt.xticks(labels)\n",
        "plt.xlabel('Response (1 = Strongly Disagree, 6 = Strongly Agree)')\n",
        "plt.ylabel('Number of Students')\n",
        "# plt.title('Q4: Motivation for app-based exploration ')\n",
        "plt.ylim(0, max(counts) + 1)\n",
        "plt.grid(axis='y', linestyle='--', alpha=0.7)\n",
        "\n",
        "plt.tight_layout()\n",
        "plt.show()\n"
      ],
      "metadata": {
        "id": "U4ScqJB5QLPS"
      },
      "execution_count": null,
      "outputs": []
    },
    {
      "cell_type": "markdown",
      "source": [
        "### Q4: orange color if less than 4"
      ],
      "metadata": {
        "id": "HUhp96RVQyPD"
      }
    },
    {
      "cell_type": "code",
      "source": [
        "import matplotlib.pyplot as plt\n",
        "\n",
        "# Q4 responses: 3(1), 4(1), 5(7), 6(4)\n",
        "labels = [1, 2, 3, 4, 5, 6]\n",
        "counts = [0, 0, 1, 1, 7, 4]\n",
        "total = sum(counts)\n",
        "\n",
        "# Assign colors: use 'orange' for rating 3 (index 2), 'darkblue' for the rest\n",
        "colors = ['darkblue' if i != 2 else 'orange' for i in range(len(labels))]\n",
        "\n",
        "# Set up the plot\n",
        "plt.figure(figsize=(8, 2))\n",
        "bars = plt.bar(labels, counts, color=colors)\n",
        "\n",
        "# Add percentage labels inside bars\n",
        "for bar, count in zip(bars, counts):\n",
        "    if count > 0:\n",
        "        percent = f\"{(count / total) * 100:.0f}%\"\n",
        "        plt.text(bar.get_x() + bar.get_width()/2,\n",
        "                 bar.get_height()/2,\n",
        "                 percent,\n",
        "                 ha='center',\n",
        "                 va='center',\n",
        "                 color='white',\n",
        "                 fontsize=10,\n",
        "                 fontweight='bold')\n",
        "\n",
        "# Chart formatting\n",
        "plt.xticks(labels)\n",
        "plt.xlabel('Response (1 = Strongly Disagree, 6 = Strongly Agree)')\n",
        "plt.ylabel('Number of Students')\n",
        "plt.ylim(0, max(counts) + 1)\n",
        "plt.grid(axis='y', linestyle='--', alpha=0.7)\n",
        "\n",
        "plt.tight_layout()\n",
        "plt.show()\n"
      ],
      "metadata": {
        "id": "oKRznNZpQwnI"
      },
      "execution_count": null,
      "outputs": []
    },
    {
      "cell_type": "code",
      "source": [
        "#@markdown Section I 4 figures together\n",
        "import matplotlib.pyplot as plt\n",
        "import numpy as np\n",
        "\n",
        "# Define the data\n",
        "data = {\n",
        "    \"Q1. Python Manageability\": {4: 1, 5: 9, 6: 3},\n",
        "    \"Q2. Streamlit Use\": {4: 3, 5: 5, 6: 5},\n",
        "    \"Q3. Creative Thinking\": {5: 6, 6: 7},\n",
        "    \"Q4. Motivation to Explore\": {3: 1, 4: 1, 5: 7, 6: 4},\n",
        "}\n",
        "\n",
        "# Plot settings\n",
        "fig, axes = plt.subplots(nrows=4, figsize=(10, 8), sharex=True)\n",
        "scale = [1, 2, 3, 4, 5, 6]\n",
        "\n",
        "for ax, (question, response_counts) in zip(axes, data.items()):\n",
        "    counts = [response_counts.get(i, 0) for i in scale]\n",
        "    colors = ['orange' if i < 4 else 'steelblue' for i in scale]\n",
        "\n",
        "    ax.bar(scale, counts, color=colors)\n",
        "    ax.axvline(x=3.5, color='gray', linestyle='--')  # Line between 3 and 4\n",
        "    ax.set_ylabel(\"Students\")\n",
        "    ax.set_title(question, loc='left', fontsize=10)\n",
        "    ax.set_ylim(0, max(counts) + 1)\n",
        "    ax.set_xticks(scale)\n",
        "\n",
        "axes[-1].set_xlabel(\"Response Scale (1 = Strongly Disagree, 6 = Strongly Agree)\")\n",
        "plt.tight_layout()\n",
        "plt.show()\n"
      ],
      "metadata": {
        "id": "XbrJptV2QXBM"
      },
      "execution_count": null,
      "outputs": []
    },
    {
      "cell_type": "markdown",
      "source": [
        "## STEM: after splitting the data\n",
        "Q7-Q10 to Q1-Q4\n",
        "\n",
        "|Q|1|2|3|4|5|6|\n",
        "|--|--|--|--|--|--|--|\n",
        "|Q7|0|0|0|1|7|5|\n",
        "|Q8|0|0|0|1|8|4|\n",
        "|Q9|0|0|0|0|6|7|\n",
        "|Q10|0|0|1|0|5|7|\n"
      ],
      "metadata": {
        "id": "rfEIVn0xYg8X"
      }
    },
    {
      "cell_type": "code",
      "source": [
        "import numpy as np\n",
        "import pandas as pd\n",
        "\n",
        "# Create a frequency table based on your image\n",
        "# Q7~Q10 => Q1~Q4\n",
        "data = {\n",
        "    'Q1': [0, 0, 0, 1, 7, 5],\n",
        "    'Q2': [0, 0, 0, 1, 8, 4],\n",
        "    'Q3': [0, 0, 0, 0, 6, 7],\n",
        "    'Q4': [0, 0, 1, 0, 5, 7]\n",
        "}\n",
        "\n",
        "# Convert to DataFrame\n",
        "df = pd.DataFrame(data, index=[1, 2, 3, 4, 5, 6])\n",
        "\n",
        "# Function to compute weighted mean and SD\n",
        "def weighted_stats(counts):\n",
        "    values = np.array([1, 2, 3, 4, 5, 6])\n",
        "    freqs = np.array(counts)\n",
        "    total = freqs.sum()\n",
        "    mean = np.average(values, weights=freqs)\n",
        "    variance = np.average((values - mean)**2, weights=freqs)\n",
        "    std_dev = np.sqrt(variance)\n",
        "    return round(mean, 2), round(std_dev, 2)\n",
        "\n",
        "# Apply function to each column\n",
        "for col in df.columns:\n",
        "    mean, sd = weighted_stats(df[col])\n",
        "    print(f\"{col}: Mean = {mean}, SD = {sd}\")\n"
      ],
      "metadata": {
        "id": "1xVE07SqaWbY"
      },
      "execution_count": null,
      "outputs": []
    },
    {
      "cell_type": "markdown",
      "source": [
        "### Individual plots"
      ],
      "metadata": {
        "id": "oBkxqlc-ZeVB"
      }
    },
    {
      "cell_type": "code",
      "source": [
        "import matplotlib.pyplot as plt\n",
        "\n",
        "# Q1 responses: 1,7,5\n",
        "labels = [1, 2, 3, 4, 5, 6]\n",
        "counts = [0, 0, 0, 1, 7, 5]\n",
        "total = sum(counts)\n",
        "\n",
        "# Set up the plot\n",
        "plt.figure(figsize=(8, 2))\n",
        "bars = plt.bar(labels, counts, color='darkblue')\n",
        "\n",
        "# Add percentage inside bars and count above bars\n",
        "for bar, count in zip(bars, counts):\n",
        "    if count > 0:\n",
        "        percent = f\"{(count / total) * 100:.0f}%\"\n",
        "        # Percent inside bar\n",
        "        plt.text(bar.get_x() + bar.get_width()/2,\n",
        "                 bar.get_height()/2,\n",
        "                 percent,\n",
        "                 ha='center',\n",
        "                 va='center',\n",
        "                 color='white',\n",
        "                 fontsize=10,\n",
        "                 fontweight='bold')\n",
        "    # Count above bar (even if 0)\n",
        "    plt.text(bar.get_x() + bar.get_width()/2,\n",
        "             bar.get_height() + 0.1,\n",
        "             str(count),\n",
        "             ha='center',\n",
        "             va='bottom',\n",
        "             fontsize=10)\n",
        "\n",
        "# Chart formatting\n",
        "plt.xticks(labels)\n",
        "plt.xlabel('Response (1 = Strongly Disagree, 6 = Strongly Agree)')\n",
        "plt.ylabel('Number of Students')\n",
        "plt.ylim(0, max(counts) + 2)\n",
        "plt.grid(axis='y', linestyle='--', alpha=0.7)\n",
        "\n",
        "plt.tight_layout()\n",
        "plt.show()\n"
      ],
      "metadata": {
        "id": "ZIjOh4oAYskx"
      },
      "execution_count": null,
      "outputs": []
    },
    {
      "cell_type": "markdown",
      "source": [
        "## Two plots in one panel"
      ],
      "metadata": {
        "id": "yoTxg4qlgXOb"
      }
    },
    {
      "cell_type": "markdown",
      "source": [
        "### Q1 & Q2"
      ],
      "metadata": {
        "id": "g3rr0aVwjIYO"
      }
    },
    {
      "cell_type": "code",
      "source": [
        "import matplotlib.pyplot as plt\n",
        "\n",
        "# Data for two questions\n",
        "labels = [1, 2, 3, 4, 5, 6]\n",
        "\n",
        "# Example: Q1 and Q2 responses\n",
        "counts_q1 = [0, 0, 0, 1, 7, 5]\n",
        "counts_q2 = [0, 0, 0, 1, 8, 4]\n",
        "\n",
        "# Total responses\n",
        "total_q1 = sum(counts_q1)\n",
        "total_q2 = sum(counts_q2)\n",
        "\n",
        "# Set up subplots\n",
        "fig, axes = plt.subplots(1, 2, figsize=(15, 3), sharey=True)\n",
        "\n",
        "# Function to draw each bar chart\n",
        "def draw_bars(ax, counts, total, title):\n",
        "    bars = ax.bar(labels, counts, color='darkblue')\n",
        "    for bar, count in zip(bars, counts):\n",
        "        if count > 0:\n",
        "            percent = f\"{(count / total) * 100:.0f}%\"\n",
        "            ax.text(bar.get_x() + bar.get_width()/2,\n",
        "                    bar.get_height()/2,\n",
        "                    percent,\n",
        "                    ha='center',\n",
        "                    va='center',\n",
        "                    color='white',\n",
        "                    fontsize=12,\n",
        "                    fontweight='bold')\n",
        "        ax.text(bar.get_x() + bar.get_width()/2,\n",
        "                bar.get_height() + 0.1,\n",
        "                str(count),\n",
        "                ha='center',\n",
        "                va='bottom',\n",
        "                fontsize=12)\n",
        "    ax.set_xticks(labels)\n",
        "    # ax.set_xlabel('Response (1 = Strongly Disagree, 6 = Strongly Agree)')\n",
        "    ax.set_xlabel(r\"Response (1 = $\\mathit{Strongly\\ Disagree}$, 6 = $\\mathit{Strongly\\ Agree}$)\", fontsize=12)\n",
        "    ax.set_ylabel(\"Number of Students\", fontsize=12)\n",
        "    ax.set_title(title)\n",
        "    ax.grid(axis='y', linestyle='--', alpha=0.7)\n",
        "    ax.set_ylim(0, max(max(counts_q1), max(counts_q2)) + 2)\n",
        "\n",
        "# Draw both bar charts\n",
        "draw_bars(axes[0], counts_q1, total_q1, 'a. Confidence with Digital Tools (Q1)')\n",
        "draw_bars(axes[1], counts_q2, total_q2, 'b. Course Difficulty Appropriateness (Q2)')\n",
        "\n",
        "axes[0].set_ylabel('Number of Students')\n",
        "plt.savefig('figure3.png', bbox_inches='tight', dpi=300)\n",
        "\n",
        "plt.tight_layout()\n",
        "plt.show()\n"
      ],
      "metadata": {
        "id": "1-rTWrQtgZ1A"
      },
      "execution_count": null,
      "outputs": []
    },
    {
      "cell_type": "markdown",
      "source": [
        "### Q3 & Q4"
      ],
      "metadata": {
        "id": "dKcYoywcjK_J"
      }
    },
    {
      "cell_type": "code",
      "source": [
        "import matplotlib.pyplot as plt\n",
        "\n",
        "# Data for two questions\n",
        "labels = [1, 2, 3, 4, 5, 6]\n",
        "\n",
        "# Example: Q1 and Q2 responses\n",
        "counts_q1 = [0, 0, 0, 0, 6, 7]\n",
        "counts_q2 = [0, 0, 1, 0, 5, 7]\n",
        "\n",
        "# Total responses\n",
        "total_q1 = sum(counts_q1)\n",
        "total_q2 = sum(counts_q2)\n",
        "\n",
        "# Set up subplots\n",
        "fig, axes = plt.subplots(1, 2, figsize=(15, 3), sharey=True)\n",
        "\n",
        "# Function to draw each bar chart\n",
        "def draw_bars(ax, counts, total, title):\n",
        "    colors = ['orange' if label < 4 else 'darkblue' for label in labels]\n",
        "    bars = ax.bar(labels, counts, color=colors)\n",
        "\n",
        "    for bar, count, label in zip(bars, counts, labels):\n",
        "        if count > 0:\n",
        "            percent = f\"{(count / total) * 100:.0f}%\"\n",
        "            ax.text(bar.get_x() + bar.get_width()/2,\n",
        "                    bar.get_height()/2,\n",
        "                    percent,\n",
        "                    ha='center',\n",
        "                    va='center',\n",
        "                    color='white',\n",
        "                    fontsize=10,\n",
        "                    fontweight='bold')\n",
        "        ax.text(bar.get_x() + bar.get_width()/2,\n",
        "                bar.get_height() + 0.1,\n",
        "                str(count),\n",
        "                ha='center',\n",
        "                va='bottom',\n",
        "                fontsize=10)\n",
        "\n",
        "    ax.set_xticks(labels)\n",
        "    ax.set_xlabel(r\"Response (1 = $\\mathit{Strongly\\ Disagree}$, 6 = $\\mathit{Strongly\\ Agree}$)\", fontsize=12)\n",
        "    ax.set_ylabel(\"Number of Students\", fontsize=12)\n",
        "    ax.set_title(title)\n",
        "    ax.grid(axis='y', linestyle='--', alpha=0.7)\n",
        "    ax.set_ylim(0, max(max(counts_q1), max(counts_q2)) + 2)\n",
        "\n",
        "# Draw both bar charts\n",
        "draw_bars(axes[0], counts_q1, total_q1, 'a. Creative Thinking as Future English Teaching (Q3)')\n",
        "draw_bars(axes[1], counts_q2, total_q2, 'b. Perception of Coding in English Language Teacher (Q4)')\n",
        "\n",
        "axes[0].set_ylabel('Number of Students')\n",
        "plt.savefig('figure4.png', bbox_inches='tight', dpi=300)\n",
        "plt.tight_layout()\n",
        "plt.show()\n"
      ],
      "metadata": {
        "id": "F4HUOzcMjMce"
      },
      "execution_count": null,
      "outputs": []
    },
    {
      "cell_type": "markdown",
      "source": [
        "# Part II. Thematic analysis"
      ],
      "metadata": {
        "id": "CLzbH0fZ-wcr"
      }
    },
    {
      "cell_type": "code",
      "source": [
        "# Step 1: Install necessary libraries (only once)\n",
        "!pip install nltk scikit-learn"
      ],
      "metadata": {
        "id": "Gbu6SZN6-y0H"
      },
      "execution_count": null,
      "outputs": []
    },
    {
      "cell_type": "code",
      "source": [
        "# Step 1: Install necessary libraries (only run once)\n",
        "# !pip install nltk scikit-learn\n",
        "\n",
        "# Step 2: Import libraries\n",
        "import pandas as pd\n",
        "import nltk\n",
        "from nltk.tokenize import word_tokenize\n",
        "from sklearn.feature_extraction.text import TfidfVectorizer\n",
        "from pprint import pprint\n",
        "\n",
        "# Step 3: Download NLTK tokenizer model\n",
        "nltk.download('punkt')  # THIS is the correct resource\n",
        "nltk.download('punkt_tab')\n",
        "# Step 4: Upload your CSV file\n",
        "from google.colab import files\n",
        "uploaded = files.upload()\n",
        "\n",
        "# Step 5: Load your data\n",
        "df = pd.read_csv(list(uploaded.keys())[0])\n",
        "print(df.columns)  # Confirm your columns: ['SID', 'EQ1-K', 'EQ1-E']\n",
        "df = df[['SID', 'EQ1-E']].dropna()\n",
        "\n",
        "# Step 6: Tokenize and lower case\n",
        "df['tokens'] = df['EQ1-E'].apply(lambda x: word_tokenize(x.lower()))\n",
        "\n",
        "# Step 7: TF-IDF Keyword Extraction (optional for insight)\n",
        "vectorizer = TfidfVectorizer(stop_words='english')\n",
        "X = vectorizer.fit_transform(df['EQ1-E'])\n",
        "feature_names = vectorizer.get_feature_names_out()\n",
        "\n",
        "# Step 8: Show top keywords for each essay\n",
        "for i in range(len(df)):\n",
        "    print(f\"\\nEssay {i+1} (SID: {df.iloc[i]['SID']}):\")\n",
        "    vector = X[i].toarray()[0]\n",
        "    top_indices = vector.argsort()[::-1][:5]\n",
        "    top_words = [(feature_names[idx], round(vector[idx], 3)) for idx in top_indices]\n",
        "    pprint(top_words)\n"
      ],
      "metadata": {
        "id": "G7hgQGbW-03o"
      },
      "execution_count": null,
      "outputs": []
    }
  ]
}