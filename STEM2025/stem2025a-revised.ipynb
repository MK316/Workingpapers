{
  "nbformat": 4,
  "nbformat_minor": 0,
  "metadata": {
    "colab": {
      "private_outputs": true,
      "provenance": [],
      "authorship_tag": "ABX9TyNZacZPbmfl1uzX86CMWFgy",
      "include_colab_link": true
    },
    "kernelspec": {
      "name": "python3",
      "display_name": "Python 3"
    },
    "language_info": {
      "name": "python"
    }
  },
  "cells": [
    {
      "cell_type": "markdown",
      "metadata": {
        "id": "view-in-github",
        "colab_type": "text"
      },
      "source": [
        "<a href=\"https://colab.research.google.com/github/MK316/Workingpapers/blob/main/STEM2025/stem2025a-revised.ipynb\" target=\"_parent\"><img src=\"https://colab.research.google.com/assets/colab-badge.svg\" alt=\"Open In Colab\"/></a>"
      ]
    },
    {
      "cell_type": "code",
      "execution_count": null,
      "metadata": {
        "id": "jTSu2RWrtngJ"
      },
      "outputs": [],
      "source": []
    },
    {
      "cell_type": "markdown",
      "source": [
        "# Figure 1"
      ],
      "metadata": {
        "id": "HdoIGoyZzvtp"
      }
    },
    {
      "cell_type": "code",
      "source": [
        "#markdown Figure 1 code: Exposure to Python\n",
        "import matplotlib.pyplot as plt\n",
        "\n",
        "# Data setup\n",
        "responses = {\n",
        "    1: 9,\n",
        "    2: 1,\n",
        "    3: 1,\n",
        "    4: 1,\n",
        "    5: 1,\n",
        "    6: 0\n",
        "}\n",
        "\n",
        "# Prepare data\n",
        "x = list(responses.keys())\n",
        "y = list(responses.values())\n",
        "total = sum(y)\n",
        "\n",
        "# Plotting\n",
        "plt.figure(figsize=(8, 6))\n",
        "bars = plt.bar(x, y, color='darkblue', edgecolor='black')\n",
        "\n",
        "# Add percentage labels on top and count inside each bar\n",
        "for bar, count in zip(bars, y):\n",
        "    bar_x = bar.get_x() + bar.get_width() / 2\n",
        "    bar_height = bar.get_height()\n",
        "\n",
        "    # Percent label on top\n",
        "    if count > 0:\n",
        "        percent = (count / total) * 100\n",
        "        plt.text(bar_x, bar_height + 0.3, f'{percent:.1f}%', ha='center', va='bottom', fontsize=16)\n",
        "\n",
        "    # Count label inside bar\n",
        "    if count > 0:\n",
        "        plt.text(bar_x, bar_height / 2, f'{count}', ha='center', va='center', fontsize=16, color='white', fontweight='bold')\n",
        "\n",
        "plt.xticks(x)\n",
        "# plt.xlabel(\"Response (1 = Least Experience, 6 = Most Experience)\", fontsize=16)\n",
        "plt.xlabel(r\"Response (1 = $\\mathit{Least\\ Familiar}$, 6 = $\\mathit{Most\\ Familiar}$)\", fontsize=16)\n",
        "\n",
        "plt.ylabel(\"Number of Students\", fontsize=16)\n",
        "plt.ylim(0,10)\n",
        "plt.yticks(fontsize=16)\n",
        "# plt.title(\"Students' Experience with Programming Languages (Python)\")\n",
        "plt.grid(axis='y', linestyle='--', alpha=0.7)\n",
        "plt.savefig('figure1b.png', dpi=300, bbox_inches='tight')\n",
        "plt.tight_layout()\n",
        "plt.show()\n"
      ],
      "metadata": {
        "id": "a_eKAlouuz7x"
      },
      "execution_count": null,
      "outputs": []
    },
    {
      "cell_type": "markdown",
      "source": [
        "Figure 3: Other digital tools"
      ],
      "metadata": {
        "id": "W9_BHhNlz685"
      }
    },
    {
      "cell_type": "code",
      "source": [
        "#markdown Figure 1 code: Exposure to Python\n",
        "import matplotlib.pyplot as plt\n",
        "\n",
        "# Data setup\n",
        "responses = {\n",
        "    1: 2,\n",
        "    2: 5,\n",
        "    3: 2,\n",
        "    4: 1,\n",
        "    5: 2,\n",
        "    6: 0\n",
        "}\n",
        "\n",
        "# Prepare data\n",
        "x = list(responses.keys())\n",
        "y = list(responses.values())\n",
        "total = sum(y)\n",
        "\n",
        "# Plotting\n",
        "plt.figure(figsize=(8, 6))\n",
        "bars = plt.bar(x, y, color='orange', edgecolor='black')\n",
        "\n",
        "# Add percentage labels on top and count inside each bar\n",
        "for bar, count in zip(bars, y):\n",
        "    bar_x = bar.get_x() + bar.get_width() / 2\n",
        "    bar_height = bar.get_height()\n",
        "\n",
        "    # Percent label on top\n",
        "    if count > 0:\n",
        "        percent = (count / total) * 100\n",
        "        plt.text(bar_x, bar_height + 0.3, f'{percent:.1f}%', ha='center', va='bottom', fontsize=16)\n",
        "\n",
        "    # Count label inside bar\n",
        "    if count > 0:\n",
        "        plt.text(bar_x, bar_height / 2, f'{count}', ha='center', va='center', fontsize=16, color='white', fontweight='bold')\n",
        "\n",
        "plt.xticks(x)\n",
        "# plt.xlabel(\"Response (1 = Not at all, 6 = Extensively used)\", fontsize=16)\n",
        "plt.xlabel(r\"Response (1 = $\\mathit{Not\\ at\\ All}$, 6 = $\\mathit{Extensively}$)\", fontsize=16)\n",
        "plt.ylabel(\"Number of Students\", fontsize=16)\n",
        "plt.ylim(0,10)\n",
        "plt.yticks(fontsize=16)\n",
        "# plt.title(\"Before Creation: Familiarity with Ready-Made Digital Tools\")\n",
        "plt.grid(axis='y', linestyle='--', alpha=0.7)\n",
        "plt.savefig('figure1a.png', dpi=300, bbox_inches='tight')\n",
        "plt.tight_layout()\n",
        "plt.show()\n"
      ],
      "metadata": {
        "id": "YaVXtuwp2qnA"
      },
      "execution_count": null,
      "outputs": []
    },
    {
      "cell_type": "markdown",
      "source": [
        "# IV. Results"
      ],
      "metadata": {
        "id": "4Lci9NmzNbQw"
      }
    },
    {
      "cell_type": "code",
      "source": [],
      "metadata": {
        "id": "FbTB0r7KHlcH"
      },
      "execution_count": null,
      "outputs": []
    },
    {
      "cell_type": "markdown",
      "source": [
        "## 1) Manageability of Python Learning (Q1)"
      ],
      "metadata": {
        "id": "EpIsUPu7NfFu"
      }
    },
    {
      "cell_type": "code",
      "source": [
        "import matplotlib.pyplot as plt\n",
        "\n",
        "# Q1 responses: 4(1 student), 5(9), 6(3)\n",
        "# We fill in 1-6 scale with 0 counts where applicable\n",
        "labels = [1, 2, 3, 4, 5, 6]\n",
        "counts = [0, 0, 0, 1, 9, 3]\n",
        "\n",
        "# Set up the plot\n",
        "plt.figure(figsize=(8, 4))\n",
        "bars = plt.bar(labels, counts, color='skyblue')\n",
        "\n",
        "# Add value labels on top of bars\n",
        "for bar in bars:\n",
        "    yval = bar.get_height()\n",
        "    plt.text(bar.get_x() + bar.get_width()/2, yval + 0.1, int(yval), ha='center', va='bottom')\n",
        "\n",
        "# Chart formatting\n",
        "plt.xticks(labels)\n",
        "plt.xlabel('Response (1 = Strongly Disagree, 6 = Strongly Agree)')\n",
        "plt.ylabel('Number of Students')\n",
        "plt.title('Q1: Manageability of Python Learning')\n",
        "plt.ylim(0, max(counts) + 1)\n",
        "plt.grid(axis='y', linestyle='--', alpha=0.7)\n",
        "\n",
        "plt.tight_layout()\n",
        "plt.show()\n"
      ],
      "metadata": {
        "id": "jRTTzsNF2pMT"
      },
      "execution_count": null,
      "outputs": []
    },
    {
      "cell_type": "code",
      "source": [
        "import matplotlib.pyplot as plt\n",
        "import numpy as np\n",
        "\n",
        "# Survey data for each question\n",
        "survey_data = {\n",
        "    \"Q1\": {4: 1, 5: 9, 6: 3},\n",
        "    \"Q2\": {4: 3, 5: 5, 6: 5},\n",
        "    \"Q3\": {5: 6, 6: 7},\n",
        "    \"Q4\": {3: 1, 4: 1, 5: 7, 6: 4}\n",
        "}\n",
        "\n",
        "# Scales from 1 to 6\n",
        "scales = np.arange(1, 7)\n",
        "\n",
        "# Create subplots\n",
        "fig, axs = plt.subplots(4, 1, figsize=(8, 10), sharex=True)\n",
        "\n",
        "# Define blue color gradient\n",
        "colors = plt.cm.Blues(np.linspace(0.4, 0.9, len(scales)))\n",
        "\n",
        "# Plot each question\n",
        "for i, (question, responses) in enumerate(survey_data.items()):\n",
        "    counts = [responses.get(scale, 0) for scale in scales]\n",
        "    axs[i].bar(scales, counts, color=colors, edgecolor='black')\n",
        "    axs[i].axvline(x=3.5, color='gray', linestyle='--')  # dividing line\n",
        "    axs[i].set_title(question, loc='left')\n",
        "    axs[i].set_ylim(0, max(counts) + 2)\n",
        "    for j, count in enumerate(counts):\n",
        "        if count > 0:\n",
        "            axs[i].text(scales[j], count + 0.2, str(count), ha='center')\n",
        "\n",
        "# Set common x-axis labels\n",
        "axs[-1].set_xticks(scales)\n",
        "axs[-1].set_xticklabels([str(s) for s in scales])\n",
        "axs[-1].set_xlabel(\"Response Scale (1 = Strongly Disagree, 6 = Strongly Agree)\")\n",
        "\n",
        "# Adjust layout\n",
        "plt.tight_layout()\n",
        "plt.show()\n"
      ],
      "metadata": {
        "id": "FJPHAuvYN4oG"
      },
      "execution_count": null,
      "outputs": []
    },
    {
      "cell_type": "code",
      "source": [
        "import matplotlib.pyplot as plt\n",
        "import numpy as np\n",
        "\n",
        "# Define the data\n",
        "data = {\n",
        "    \"Q1. Python Manageability\": {4: 1, 5: 9, 6: 3},\n",
        "    \"Q2. Streamlit Use\": {4: 3, 5: 5, 6: 5},\n",
        "    \"Q3. Creative Thinking\": {5: 6, 6: 7},\n",
        "    \"Q4. Motivation to Explore\": {3: 1, 4: 1, 5: 7, 6: 4},\n",
        "}\n",
        "\n",
        "# Plot settings\n",
        "fig, axes = plt.subplots(nrows=4, figsize=(10, 8), sharex=True)\n",
        "scale = [1, 2, 3, 4, 5, 6]\n",
        "\n",
        "for ax, (question, response_counts) in zip(axes, data.items()):\n",
        "    counts = [response_counts.get(i, 0) for i in scale]\n",
        "    colors = ['orange' if i < 4 else 'steelblue' for i in scale]\n",
        "\n",
        "    ax.bar(scale, counts, color=colors)\n",
        "    ax.axvline(x=3.5, color='gray', linestyle='--')  # Line between 3 and 4\n",
        "    ax.set_ylabel(\"Students\")\n",
        "    ax.set_title(question, loc='left', fontsize=10)\n",
        "    ax.set_ylim(0, max(counts) + 1)\n",
        "    ax.set_xticks(scale)\n",
        "\n",
        "axes[-1].set_xlabel(\"Response Scale (1 = Strongly Disagree, 6 = Strongly Agree)\")\n",
        "plt.tight_layout()\n",
        "plt.show()\n"
      ],
      "metadata": {
        "id": "XbrJptV2QXBM"
      },
      "execution_count": null,
      "outputs": []
    }
  ]
}