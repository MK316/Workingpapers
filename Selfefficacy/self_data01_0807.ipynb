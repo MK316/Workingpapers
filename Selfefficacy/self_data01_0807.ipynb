{
  "nbformat": 4,
  "nbformat_minor": 0,
  "metadata": {
    "colab": {
      "private_outputs": true,
      "provenance": [],
      "authorship_tag": "ABX9TyMJG+7H/zyxFjNn4wBQ0v1A",
      "include_colab_link": true
    },
    "kernelspec": {
      "name": "python3",
      "display_name": "Python 3"
    },
    "language_info": {
      "name": "python"
    }
  },
  "cells": [
    {
      "cell_type": "markdown",
      "metadata": {
        "id": "view-in-github",
        "colab_type": "text"
      },
      "source": [
        "<a href=\"https://colab.research.google.com/github/MK316/Workingpapers/blob/main/Selfefficacy/self_data01_0807.ipynb\" target=\"_parent\"><img src=\"https://colab.research.google.com/assets/colab-badge.svg\" alt=\"Open In Colab\"/></a>"
      ]
    },
    {
      "cell_type": "markdown",
      "source": [
        "# Self-efficacy analysis (24.08.07)"
      ],
      "metadata": {
        "id": "wIdJtJDCvZZW"
      }
    },
    {
      "cell_type": "code",
      "execution_count": null,
      "metadata": {
        "id": "nWGP-x4jsFPb"
      },
      "outputs": [],
      "source": [
        "import pandas as pd\n",
        "\n",
        "# Replace 'path_to_file.csv' with the actual path of your CSV file\n",
        "path_to_file = 'self-data01.csv'\n",
        "df = pd.read_csv(path_to_file)\n",
        "\n",
        "# Display the first few rows of the dataframe\n",
        "print(df.head())"
      ]
    },
    {
      "cell_type": "code",
      "source": [
        "import pandas as pd\n",
        "\n",
        "# Assuming df is your DataFrame and TOEIC is the column you're analyzing\n",
        "mean_toeic = df['TOEIC'].mean()\n",
        "std_toeic = df['TOEIC'].std()\n",
        "\n",
        "print(\"Mean of TOEIC scores:\", mean_toeic)\n",
        "print(\"Standard Deviation of TOEIC scores:\", std_toeic)\n"
      ],
      "metadata": {
        "id": "XgjK005Nv1MS"
      },
      "execution_count": null,
      "outputs": []
    },
    {
      "cell_type": "markdown",
      "source": [
        "## Q1 analysis"
      ],
      "metadata": {
        "id": "0cXLglaFwnfr"
      }
    },
    {
      "cell_type": "code",
      "source": [
        "import pandas as pd\n",
        "import matplotlib.pyplot as plt\n",
        "import seaborn as sns\n",
        "\n",
        "# Assuming df is your DataFrame\n",
        "# Calculate descriptive statistics for Q1\n",
        "descriptive_stats_q1 = df['Q1'].describe()\n",
        "print(\"Descriptive statistics for Q1:\")\n",
        "print(descriptive_stats_q1)\n",
        "\n",
        "# Create a visual summary of the results for Q1\n",
        "# Assuming the responses for Q1 are on a Likert scale (e.g., 1 to 5)\n",
        "plt.figure(figsize=(8, 6))\n",
        "sns.countplot(x='Q1', data=df, palette='Blues')\n",
        "plt.title('Distribution of Responses for Q1')\n",
        "plt.xlabel('Response Category')\n",
        "plt.ylabel('Frequency')\n",
        "plt.grid(True, linestyle='--', alpha=0.6)  # Add grid for better readability\n",
        "plt.show()\n"
      ],
      "metadata": {
        "id": "lQLXh4ZlwpGJ"
      },
      "execution_count": null,
      "outputs": []
    },
    {
      "cell_type": "code",
      "source": [
        "import pandas as pd\n",
        "import matplotlib.pyplot as plt\n",
        "import seaborn as sns\n",
        "\n",
        "# Load your data into a DataFrame\n",
        "# df = pd.read_csv('path_to_your_file.csv')  # Uncomment and set your file path\n",
        "\n",
        "# Assuming Q1 responses are categorical (e.g., on a Likert scale) and Career is also categorical\n",
        "# Create a crosstabulation of the data\n",
        "ct = pd.crosstab(df['Career'], df['Q1'])\n",
        "\n",
        "# Normalize the crosstab to show percentages\n",
        "ct_normalized = ct.div(ct.sum(axis=1), axis=0)\n",
        "\n",
        "# Plotting the crosstab\n",
        "plt.figure(figsize=(10, 6))\n",
        "sns.heatmap(ct_normalized, annot=True, cmap='Blues', fmt='.2f')\n",
        "plt.title('Relationship Between Q1 Responses and Career')\n",
        "plt.xlabel('Q1 Responses')\n",
        "plt.ylabel('Career')\n",
        "plt.show()\n"
      ],
      "metadata": {
        "id": "BYgelaDXyVZ4"
      },
      "execution_count": null,
      "outputs": []
    },
    {
      "cell_type": "code",
      "source": [
        "import pandas as pd\n",
        "import matplotlib.pyplot as plt\n",
        "\n",
        "# Assuming df is your DataFrame\n",
        "# Load your data into a DataFrame if needed\n",
        "# df = pd.read_csv('path_to_your_file.csv')  # Uncomment and set your file path\n",
        "\n",
        "# Count the frequency of each response in Q1 and sort by index for response order\n",
        "frequency = df['Q1'].value_counts().sort_index()\n",
        "\n",
        "# Calculate the cumulative percentage\n",
        "cumulative_percentage = frequency.cumsum() / frequency.sum() * 100\n",
        "\n",
        "# Create a figure and a bar plot\n",
        "fig, ax = plt.subplots(figsize=(10, 6))\n",
        "bars = ax.bar(frequency.index, frequency.values, color='skyblue')\n",
        "\n",
        "# Add a line plot for the cumulative percentage\n",
        "ax2 = ax.twinx()\n",
        "line = ax2.plot(frequency.index, cumulative_percentage, color='red', marker='o', label='Cumulative %')\n",
        "\n",
        "# Make the y-axis label, ticks, and tick labels match the line plot\n",
        "ax2.set_ylabel('Cumulative Percentage')\n",
        "ax2.set_ylim(0, 110)\n",
        "\n",
        "# Adding annotations and labels\n",
        "ax.set_xlabel('Q1 Responses')\n",
        "ax.set_ylabel('Frequency')\n",
        "ax.set_title('Pareto Chart for Q1 Responses')\n",
        "ax2.legend(loc='right')\n",
        "\n",
        "plt.show()\n"
      ],
      "metadata": {
        "id": "1OfFZsCU2krw"
      },
      "execution_count": null,
      "outputs": []
    }
  ]
}