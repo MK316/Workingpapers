{
  "nbformat": 4,
  "nbformat_minor": 0,
  "metadata": {
    "colab": {
      "private_outputs": true,
      "provenance": [],
      "authorship_tag": "ABX9TyPH/rL2aOt3/d/bwUWNGCxE",
      "include_colab_link": true
    },
    "kernelspec": {
      "name": "python3",
      "display_name": "Python 3"
    },
    "language_info": {
      "name": "python"
    }
  },
  "cells": [
    {
      "cell_type": "markdown",
      "metadata": {
        "id": "view-in-github",
        "colab_type": "text"
      },
      "source": [
        "<a href=\"https://colab.research.google.com/github/MK316/Workingpapers/blob/main/SR/SR_test.ipynb\" target=\"_parent\"><img src=\"https://colab.research.google.com/assets/colab-badge.svg\" alt=\"Open In Colab\"/></a>"
      ]
    },
    {
      "cell_type": "code",
      "source": [
        "# First, install the necessary library\n",
        "!pip install librosa soundfile"
      ],
      "metadata": {
        "id": "d_-_mw6b7aI-"
      },
      "execution_count": null,
      "outputs": []
    },
    {
      "cell_type": "markdown",
      "source": [
        "# Sample speech generation"
      ],
      "metadata": {
        "id": "jnDJlPc471d8"
      }
    },
    {
      "cell_type": "code",
      "source": [
        "!pip install gTTS soundfile\n"
      ],
      "metadata": {
        "id": "x8GRWn4Y708z"
      },
      "execution_count": null,
      "outputs": []
    },
    {
      "cell_type": "code",
      "source": [
        "#@markdown TTS: Generate Speech using gTTS, sampling rate 44100Hz, wav format\n",
        "# !pip install gTTS soundfile librosa\n",
        "\n",
        "# Import libraries\n",
        "from gtts import gTTS\n",
        "import soundfile as sf\n",
        "import librosa\n",
        "\n",
        "# Your text to synthesize\n",
        "# text_to_speak = \"Please believe that sweek peas and beans are good to eat.\"\n",
        "mytext = input()\n",
        "\n",
        "# Generate speech from text\n",
        "tts = gTTS(text=mytext, lang='en')\n",
        "tts.save('output44k.mp3')\n",
        "\n",
        "# Load the MP3 file and convert it to WAV format with the desired sampling rate\n",
        "audio, _ = librosa.load('output.mp3', sr=44100)  # Load audio with 22050 Hz\n",
        "sf.write('output44k.wav', audio, 44100)  # Save audio as WAV with 22050 Hz\n",
        "\n",
        "# Inform the user of success\n",
        "print(\"The WAV file has been generated and saved as 'output44k.wav'\")\n"
      ],
      "metadata": {
        "cellView": "form",
        "id": "7ee6oLek74g-"
      },
      "execution_count": null,
      "outputs": []
    },
    {
      "cell_type": "markdown",
      "source": [
        "# Speech rate manipulation"
      ],
      "metadata": {
        "id": "ccJ0HbH5I1Ex"
      }
    },
    {
      "cell_type": "code",
      "execution_count": null,
      "metadata": {
        "id": "OB_ySdbv7Xyv"
      },
      "outputs": [],
      "source": [
        "import librosa\n",
        "import soundfile as sf\n",
        "\n",
        "# Load an audio file\n",
        "audio_path = '/content/output44k.wav'\n",
        "audio, sr = librosa.load(audio_path, sr=None)  # Load with the original sampling rate\n",
        "\n",
        "# Time-stretch the audio by a factor of 1.25 (25% faster)\n",
        "ts_audio125 = librosa.effects.time_stretch(audio, rate=1.25)\n",
        "ts_audio150 = librosa.effects.time_stretch(audio, rate=1.50)\n",
        "# Save the time-stretched audio to a file using soundfile\n",
        "sf.write('audio44k125.wav', ts_audio125, sr)\n",
        "sf.write('audio44k150.wav', ts_audio150, sr)\n",
        "# If you want to play the audio within the notebook, you can use IPython.display\n",
        "from IPython.display import Audio\n",
        "display(Audio('/content/output44k.wav'))\n",
        "display(Audio('audio44k125.wav'))\n",
        "display(Audio('audio44k150.wav'))"
      ]
    }
  ]
}