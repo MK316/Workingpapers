{
  "nbformat": 4,
  "nbformat_minor": 0,
  "metadata": {
    "colab": {
      "private_outputs": true,
      "provenance": [],
      "authorship_tag": "ABX9TyPIPc+I+UpZIO2ppnhMeAse",
      "include_colab_link": true
    },
    "kernelspec": {
      "name": "python3",
      "display_name": "Python 3"
    },
    "language_info": {
      "name": "python"
    }
  },
  "cells": [
    {
      "cell_type": "markdown",
      "metadata": {
        "id": "view-in-github",
        "colab_type": "text"
      },
      "source": [
        "<a href=\"https://colab.research.google.com/github/MK316/Workingpapers/blob/main/WER/GetWER.ipynb\" target=\"_parent\"><img src=\"https://colab.research.google.com/assets/colab-badge.svg\" alt=\"Open In Colab\"/></a>"
      ]
    },
    {
      "cell_type": "code",
      "execution_count": null,
      "metadata": {
        "id": "Xu_Db3WtDyLk"
      },
      "outputs": [],
      "source": [
        "from google.colab import files\n",
        "uploaded = files.upload()\n"
      ]
    },
    {
      "cell_type": "code",
      "source": [
        "!pip install SpeechRecognition jiwer"
      ],
      "metadata": {
        "id": "SLcfDCiEEGLY"
      },
      "execution_count": null,
      "outputs": []
    },
    {
      "cell_type": "markdown",
      "source": [
        "# Reference text\n",
        "+ 18 sentences\n",
        "+ Rainbow in Korean\n",
        "+ Rainbow in English"
      ],
      "metadata": {
        "id": "lv0GYKaeG_HN"
      }
    },
    {
      "cell_type": "markdown",
      "source": [
        "[Sentences](https://raw.githubusercontent.com/MK316/Workingpapers/main/WER/sentences.txt)"
      ],
      "metadata": {
        "id": "irnASFLEH8Hx"
      }
    },
    {
      "cell_type": "code",
      "source": [
        "import requests\n",
        "import re\n",
        "\n",
        "# URL of the text file on GitHub\n",
        "url = 'https://raw.githubusercontent.com/MK316/Workingpapers/main/WER/sentences.txt'\n",
        "\n",
        "# Function to fetch, clean, and combine text from a GitHub URL\n",
        "def fetch_and_clean_combine_text(url):\n",
        "    # Send HTTP GET request to fetch the content of the file\n",
        "    response = requests.get(url)\n",
        "\n",
        "    # Check if the request was successful\n",
        "    if response.status_code == 200:\n",
        "        # Split text into lines by newline\n",
        "        lines = response.text.split('\\n')\n",
        "\n",
        "        # Use a regular expression to remove index numbers at the start of each line\n",
        "        # Assumes numbers could be followed by spaces or a special character like a period or tab\n",
        "        cleaned_lines = [re.sub(r'^\\d+[\\s\\.\\t]*', '', line).strip() for line in lines]\n",
        "\n",
        "        # Combine all cleaned lines into a single string, adding a space between sentences\n",
        "        combined_text = ' '.join(cleaned_lines).strip()\n",
        "\n",
        "        return combined_text\n",
        "    else:\n",
        "        return \"Failed to download the file\"\n",
        "\n",
        "# Call the function and print the result\n",
        "combined_text = fetch_and_clean_combine_text(url)\n",
        "print(combined_text)\n"
      ],
      "metadata": {
        "id": "cW47v_DSHE-4"
      },
      "execution_count": null,
      "outputs": []
    },
    {
      "cell_type": "code",
      "source": [
        "import speech_recognition as sr\n",
        "from jiwer import wer\n",
        "\n",
        "# Function to recognize speech from an audio file\n",
        "def recognize_speech(audio_file):\n",
        "    # Initialize the recognizer\n",
        "    recognizer = sr.Recognizer()\n",
        "\n",
        "    # Load the audio file\n",
        "    with sr.AudioFile(audio_file) as source:\n",
        "        # Listen to the source\n",
        "        audio_data = recognizer.record(source)\n",
        "\n",
        "        # Try to recognize the speech using Google Web Speech API\n",
        "        try:\n",
        "            text = recognizer.recognize_google(audio_data)\n",
        "            return text\n",
        "        except sr.UnknownValueError:\n",
        "            return \"Google Speech Recognition could not understand audio\"\n",
        "        except sr.RequestError as e:\n",
        "            return f\"Could not request results from Google Speech Recognition service; {e}\"\n",
        "\n",
        "# Reference text (correct transcription)\n",
        "reference_text = combined_text\n",
        "\n",
        "# Audio file path\n",
        "audio_file_path = 'F02B.wav'\n",
        "\n",
        "# Recognize speech\n",
        "recognized_text = recognize_speech(audio_file_path)\n",
        "print(\"Recognized Text:\", recognized_text)\n",
        "\n",
        "# Calculate WER\n",
        "error_rate = wer(reference_text, recognized_text)\n",
        "print(\"Word Error Rate:\", error_rate)\n"
      ],
      "metadata": {
        "id": "5qwjIBqCEnmp"
      },
      "execution_count": null,
      "outputs": []
    }
  ]
}