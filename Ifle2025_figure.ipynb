{
  "nbformat": 4,
  "nbformat_minor": 0,
  "metadata": {
    "colab": {
      "private_outputs": true,
      "provenance": [],
      "authorship_tag": "ABX9TyOLhaiF1UCAGbxwF+eDdNe2",
      "include_colab_link": true
    },
    "kernelspec": {
      "name": "python3",
      "display_name": "Python 3"
    },
    "language_info": {
      "name": "python"
    }
  },
  "cells": [
    {
      "cell_type": "markdown",
      "metadata": {
        "id": "view-in-github",
        "colab_type": "text"
      },
      "source": [
        "<a href=\"https://colab.research.google.com/github/MK316/Workingpapers/blob/main/Ifle2025_figure.ipynb\" target=\"_parent\"><img src=\"https://colab.research.google.com/assets/colab-badge.svg\" alt=\"Open In Colab\"/></a>"
      ]
    },
    {
      "cell_type": "code",
      "execution_count": null,
      "metadata": {
        "id": "yYNyOBAPnYfZ"
      },
      "outputs": [],
      "source": [
        "# --- setup\n",
        "import numpy as np\n",
        "import matplotlib.pyplot as plt\n",
        "\n",
        "# Larger fonts (only font sizes changed; all else kept the same)\n",
        "plt.rcParams.update({\n",
        "    \"axes.titlesize\": 14,\n",
        "    \"axes.labelsize\": 13,\n",
        "    \"xtick.labelsize\": 12,\n",
        "    \"ytick.labelsize\": 12,\n",
        "})\n",
        "\n",
        "# --- data (edit here if your counts differ)\n",
        "levels = np.array([1, 2, 3, 4, 5, 6])\n",
        "\n",
        "# Counts that match the figure you shared (N = 13)\n",
        "py_counts   = np.array([8, 2, 1, 1, 1,0])  # Python familiarity\n",
        "tool_counts = np.array([2, 2, 4, 3, 2,0])  # Digital tool familiarity\n",
        "\n",
        "def pct(counts):\n",
        "    n = counts.sum()\n",
        "    return (counts / n * 100).round(1)\n",
        "\n",
        "py_pct   = pct(py_counts)\n",
        "tool_pct = pct(tool_counts)\n",
        "\n",
        "# --- colors (approximate the palette in your figure)\n",
        "# py_colors   = ['#5d0000', '#7f0f0f', '#a61f1f', '#0f5ca8', '#0a4d8a']  # deep reds to blues\n",
        "py_colors = ['#7f0f0f', '#ff6666', '#ffcccc', '#99ccff', '#004c99']  # red→light red→light blue→blue\n",
        "tool_colors = ['#7f0f0f', '#ff6666', '#ffcccc', '#9fccff', '#004c99']\n",
        "# --- plotting\n",
        "fig, axes = plt.subplots(1, 2, figsize=(10, 3), dpi=150, sharey=True)\n",
        "\n",
        "# Left: Python familiarity\n",
        "ax = axes[0]\n",
        "bars = ax.bar(levels, py_counts, color=py_colors, width=0.8)\n",
        "ax.set_title(\"Python familiarity\")\n",
        "ax.set_xlabel(\"Familiarity Level\")\n",
        "ax.set_ylabel(\"Count\")\n",
        "ax.set_xlim(0,7)\n",
        "ax.set_ylim(0,10)\n",
        "ax.set_xticks(levels)\n",
        "\n",
        "# annotate percentages inside/above bars\n",
        "for b, p in zip(bars, py_pct):\n",
        "    x = b.get_x() + b.get_width()/2\n",
        "    y = b.get_height()\n",
        "    ax.text(x, y + 0.1, f\"{p}%\", ha='center', va='bottom', fontsize=12)\n",
        "\n",
        "# Right: Digital tool familiarity\n",
        "ax = axes[1]\n",
        "bars = ax.bar(levels, tool_counts, color=tool_colors, width=0.8)\n",
        "ax.set_title(\"Digital tool familiarity\")\n",
        "ax.set_xlabel(\"Familiarity Level\")\n",
        "ax.set_xlim(0,7)\n",
        "ax.set_xticks(levels)\n",
        "\n",
        "for b, p in zip(bars, tool_pct):\n",
        "    x = b.get_x() + b.get_width()/2\n",
        "    y = b.get_height()\n",
        "    ax.text(x, y + 0.1, f\"{p}%\", ha='center', va='bottom', fontsize=12)\n",
        "\n",
        "# tidy\n",
        "for ax in axes:\n",
        "    ax.set_ylim(0, 10)\n",
        "    ax.spines['top'].set_visible(False)\n",
        "    ax.spines['right'].set_visible(False)\n",
        "plt.savefig(\"familiarity_bars.png\", dpi=300, bbox_inches=\"tight\")\n",
        "plt.tight_layout()\n",
        "plt.show()\n"
      ]
    },
    {
      "cell_type": "code",
      "source": [
        "plt.savefig(\"familiarity_bars.png\", dpi=300, bbox_inches=\"tight\")\n"
      ],
      "metadata": {
        "id": "9Z4wqQJLnaIM"
      },
      "execution_count": null,
      "outputs": []
    },
    {
      "cell_type": "code",
      "source": [
        "plt.savefig(\"figure.png\", dpi=300, bbox_inches=\"tight\")\n"
      ],
      "metadata": {
        "id": "Upz6Cyzpncp-"
      },
      "execution_count": null,
      "outputs": []
    }
  ]
}