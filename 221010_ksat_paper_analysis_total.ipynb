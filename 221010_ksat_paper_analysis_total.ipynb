{
  "nbformat": 4,
  "nbformat_minor": 0,
  "metadata": {
    "colab": {
      "provenance": [],
      "authorship_tag": "ABX9TyPIivUT1zYtY8svaJFsPdJK",
      "include_colab_link": true
    },
    "kernelspec": {
      "name": "python3",
      "display_name": "Python 3"
    },
    "language_info": {
      "name": "python"
    },
    "accelerator": "GPU"
  },
  "cells": [
    {
      "cell_type": "markdown",
      "metadata": {
        "id": "view-in-github",
        "colab_type": "text"
      },
      "source": [
        "<a href=\"https://colab.research.google.com/github/MK316/Workingpapers/blob/main/221010_ksat_paper_analysis_total.ipynb\" target=\"_parent\"><img src=\"https://colab.research.google.com/assets/colab-badge.svg\" alt=\"Open In Colab\"/></a>"
      ]
    },
    {
      "cell_type": "markdown",
      "source": [
        "# KSAT data process (as of 1005)"
      ],
      "metadata": {
        "id": "X1fv4aZ0B68x"
      }
    },
    {
      "cell_type": "markdown",
      "source": [
        "## Read data file from Github, install packages "
      ],
      "metadata": {
        "id": "HWdp8QRszMlJ"
      }
    },
    {
      "cell_type": "markdown",
      "source": [
        "data: https://raw.githubusercontent.com/MK316/Workingpapers/main/Analysis/mydata01.csv (17 items)"
      ],
      "metadata": {
        "id": "qz6RQ7Oxyue3"
      }
    },
    {
      "cell_type": "code",
      "execution_count": 1,
      "metadata": {
        "id": "ieqFWmKpB6LM",
        "cellView": "form"
      },
      "outputs": [],
      "source": [
        "#@markdown \n",
        "%%capture\n",
        "!pip install textstat\n",
        "\n",
        "import textstat\n",
        "import pandas as pd"
      ]
    },
    {
      "cell_type": "code",
      "source": [
        "url = 'https://raw.githubusercontent.com/MK316/Workingpapers/main/Analysis/mydata01.csv'\n",
        "df1 = pd.read_csv(url)\n",
        "df1"
      ],
      "metadata": {
        "id": "_2healt6G8mC",
        "outputId": "d4bbc684-6e16-4876-97a3-7e81421a77f6",
        "colab": {
          "base_uri": "https://localhost:8080/",
          "height": 0
        }
      },
      "execution_count": 2,
      "outputs": [
        {
          "output_type": "execute_result",
          "data": {
            "text/plain": [
              "     Year     Category   QN                                            Passage\n",
              "0    2015      Context  Q18  One difference between winners and losers is h...\n",
              "1    2015      Context  Q19  As I walked to the train station, I felt the w...\n",
              "2    2015      Context  Q20  Many disciplines are better learned by enterin...\n",
              "3    2015      Context  Q21  The most normal and competent child encounters...\n",
              "4    2015      Context  Q22  The most normal and competent child encounters...\n",
              "..    ...          ...  ...                                                ...\n",
              "131  2022  Infer-Logic  Q36  According to the market response model, it is ...\n",
              "132  2022  Infer-Logic  Q37  In spite of the likeness between the fictional...\n",
              "133  2022  Infer-Logic  Q38  Retraining current employees for new positions...\n",
              "134  2022  Infer-Logic  Q39  As long as the irrealism of the silent black a...\n",
              "135  2022      Context  Q40  Philip Kitcher and Wesley Salmon have suggeste...\n",
              "\n",
              "[136 rows x 4 columns]"
            ],
            "text/html": [
              "\n",
              "  <div id=\"df-f0f9c1c8-d0ad-4b83-9200-4962d32b7fb7\">\n",
              "    <div class=\"colab-df-container\">\n",
              "      <div>\n",
              "<style scoped>\n",
              "    .dataframe tbody tr th:only-of-type {\n",
              "        vertical-align: middle;\n",
              "    }\n",
              "\n",
              "    .dataframe tbody tr th {\n",
              "        vertical-align: top;\n",
              "    }\n",
              "\n",
              "    .dataframe thead th {\n",
              "        text-align: right;\n",
              "    }\n",
              "</style>\n",
              "<table border=\"1\" class=\"dataframe\">\n",
              "  <thead>\n",
              "    <tr style=\"text-align: right;\">\n",
              "      <th></th>\n",
              "      <th>Year</th>\n",
              "      <th>Category</th>\n",
              "      <th>QN</th>\n",
              "      <th>Passage</th>\n",
              "    </tr>\n",
              "  </thead>\n",
              "  <tbody>\n",
              "    <tr>\n",
              "      <th>0</th>\n",
              "      <td>2015</td>\n",
              "      <td>Context</td>\n",
              "      <td>Q18</td>\n",
              "      <td>One difference between winners and losers is h...</td>\n",
              "    </tr>\n",
              "    <tr>\n",
              "      <th>1</th>\n",
              "      <td>2015</td>\n",
              "      <td>Context</td>\n",
              "      <td>Q19</td>\n",
              "      <td>As I walked to the train station, I felt the w...</td>\n",
              "    </tr>\n",
              "    <tr>\n",
              "      <th>2</th>\n",
              "      <td>2015</td>\n",
              "      <td>Context</td>\n",
              "      <td>Q20</td>\n",
              "      <td>Many disciplines are better learned by enterin...</td>\n",
              "    </tr>\n",
              "    <tr>\n",
              "      <th>3</th>\n",
              "      <td>2015</td>\n",
              "      <td>Context</td>\n",
              "      <td>Q21</td>\n",
              "      <td>The most normal and competent child encounters...</td>\n",
              "    </tr>\n",
              "    <tr>\n",
              "      <th>4</th>\n",
              "      <td>2015</td>\n",
              "      <td>Context</td>\n",
              "      <td>Q22</td>\n",
              "      <td>The most normal and competent child encounters...</td>\n",
              "    </tr>\n",
              "    <tr>\n",
              "      <th>...</th>\n",
              "      <td>...</td>\n",
              "      <td>...</td>\n",
              "      <td>...</td>\n",
              "      <td>...</td>\n",
              "    </tr>\n",
              "    <tr>\n",
              "      <th>131</th>\n",
              "      <td>2022</td>\n",
              "      <td>Infer-Logic</td>\n",
              "      <td>Q36</td>\n",
              "      <td>According to the market response model, it is ...</td>\n",
              "    </tr>\n",
              "    <tr>\n",
              "      <th>132</th>\n",
              "      <td>2022</td>\n",
              "      <td>Infer-Logic</td>\n",
              "      <td>Q37</td>\n",
              "      <td>In spite of the likeness between the fictional...</td>\n",
              "    </tr>\n",
              "    <tr>\n",
              "      <th>133</th>\n",
              "      <td>2022</td>\n",
              "      <td>Infer-Logic</td>\n",
              "      <td>Q38</td>\n",
              "      <td>Retraining current employees for new positions...</td>\n",
              "    </tr>\n",
              "    <tr>\n",
              "      <th>134</th>\n",
              "      <td>2022</td>\n",
              "      <td>Infer-Logic</td>\n",
              "      <td>Q39</td>\n",
              "      <td>As long as the irrealism of the silent black a...</td>\n",
              "    </tr>\n",
              "    <tr>\n",
              "      <th>135</th>\n",
              "      <td>2022</td>\n",
              "      <td>Context</td>\n",
              "      <td>Q40</td>\n",
              "      <td>Philip Kitcher and Wesley Salmon have suggeste...</td>\n",
              "    </tr>\n",
              "  </tbody>\n",
              "</table>\n",
              "<p>136 rows × 4 columns</p>\n",
              "</div>\n",
              "      <button class=\"colab-df-convert\" onclick=\"convertToInteractive('df-f0f9c1c8-d0ad-4b83-9200-4962d32b7fb7')\"\n",
              "              title=\"Convert this dataframe to an interactive table.\"\n",
              "              style=\"display:none;\">\n",
              "        \n",
              "  <svg xmlns=\"http://www.w3.org/2000/svg\" height=\"24px\"viewBox=\"0 0 24 24\"\n",
              "       width=\"24px\">\n",
              "    <path d=\"M0 0h24v24H0V0z\" fill=\"none\"/>\n",
              "    <path d=\"M18.56 5.44l.94 2.06.94-2.06 2.06-.94-2.06-.94-.94-2.06-.94 2.06-2.06.94zm-11 1L8.5 8.5l.94-2.06 2.06-.94-2.06-.94L8.5 2.5l-.94 2.06-2.06.94zm10 10l.94 2.06.94-2.06 2.06-.94-2.06-.94-.94-2.06-.94 2.06-2.06.94z\"/><path d=\"M17.41 7.96l-1.37-1.37c-.4-.4-.92-.59-1.43-.59-.52 0-1.04.2-1.43.59L10.3 9.45l-7.72 7.72c-.78.78-.78 2.05 0 2.83L4 21.41c.39.39.9.59 1.41.59.51 0 1.02-.2 1.41-.59l7.78-7.78 2.81-2.81c.8-.78.8-2.07 0-2.86zM5.41 20L4 18.59l7.72-7.72 1.47 1.35L5.41 20z\"/>\n",
              "  </svg>\n",
              "      </button>\n",
              "      \n",
              "  <style>\n",
              "    .colab-df-container {\n",
              "      display:flex;\n",
              "      flex-wrap:wrap;\n",
              "      gap: 12px;\n",
              "    }\n",
              "\n",
              "    .colab-df-convert {\n",
              "      background-color: #E8F0FE;\n",
              "      border: none;\n",
              "      border-radius: 50%;\n",
              "      cursor: pointer;\n",
              "      display: none;\n",
              "      fill: #1967D2;\n",
              "      height: 32px;\n",
              "      padding: 0 0 0 0;\n",
              "      width: 32px;\n",
              "    }\n",
              "\n",
              "    .colab-df-convert:hover {\n",
              "      background-color: #E2EBFA;\n",
              "      box-shadow: 0px 1px 2px rgba(60, 64, 67, 0.3), 0px 1px 3px 1px rgba(60, 64, 67, 0.15);\n",
              "      fill: #174EA6;\n",
              "    }\n",
              "\n",
              "    [theme=dark] .colab-df-convert {\n",
              "      background-color: #3B4455;\n",
              "      fill: #D2E3FC;\n",
              "    }\n",
              "\n",
              "    [theme=dark] .colab-df-convert:hover {\n",
              "      background-color: #434B5C;\n",
              "      box-shadow: 0px 1px 3px 1px rgba(0, 0, 0, 0.15);\n",
              "      filter: drop-shadow(0px 1px 2px rgba(0, 0, 0, 0.3));\n",
              "      fill: #FFFFFF;\n",
              "    }\n",
              "  </style>\n",
              "\n",
              "      <script>\n",
              "        const buttonEl =\n",
              "          document.querySelector('#df-f0f9c1c8-d0ad-4b83-9200-4962d32b7fb7 button.colab-df-convert');\n",
              "        buttonEl.style.display =\n",
              "          google.colab.kernel.accessAllowed ? 'block' : 'none';\n",
              "\n",
              "        async function convertToInteractive(key) {\n",
              "          const element = document.querySelector('#df-f0f9c1c8-d0ad-4b83-9200-4962d32b7fb7');\n",
              "          const dataTable =\n",
              "            await google.colab.kernel.invokeFunction('convertToInteractive',\n",
              "                                                     [key], {});\n",
              "          if (!dataTable) return;\n",
              "\n",
              "          const docLinkHtml = 'Like what you see? Visit the ' +\n",
              "            '<a target=\"_blank\" href=https://colab.research.google.com/notebooks/data_table.ipynb>data table notebook</a>'\n",
              "            + ' to learn more about interactive tables.';\n",
              "          element.innerHTML = '';\n",
              "          dataTable['output_type'] = 'display_data';\n",
              "          await google.colab.output.renderOutput(dataTable, element);\n",
              "          const docLink = document.createElement('div');\n",
              "          docLink.innerHTML = docLinkHtml;\n",
              "          element.appendChild(docLink);\n",
              "        }\n",
              "      </script>\n",
              "    </div>\n",
              "  </div>\n",
              "  "
            ]
          },
          "metadata": {},
          "execution_count": 2
        }
      ]
    },
    {
      "cell_type": "markdown",
      "source": [
        "# Adding a colum with length info"
      ],
      "metadata": {
        "id": "BDd8WgmHL7xZ"
      }
    },
    {
      "cell_type": "markdown",
      "source": [
        "Data: df2 = df1"
      ],
      "metadata": {
        "id": "g5ukPyRUPhRY"
      }
    },
    {
      "cell_type": "code",
      "source": [
        "df2 = df1"
      ],
      "metadata": {
        "id": "bG4IheHULP5W"
      },
      "execution_count": 3,
      "outputs": []
    },
    {
      "cell_type": "code",
      "source": [
        "df2['N_Sents'] = df2['Passage'].apply(textstat.sentence_count)"
      ],
      "metadata": {
        "id": "qT57KWzuH3Kr"
      },
      "execution_count": 4,
      "outputs": []
    },
    {
      "cell_type": "code",
      "source": [
        "# Added column:  Splitted words, Length of splitted words\n",
        "tsplit = []\n",
        "splen = []\n",
        "\n",
        "for i in range(0, len(df2['Passage'])):\n",
        "  TSP = df2['Passage'][i].split()\n",
        "  SPLEN = len(TSP)\n",
        "  tsplit.append(TSP)\n",
        "  splen.append(SPLEN)\n",
        "  # print(TSP)\n",
        "\n",
        "df2['Splits'] = tsplit\n",
        "df2['N_Words'] = splen\n",
        "df2"
      ],
      "metadata": {
        "id": "_WoM7s_gMscU",
        "outputId": "2b06a6ab-5f05-446b-9794-392fa4bdd613",
        "colab": {
          "base_uri": "https://localhost:8080/",
          "height": 423
        }
      },
      "execution_count": 5,
      "outputs": [
        {
          "output_type": "execute_result",
          "data": {
            "text/plain": [
              "     Year     Category   QN  \\\n",
              "0    2015      Context  Q18   \n",
              "1    2015      Context  Q19   \n",
              "2    2015      Context  Q20   \n",
              "3    2015      Context  Q21   \n",
              "4    2015      Context  Q22   \n",
              "..    ...          ...  ...   \n",
              "131  2022  Infer-Logic  Q36   \n",
              "132  2022  Infer-Logic  Q37   \n",
              "133  2022  Infer-Logic  Q38   \n",
              "134  2022  Infer-Logic  Q39   \n",
              "135  2022      Context  Q40   \n",
              "\n",
              "                                               Passage  N_Sents  \\\n",
              "0    One difference between winners and losers is h...        8   \n",
              "1    As I walked to the train station, I felt the w...       10   \n",
              "2    Many disciplines are better learned by enterin...        6   \n",
              "3    The most normal and competent child encounters...        6   \n",
              "4    The most normal and competent child encounters...        6   \n",
              "..                                                 ...      ...   \n",
              "131  According to the market response model, it is ...        7   \n",
              "132  In spite of the likeness between the fictional...        7   \n",
              "133  Retraining current employees for new positions...        7   \n",
              "134  As long as the irrealism of the silent black a...        7   \n",
              "135  Philip Kitcher and Wesley Salmon have suggeste...        8   \n",
              "\n",
              "                                                Splits  N_Words  \n",
              "0    [One, difference, between, winners, and, loser...      107  \n",
              "1    [As, I, walked, to, the, train, station,, I, f...      123  \n",
              "2    [Many, disciplines, are, better, learned, by, ...      117  \n",
              "3    [The, most, normal, and, competent, child, enc...      128  \n",
              "4    [The, most, normal, and, competent, child, enc...      128  \n",
              "..                                                 ...      ...  \n",
              "131  [According, to, the, market, response, model,,...      163  \n",
              "132  [In, spite, of, the, likeness, between, the, f...      167  \n",
              "133  [Retraining, current, employees, for, new, pos...      155  \n",
              "134  [As, long, as, the, irrealism, of, the, silent...      174  \n",
              "135  [Philip, Kitcher, and, Wesley, Salmon, have, s...      154  \n",
              "\n",
              "[136 rows x 7 columns]"
            ],
            "text/html": [
              "\n",
              "  <div id=\"df-1a3fce52-a83f-4657-9584-d4c03ea4c229\">\n",
              "    <div class=\"colab-df-container\">\n",
              "      <div>\n",
              "<style scoped>\n",
              "    .dataframe tbody tr th:only-of-type {\n",
              "        vertical-align: middle;\n",
              "    }\n",
              "\n",
              "    .dataframe tbody tr th {\n",
              "        vertical-align: top;\n",
              "    }\n",
              "\n",
              "    .dataframe thead th {\n",
              "        text-align: right;\n",
              "    }\n",
              "</style>\n",
              "<table border=\"1\" class=\"dataframe\">\n",
              "  <thead>\n",
              "    <tr style=\"text-align: right;\">\n",
              "      <th></th>\n",
              "      <th>Year</th>\n",
              "      <th>Category</th>\n",
              "      <th>QN</th>\n",
              "      <th>Passage</th>\n",
              "      <th>N_Sents</th>\n",
              "      <th>Splits</th>\n",
              "      <th>N_Words</th>\n",
              "    </tr>\n",
              "  </thead>\n",
              "  <tbody>\n",
              "    <tr>\n",
              "      <th>0</th>\n",
              "      <td>2015</td>\n",
              "      <td>Context</td>\n",
              "      <td>Q18</td>\n",
              "      <td>One difference between winners and losers is h...</td>\n",
              "      <td>8</td>\n",
              "      <td>[One, difference, between, winners, and, loser...</td>\n",
              "      <td>107</td>\n",
              "    </tr>\n",
              "    <tr>\n",
              "      <th>1</th>\n",
              "      <td>2015</td>\n",
              "      <td>Context</td>\n",
              "      <td>Q19</td>\n",
              "      <td>As I walked to the train station, I felt the w...</td>\n",
              "      <td>10</td>\n",
              "      <td>[As, I, walked, to, the, train, station,, I, f...</td>\n",
              "      <td>123</td>\n",
              "    </tr>\n",
              "    <tr>\n",
              "      <th>2</th>\n",
              "      <td>2015</td>\n",
              "      <td>Context</td>\n",
              "      <td>Q20</td>\n",
              "      <td>Many disciplines are better learned by enterin...</td>\n",
              "      <td>6</td>\n",
              "      <td>[Many, disciplines, are, better, learned, by, ...</td>\n",
              "      <td>117</td>\n",
              "    </tr>\n",
              "    <tr>\n",
              "      <th>3</th>\n",
              "      <td>2015</td>\n",
              "      <td>Context</td>\n",
              "      <td>Q21</td>\n",
              "      <td>The most normal and competent child encounters...</td>\n",
              "      <td>6</td>\n",
              "      <td>[The, most, normal, and, competent, child, enc...</td>\n",
              "      <td>128</td>\n",
              "    </tr>\n",
              "    <tr>\n",
              "      <th>4</th>\n",
              "      <td>2015</td>\n",
              "      <td>Context</td>\n",
              "      <td>Q22</td>\n",
              "      <td>The most normal and competent child encounters...</td>\n",
              "      <td>6</td>\n",
              "      <td>[The, most, normal, and, competent, child, enc...</td>\n",
              "      <td>128</td>\n",
              "    </tr>\n",
              "    <tr>\n",
              "      <th>...</th>\n",
              "      <td>...</td>\n",
              "      <td>...</td>\n",
              "      <td>...</td>\n",
              "      <td>...</td>\n",
              "      <td>...</td>\n",
              "      <td>...</td>\n",
              "      <td>...</td>\n",
              "    </tr>\n",
              "    <tr>\n",
              "      <th>131</th>\n",
              "      <td>2022</td>\n",
              "      <td>Infer-Logic</td>\n",
              "      <td>Q36</td>\n",
              "      <td>According to the market response model, it is ...</td>\n",
              "      <td>7</td>\n",
              "      <td>[According, to, the, market, response, model,,...</td>\n",
              "      <td>163</td>\n",
              "    </tr>\n",
              "    <tr>\n",
              "      <th>132</th>\n",
              "      <td>2022</td>\n",
              "      <td>Infer-Logic</td>\n",
              "      <td>Q37</td>\n",
              "      <td>In spite of the likeness between the fictional...</td>\n",
              "      <td>7</td>\n",
              "      <td>[In, spite, of, the, likeness, between, the, f...</td>\n",
              "      <td>167</td>\n",
              "    </tr>\n",
              "    <tr>\n",
              "      <th>133</th>\n",
              "      <td>2022</td>\n",
              "      <td>Infer-Logic</td>\n",
              "      <td>Q38</td>\n",
              "      <td>Retraining current employees for new positions...</td>\n",
              "      <td>7</td>\n",
              "      <td>[Retraining, current, employees, for, new, pos...</td>\n",
              "      <td>155</td>\n",
              "    </tr>\n",
              "    <tr>\n",
              "      <th>134</th>\n",
              "      <td>2022</td>\n",
              "      <td>Infer-Logic</td>\n",
              "      <td>Q39</td>\n",
              "      <td>As long as the irrealism of the silent black a...</td>\n",
              "      <td>7</td>\n",
              "      <td>[As, long, as, the, irrealism, of, the, silent...</td>\n",
              "      <td>174</td>\n",
              "    </tr>\n",
              "    <tr>\n",
              "      <th>135</th>\n",
              "      <td>2022</td>\n",
              "      <td>Context</td>\n",
              "      <td>Q40</td>\n",
              "      <td>Philip Kitcher and Wesley Salmon have suggeste...</td>\n",
              "      <td>8</td>\n",
              "      <td>[Philip, Kitcher, and, Wesley, Salmon, have, s...</td>\n",
              "      <td>154</td>\n",
              "    </tr>\n",
              "  </tbody>\n",
              "</table>\n",
              "<p>136 rows × 7 columns</p>\n",
              "</div>\n",
              "      <button class=\"colab-df-convert\" onclick=\"convertToInteractive('df-1a3fce52-a83f-4657-9584-d4c03ea4c229')\"\n",
              "              title=\"Convert this dataframe to an interactive table.\"\n",
              "              style=\"display:none;\">\n",
              "        \n",
              "  <svg xmlns=\"http://www.w3.org/2000/svg\" height=\"24px\"viewBox=\"0 0 24 24\"\n",
              "       width=\"24px\">\n",
              "    <path d=\"M0 0h24v24H0V0z\" fill=\"none\"/>\n",
              "    <path d=\"M18.56 5.44l.94 2.06.94-2.06 2.06-.94-2.06-.94-.94-2.06-.94 2.06-2.06.94zm-11 1L8.5 8.5l.94-2.06 2.06-.94-2.06-.94L8.5 2.5l-.94 2.06-2.06.94zm10 10l.94 2.06.94-2.06 2.06-.94-2.06-.94-.94-2.06-.94 2.06-2.06.94z\"/><path d=\"M17.41 7.96l-1.37-1.37c-.4-.4-.92-.59-1.43-.59-.52 0-1.04.2-1.43.59L10.3 9.45l-7.72 7.72c-.78.78-.78 2.05 0 2.83L4 21.41c.39.39.9.59 1.41.59.51 0 1.02-.2 1.41-.59l7.78-7.78 2.81-2.81c.8-.78.8-2.07 0-2.86zM5.41 20L4 18.59l7.72-7.72 1.47 1.35L5.41 20z\"/>\n",
              "  </svg>\n",
              "      </button>\n",
              "      \n",
              "  <style>\n",
              "    .colab-df-container {\n",
              "      display:flex;\n",
              "      flex-wrap:wrap;\n",
              "      gap: 12px;\n",
              "    }\n",
              "\n",
              "    .colab-df-convert {\n",
              "      background-color: #E8F0FE;\n",
              "      border: none;\n",
              "      border-radius: 50%;\n",
              "      cursor: pointer;\n",
              "      display: none;\n",
              "      fill: #1967D2;\n",
              "      height: 32px;\n",
              "      padding: 0 0 0 0;\n",
              "      width: 32px;\n",
              "    }\n",
              "\n",
              "    .colab-df-convert:hover {\n",
              "      background-color: #E2EBFA;\n",
              "      box-shadow: 0px 1px 2px rgba(60, 64, 67, 0.3), 0px 1px 3px 1px rgba(60, 64, 67, 0.15);\n",
              "      fill: #174EA6;\n",
              "    }\n",
              "\n",
              "    [theme=dark] .colab-df-convert {\n",
              "      background-color: #3B4455;\n",
              "      fill: #D2E3FC;\n",
              "    }\n",
              "\n",
              "    [theme=dark] .colab-df-convert:hover {\n",
              "      background-color: #434B5C;\n",
              "      box-shadow: 0px 1px 3px 1px rgba(0, 0, 0, 0.15);\n",
              "      filter: drop-shadow(0px 1px 2px rgba(0, 0, 0, 0.3));\n",
              "      fill: #FFFFFF;\n",
              "    }\n",
              "  </style>\n",
              "\n",
              "      <script>\n",
              "        const buttonEl =\n",
              "          document.querySelector('#df-1a3fce52-a83f-4657-9584-d4c03ea4c229 button.colab-df-convert');\n",
              "        buttonEl.style.display =\n",
              "          google.colab.kernel.accessAllowed ? 'block' : 'none';\n",
              "\n",
              "        async function convertToInteractive(key) {\n",
              "          const element = document.querySelector('#df-1a3fce52-a83f-4657-9584-d4c03ea4c229');\n",
              "          const dataTable =\n",
              "            await google.colab.kernel.invokeFunction('convertToInteractive',\n",
              "                                                     [key], {});\n",
              "          if (!dataTable) return;\n",
              "\n",
              "          const docLinkHtml = 'Like what you see? Visit the ' +\n",
              "            '<a target=\"_blank\" href=https://colab.research.google.com/notebooks/data_table.ipynb>data table notebook</a>'\n",
              "            + ' to learn more about interactive tables.';\n",
              "          element.innerHTML = '';\n",
              "          dataTable['output_type'] = 'display_data';\n",
              "          await google.colab.output.renderOutput(dataTable, element);\n",
              "          const docLink = document.createElement('div');\n",
              "          docLink.innerHTML = docLinkHtml;\n",
              "          element.appendChild(docLink);\n",
              "        }\n",
              "      </script>\n",
              "    </div>\n",
              "  </div>\n",
              "  "
            ]
          },
          "metadata": {},
          "execution_count": 5
        }
      ]
    },
    {
      "cell_type": "code",
      "source": [
        "#@markdown {re} count syllables: count_syllables(word)\n",
        "import re\n",
        "\n",
        "def count_syllables(word):\n",
        "    return len(\n",
        "        re.findall('(?!e$)[aeiouy]+', word, re.I) +\n",
        "        re.findall('^[^aeiouy]*e$', word, re.I)\n",
        "    )"
      ],
      "metadata": {
        "id": "lkouF_-9IQwW",
        "cellView": "form"
      },
      "execution_count": 6,
      "outputs": []
    },
    {
      "cell_type": "code",
      "source": [
        "# function created\n",
        "count_syllables(\"syllabilifcation\")"
      ],
      "metadata": {
        "id": "dY4fNBk-QJRk",
        "outputId": "885bc398-a952-4e00-d1c3-1c54994f3584",
        "colab": {
          "base_uri": "https://localhost:8080/"
        }
      },
      "execution_count": 7,
      "outputs": [
        {
          "output_type": "execute_result",
          "data": {
            "text/plain": [
              "6"
            ]
          },
          "metadata": {},
          "execution_count": 7
        }
      ]
    },
    {
      "cell_type": "code",
      "source": [
        "#@markdown Adding a column: String length\n",
        "length = []\n",
        "\n",
        "for i in range(0, len(df2['Passage'])):\n",
        "  LEN = len(df2['Passage'][i])\n",
        "  length.append(LEN)\n",
        "df2['String'] = length\n",
        "df2"
      ],
      "metadata": {
        "id": "MpEiFpndMDkY",
        "outputId": "a0a4e79c-156a-452f-bf29-824e8c4696f6",
        "colab": {
          "base_uri": "https://localhost:8080/",
          "height": 423
        },
        "cellView": "form"
      },
      "execution_count": 8,
      "outputs": [
        {
          "output_type": "execute_result",
          "data": {
            "text/plain": [
              "     Year     Category   QN  \\\n",
              "0    2015      Context  Q18   \n",
              "1    2015      Context  Q19   \n",
              "2    2015      Context  Q20   \n",
              "3    2015      Context  Q21   \n",
              "4    2015      Context  Q22   \n",
              "..    ...          ...  ...   \n",
              "131  2022  Infer-Logic  Q36   \n",
              "132  2022  Infer-Logic  Q37   \n",
              "133  2022  Infer-Logic  Q38   \n",
              "134  2022  Infer-Logic  Q39   \n",
              "135  2022      Context  Q40   \n",
              "\n",
              "                                               Passage  N_Sents  \\\n",
              "0    One difference between winners and losers is h...        8   \n",
              "1    As I walked to the train station, I felt the w...       10   \n",
              "2    Many disciplines are better learned by enterin...        6   \n",
              "3    The most normal and competent child encounters...        6   \n",
              "4    The most normal and competent child encounters...        6   \n",
              "..                                                 ...      ...   \n",
              "131  According to the market response model, it is ...        7   \n",
              "132  In spite of the likeness between the fictional...        7   \n",
              "133  Retraining current employees for new positions...        7   \n",
              "134  As long as the irrealism of the silent black a...        7   \n",
              "135  Philip Kitcher and Wesley Salmon have suggeste...        8   \n",
              "\n",
              "                                                Splits  N_Words  String  \n",
              "0    [One, difference, between, winners, and, loser...      107     635  \n",
              "1    [As, I, walked, to, the, train, station,, I, f...      123     628  \n",
              "2    [Many, disciplines, are, better, learned, by, ...      117     715  \n",
              "3    [The, most, normal, and, competent, child, enc...      128     737  \n",
              "4    [The, most, normal, and, competent, child, enc...      128     724  \n",
              "..                                                 ...      ...     ...  \n",
              "131  [According, to, the, market, response, model,,...      163    1035  \n",
              "132  [In, spite, of, the, likeness, between, the, f...      167    1025  \n",
              "133  [Retraining, current, employees, for, new, pos...      155     981  \n",
              "134  [As, long, as, the, irrealism, of, the, silent...      174    1068  \n",
              "135  [Philip, Kitcher, and, Wesley, Salmon, have, s...      154    1069  \n",
              "\n",
              "[136 rows x 8 columns]"
            ],
            "text/html": [
              "\n",
              "  <div id=\"df-61a90efb-9f07-49bb-a3bb-1ea4426c3b58\">\n",
              "    <div class=\"colab-df-container\">\n",
              "      <div>\n",
              "<style scoped>\n",
              "    .dataframe tbody tr th:only-of-type {\n",
              "        vertical-align: middle;\n",
              "    }\n",
              "\n",
              "    .dataframe tbody tr th {\n",
              "        vertical-align: top;\n",
              "    }\n",
              "\n",
              "    .dataframe thead th {\n",
              "        text-align: right;\n",
              "    }\n",
              "</style>\n",
              "<table border=\"1\" class=\"dataframe\">\n",
              "  <thead>\n",
              "    <tr style=\"text-align: right;\">\n",
              "      <th></th>\n",
              "      <th>Year</th>\n",
              "      <th>Category</th>\n",
              "      <th>QN</th>\n",
              "      <th>Passage</th>\n",
              "      <th>N_Sents</th>\n",
              "      <th>Splits</th>\n",
              "      <th>N_Words</th>\n",
              "      <th>String</th>\n",
              "    </tr>\n",
              "  </thead>\n",
              "  <tbody>\n",
              "    <tr>\n",
              "      <th>0</th>\n",
              "      <td>2015</td>\n",
              "      <td>Context</td>\n",
              "      <td>Q18</td>\n",
              "      <td>One difference between winners and losers is h...</td>\n",
              "      <td>8</td>\n",
              "      <td>[One, difference, between, winners, and, loser...</td>\n",
              "      <td>107</td>\n",
              "      <td>635</td>\n",
              "    </tr>\n",
              "    <tr>\n",
              "      <th>1</th>\n",
              "      <td>2015</td>\n",
              "      <td>Context</td>\n",
              "      <td>Q19</td>\n",
              "      <td>As I walked to the train station, I felt the w...</td>\n",
              "      <td>10</td>\n",
              "      <td>[As, I, walked, to, the, train, station,, I, f...</td>\n",
              "      <td>123</td>\n",
              "      <td>628</td>\n",
              "    </tr>\n",
              "    <tr>\n",
              "      <th>2</th>\n",
              "      <td>2015</td>\n",
              "      <td>Context</td>\n",
              "      <td>Q20</td>\n",
              "      <td>Many disciplines are better learned by enterin...</td>\n",
              "      <td>6</td>\n",
              "      <td>[Many, disciplines, are, better, learned, by, ...</td>\n",
              "      <td>117</td>\n",
              "      <td>715</td>\n",
              "    </tr>\n",
              "    <tr>\n",
              "      <th>3</th>\n",
              "      <td>2015</td>\n",
              "      <td>Context</td>\n",
              "      <td>Q21</td>\n",
              "      <td>The most normal and competent child encounters...</td>\n",
              "      <td>6</td>\n",
              "      <td>[The, most, normal, and, competent, child, enc...</td>\n",
              "      <td>128</td>\n",
              "      <td>737</td>\n",
              "    </tr>\n",
              "    <tr>\n",
              "      <th>4</th>\n",
              "      <td>2015</td>\n",
              "      <td>Context</td>\n",
              "      <td>Q22</td>\n",
              "      <td>The most normal and competent child encounters...</td>\n",
              "      <td>6</td>\n",
              "      <td>[The, most, normal, and, competent, child, enc...</td>\n",
              "      <td>128</td>\n",
              "      <td>724</td>\n",
              "    </tr>\n",
              "    <tr>\n",
              "      <th>...</th>\n",
              "      <td>...</td>\n",
              "      <td>...</td>\n",
              "      <td>...</td>\n",
              "      <td>...</td>\n",
              "      <td>...</td>\n",
              "      <td>...</td>\n",
              "      <td>...</td>\n",
              "      <td>...</td>\n",
              "    </tr>\n",
              "    <tr>\n",
              "      <th>131</th>\n",
              "      <td>2022</td>\n",
              "      <td>Infer-Logic</td>\n",
              "      <td>Q36</td>\n",
              "      <td>According to the market response model, it is ...</td>\n",
              "      <td>7</td>\n",
              "      <td>[According, to, the, market, response, model,,...</td>\n",
              "      <td>163</td>\n",
              "      <td>1035</td>\n",
              "    </tr>\n",
              "    <tr>\n",
              "      <th>132</th>\n",
              "      <td>2022</td>\n",
              "      <td>Infer-Logic</td>\n",
              "      <td>Q37</td>\n",
              "      <td>In spite of the likeness between the fictional...</td>\n",
              "      <td>7</td>\n",
              "      <td>[In, spite, of, the, likeness, between, the, f...</td>\n",
              "      <td>167</td>\n",
              "      <td>1025</td>\n",
              "    </tr>\n",
              "    <tr>\n",
              "      <th>133</th>\n",
              "      <td>2022</td>\n",
              "      <td>Infer-Logic</td>\n",
              "      <td>Q38</td>\n",
              "      <td>Retraining current employees for new positions...</td>\n",
              "      <td>7</td>\n",
              "      <td>[Retraining, current, employees, for, new, pos...</td>\n",
              "      <td>155</td>\n",
              "      <td>981</td>\n",
              "    </tr>\n",
              "    <tr>\n",
              "      <th>134</th>\n",
              "      <td>2022</td>\n",
              "      <td>Infer-Logic</td>\n",
              "      <td>Q39</td>\n",
              "      <td>As long as the irrealism of the silent black a...</td>\n",
              "      <td>7</td>\n",
              "      <td>[As, long, as, the, irrealism, of, the, silent...</td>\n",
              "      <td>174</td>\n",
              "      <td>1068</td>\n",
              "    </tr>\n",
              "    <tr>\n",
              "      <th>135</th>\n",
              "      <td>2022</td>\n",
              "      <td>Context</td>\n",
              "      <td>Q40</td>\n",
              "      <td>Philip Kitcher and Wesley Salmon have suggeste...</td>\n",
              "      <td>8</td>\n",
              "      <td>[Philip, Kitcher, and, Wesley, Salmon, have, s...</td>\n",
              "      <td>154</td>\n",
              "      <td>1069</td>\n",
              "    </tr>\n",
              "  </tbody>\n",
              "</table>\n",
              "<p>136 rows × 8 columns</p>\n",
              "</div>\n",
              "      <button class=\"colab-df-convert\" onclick=\"convertToInteractive('df-61a90efb-9f07-49bb-a3bb-1ea4426c3b58')\"\n",
              "              title=\"Convert this dataframe to an interactive table.\"\n",
              "              style=\"display:none;\">\n",
              "        \n",
              "  <svg xmlns=\"http://www.w3.org/2000/svg\" height=\"24px\"viewBox=\"0 0 24 24\"\n",
              "       width=\"24px\">\n",
              "    <path d=\"M0 0h24v24H0V0z\" fill=\"none\"/>\n",
              "    <path d=\"M18.56 5.44l.94 2.06.94-2.06 2.06-.94-2.06-.94-.94-2.06-.94 2.06-2.06.94zm-11 1L8.5 8.5l.94-2.06 2.06-.94-2.06-.94L8.5 2.5l-.94 2.06-2.06.94zm10 10l.94 2.06.94-2.06 2.06-.94-2.06-.94-.94-2.06-.94 2.06-2.06.94z\"/><path d=\"M17.41 7.96l-1.37-1.37c-.4-.4-.92-.59-1.43-.59-.52 0-1.04.2-1.43.59L10.3 9.45l-7.72 7.72c-.78.78-.78 2.05 0 2.83L4 21.41c.39.39.9.59 1.41.59.51 0 1.02-.2 1.41-.59l7.78-7.78 2.81-2.81c.8-.78.8-2.07 0-2.86zM5.41 20L4 18.59l7.72-7.72 1.47 1.35L5.41 20z\"/>\n",
              "  </svg>\n",
              "      </button>\n",
              "      \n",
              "  <style>\n",
              "    .colab-df-container {\n",
              "      display:flex;\n",
              "      flex-wrap:wrap;\n",
              "      gap: 12px;\n",
              "    }\n",
              "\n",
              "    .colab-df-convert {\n",
              "      background-color: #E8F0FE;\n",
              "      border: none;\n",
              "      border-radius: 50%;\n",
              "      cursor: pointer;\n",
              "      display: none;\n",
              "      fill: #1967D2;\n",
              "      height: 32px;\n",
              "      padding: 0 0 0 0;\n",
              "      width: 32px;\n",
              "    }\n",
              "\n",
              "    .colab-df-convert:hover {\n",
              "      background-color: #E2EBFA;\n",
              "      box-shadow: 0px 1px 2px rgba(60, 64, 67, 0.3), 0px 1px 3px 1px rgba(60, 64, 67, 0.15);\n",
              "      fill: #174EA6;\n",
              "    }\n",
              "\n",
              "    [theme=dark] .colab-df-convert {\n",
              "      background-color: #3B4455;\n",
              "      fill: #D2E3FC;\n",
              "    }\n",
              "\n",
              "    [theme=dark] .colab-df-convert:hover {\n",
              "      background-color: #434B5C;\n",
              "      box-shadow: 0px 1px 3px 1px rgba(0, 0, 0, 0.15);\n",
              "      filter: drop-shadow(0px 1px 2px rgba(0, 0, 0, 0.3));\n",
              "      fill: #FFFFFF;\n",
              "    }\n",
              "  </style>\n",
              "\n",
              "      <script>\n",
              "        const buttonEl =\n",
              "          document.querySelector('#df-61a90efb-9f07-49bb-a3bb-1ea4426c3b58 button.colab-df-convert');\n",
              "        buttonEl.style.display =\n",
              "          google.colab.kernel.accessAllowed ? 'block' : 'none';\n",
              "\n",
              "        async function convertToInteractive(key) {\n",
              "          const element = document.querySelector('#df-61a90efb-9f07-49bb-a3bb-1ea4426c3b58');\n",
              "          const dataTable =\n",
              "            await google.colab.kernel.invokeFunction('convertToInteractive',\n",
              "                                                     [key], {});\n",
              "          if (!dataTable) return;\n",
              "\n",
              "          const docLinkHtml = 'Like what you see? Visit the ' +\n",
              "            '<a target=\"_blank\" href=https://colab.research.google.com/notebooks/data_table.ipynb>data table notebook</a>'\n",
              "            + ' to learn more about interactive tables.';\n",
              "          element.innerHTML = '';\n",
              "          dataTable['output_type'] = 'display_data';\n",
              "          await google.colab.output.renderOutput(dataTable, element);\n",
              "          const docLink = document.createElement('div');\n",
              "          docLink.innerHTML = docLinkHtml;\n",
              "          element.appendChild(docLink);\n",
              "        }\n",
              "      </script>\n",
              "    </div>\n",
              "  </div>\n",
              "  "
            ]
          },
          "metadata": {},
          "execution_count": 8
        }
      ]
    },
    {
      "cell_type": "code",
      "source": [
        "df2['N_Sents'].groupby(df2['Year']).describe()"
      ],
      "metadata": {
        "id": "HnIo4cugH4PB",
        "outputId": "a92e3656-435a-4adb-c479-895f19a1bc66",
        "colab": {
          "base_uri": "https://localhost:8080/",
          "height": 331
        }
      },
      "execution_count": 9,
      "outputs": [
        {
          "output_type": "execute_result",
          "data": {
            "text/plain": [
              "      count      mean       std  min  25%  50%   75%   max\n",
              "Year                                                      \n",
              "2015   17.0  7.411765  1.325652  6.0  6.0  8.0   8.0  10.0\n",
              "2016   17.0  7.411765  1.769845  4.0  7.0  7.0   9.0  10.0\n",
              "2017   17.0  7.529412  2.124784  5.0  6.0  7.0   8.0  13.0\n",
              "2018   17.0  7.882353  1.932691  5.0  6.0  8.0   9.0  12.0\n",
              "2019   17.0  8.000000  2.091650  5.0  7.0  8.0   9.0  13.0\n",
              "2020   17.0  7.352941  2.059769  5.0  6.0  7.0   9.0  12.0\n",
              "2021   17.0  8.411765  2.209605  6.0  7.0  8.0  10.0  14.0\n",
              "2022   17.0  6.941176  1.088037  5.0  6.0  7.0   8.0   9.0"
            ],
            "text/html": [
              "\n",
              "  <div id=\"df-39f26832-f799-4593-a28b-78335bb9b4b0\">\n",
              "    <div class=\"colab-df-container\">\n",
              "      <div>\n",
              "<style scoped>\n",
              "    .dataframe tbody tr th:only-of-type {\n",
              "        vertical-align: middle;\n",
              "    }\n",
              "\n",
              "    .dataframe tbody tr th {\n",
              "        vertical-align: top;\n",
              "    }\n",
              "\n",
              "    .dataframe thead th {\n",
              "        text-align: right;\n",
              "    }\n",
              "</style>\n",
              "<table border=\"1\" class=\"dataframe\">\n",
              "  <thead>\n",
              "    <tr style=\"text-align: right;\">\n",
              "      <th></th>\n",
              "      <th>count</th>\n",
              "      <th>mean</th>\n",
              "      <th>std</th>\n",
              "      <th>min</th>\n",
              "      <th>25%</th>\n",
              "      <th>50%</th>\n",
              "      <th>75%</th>\n",
              "      <th>max</th>\n",
              "    </tr>\n",
              "    <tr>\n",
              "      <th>Year</th>\n",
              "      <th></th>\n",
              "      <th></th>\n",
              "      <th></th>\n",
              "      <th></th>\n",
              "      <th></th>\n",
              "      <th></th>\n",
              "      <th></th>\n",
              "      <th></th>\n",
              "    </tr>\n",
              "  </thead>\n",
              "  <tbody>\n",
              "    <tr>\n",
              "      <th>2015</th>\n",
              "      <td>17.0</td>\n",
              "      <td>7.411765</td>\n",
              "      <td>1.325652</td>\n",
              "      <td>6.0</td>\n",
              "      <td>6.0</td>\n",
              "      <td>8.0</td>\n",
              "      <td>8.0</td>\n",
              "      <td>10.0</td>\n",
              "    </tr>\n",
              "    <tr>\n",
              "      <th>2016</th>\n",
              "      <td>17.0</td>\n",
              "      <td>7.411765</td>\n",
              "      <td>1.769845</td>\n",
              "      <td>4.0</td>\n",
              "      <td>7.0</td>\n",
              "      <td>7.0</td>\n",
              "      <td>9.0</td>\n",
              "      <td>10.0</td>\n",
              "    </tr>\n",
              "    <tr>\n",
              "      <th>2017</th>\n",
              "      <td>17.0</td>\n",
              "      <td>7.529412</td>\n",
              "      <td>2.124784</td>\n",
              "      <td>5.0</td>\n",
              "      <td>6.0</td>\n",
              "      <td>7.0</td>\n",
              "      <td>8.0</td>\n",
              "      <td>13.0</td>\n",
              "    </tr>\n",
              "    <tr>\n",
              "      <th>2018</th>\n",
              "      <td>17.0</td>\n",
              "      <td>7.882353</td>\n",
              "      <td>1.932691</td>\n",
              "      <td>5.0</td>\n",
              "      <td>6.0</td>\n",
              "      <td>8.0</td>\n",
              "      <td>9.0</td>\n",
              "      <td>12.0</td>\n",
              "    </tr>\n",
              "    <tr>\n",
              "      <th>2019</th>\n",
              "      <td>17.0</td>\n",
              "      <td>8.000000</td>\n",
              "      <td>2.091650</td>\n",
              "      <td>5.0</td>\n",
              "      <td>7.0</td>\n",
              "      <td>8.0</td>\n",
              "      <td>9.0</td>\n",
              "      <td>13.0</td>\n",
              "    </tr>\n",
              "    <tr>\n",
              "      <th>2020</th>\n",
              "      <td>17.0</td>\n",
              "      <td>7.352941</td>\n",
              "      <td>2.059769</td>\n",
              "      <td>5.0</td>\n",
              "      <td>6.0</td>\n",
              "      <td>7.0</td>\n",
              "      <td>9.0</td>\n",
              "      <td>12.0</td>\n",
              "    </tr>\n",
              "    <tr>\n",
              "      <th>2021</th>\n",
              "      <td>17.0</td>\n",
              "      <td>8.411765</td>\n",
              "      <td>2.209605</td>\n",
              "      <td>6.0</td>\n",
              "      <td>7.0</td>\n",
              "      <td>8.0</td>\n",
              "      <td>10.0</td>\n",
              "      <td>14.0</td>\n",
              "    </tr>\n",
              "    <tr>\n",
              "      <th>2022</th>\n",
              "      <td>17.0</td>\n",
              "      <td>6.941176</td>\n",
              "      <td>1.088037</td>\n",
              "      <td>5.0</td>\n",
              "      <td>6.0</td>\n",
              "      <td>7.0</td>\n",
              "      <td>8.0</td>\n",
              "      <td>9.0</td>\n",
              "    </tr>\n",
              "  </tbody>\n",
              "</table>\n",
              "</div>\n",
              "      <button class=\"colab-df-convert\" onclick=\"convertToInteractive('df-39f26832-f799-4593-a28b-78335bb9b4b0')\"\n",
              "              title=\"Convert this dataframe to an interactive table.\"\n",
              "              style=\"display:none;\">\n",
              "        \n",
              "  <svg xmlns=\"http://www.w3.org/2000/svg\" height=\"24px\"viewBox=\"0 0 24 24\"\n",
              "       width=\"24px\">\n",
              "    <path d=\"M0 0h24v24H0V0z\" fill=\"none\"/>\n",
              "    <path d=\"M18.56 5.44l.94 2.06.94-2.06 2.06-.94-2.06-.94-.94-2.06-.94 2.06-2.06.94zm-11 1L8.5 8.5l.94-2.06 2.06-.94-2.06-.94L8.5 2.5l-.94 2.06-2.06.94zm10 10l.94 2.06.94-2.06 2.06-.94-2.06-.94-.94-2.06-.94 2.06-2.06.94z\"/><path d=\"M17.41 7.96l-1.37-1.37c-.4-.4-.92-.59-1.43-.59-.52 0-1.04.2-1.43.59L10.3 9.45l-7.72 7.72c-.78.78-.78 2.05 0 2.83L4 21.41c.39.39.9.59 1.41.59.51 0 1.02-.2 1.41-.59l7.78-7.78 2.81-2.81c.8-.78.8-2.07 0-2.86zM5.41 20L4 18.59l7.72-7.72 1.47 1.35L5.41 20z\"/>\n",
              "  </svg>\n",
              "      </button>\n",
              "      \n",
              "  <style>\n",
              "    .colab-df-container {\n",
              "      display:flex;\n",
              "      flex-wrap:wrap;\n",
              "      gap: 12px;\n",
              "    }\n",
              "\n",
              "    .colab-df-convert {\n",
              "      background-color: #E8F0FE;\n",
              "      border: none;\n",
              "      border-radius: 50%;\n",
              "      cursor: pointer;\n",
              "      display: none;\n",
              "      fill: #1967D2;\n",
              "      height: 32px;\n",
              "      padding: 0 0 0 0;\n",
              "      width: 32px;\n",
              "    }\n",
              "\n",
              "    .colab-df-convert:hover {\n",
              "      background-color: #E2EBFA;\n",
              "      box-shadow: 0px 1px 2px rgba(60, 64, 67, 0.3), 0px 1px 3px 1px rgba(60, 64, 67, 0.15);\n",
              "      fill: #174EA6;\n",
              "    }\n",
              "\n",
              "    [theme=dark] .colab-df-convert {\n",
              "      background-color: #3B4455;\n",
              "      fill: #D2E3FC;\n",
              "    }\n",
              "\n",
              "    [theme=dark] .colab-df-convert:hover {\n",
              "      background-color: #434B5C;\n",
              "      box-shadow: 0px 1px 3px 1px rgba(0, 0, 0, 0.15);\n",
              "      filter: drop-shadow(0px 1px 2px rgba(0, 0, 0, 0.3));\n",
              "      fill: #FFFFFF;\n",
              "    }\n",
              "  </style>\n",
              "\n",
              "      <script>\n",
              "        const buttonEl =\n",
              "          document.querySelector('#df-39f26832-f799-4593-a28b-78335bb9b4b0 button.colab-df-convert');\n",
              "        buttonEl.style.display =\n",
              "          google.colab.kernel.accessAllowed ? 'block' : 'none';\n",
              "\n",
              "        async function convertToInteractive(key) {\n",
              "          const element = document.querySelector('#df-39f26832-f799-4593-a28b-78335bb9b4b0');\n",
              "          const dataTable =\n",
              "            await google.colab.kernel.invokeFunction('convertToInteractive',\n",
              "                                                     [key], {});\n",
              "          if (!dataTable) return;\n",
              "\n",
              "          const docLinkHtml = 'Like what you see? Visit the ' +\n",
              "            '<a target=\"_blank\" href=https://colab.research.google.com/notebooks/data_table.ipynb>data table notebook</a>'\n",
              "            + ' to learn more about interactive tables.';\n",
              "          element.innerHTML = '';\n",
              "          dataTable['output_type'] = 'display_data';\n",
              "          await google.colab.output.renderOutput(dataTable, element);\n",
              "          const docLink = document.createElement('div');\n",
              "          docLink.innerHTML = docLinkHtml;\n",
              "          element.appendChild(docLink);\n",
              "        }\n",
              "      </script>\n",
              "    </div>\n",
              "  </div>\n",
              "  "
            ]
          },
          "metadata": {},
          "execution_count": 9
        }
      ]
    },
    {
      "cell_type": "code",
      "source": [
        "df2.describe()"
      ],
      "metadata": {
        "id": "wflS6qdIz0c9",
        "outputId": "0ab9f269-938a-443c-f81d-9ecc876094d1",
        "colab": {
          "base_uri": "https://localhost:8080/",
          "height": 300
        }
      },
      "execution_count": 10,
      "outputs": [
        {
          "output_type": "execute_result",
          "data": {
            "text/plain": [
              "              Year     N_Sents     N_Words       String\n",
              "count   136.000000  136.000000  136.000000   136.000000\n",
              "mean   2018.500000    7.617647  152.191176   928.669118\n",
              "std       2.299758    1.866106   20.197732   150.532933\n",
              "min    2015.000000    4.000000  105.000000   575.000000\n",
              "25%    2016.750000    6.000000  136.000000   823.250000\n",
              "50%    2018.500000    7.000000  155.500000   955.500000\n",
              "75%    2020.250000    9.000000  167.000000  1047.250000\n",
              "max    2022.000000   14.000000  195.000000  1264.000000"
            ],
            "text/html": [
              "\n",
              "  <div id=\"df-af4db039-241d-40e5-bcd1-be2a8bd49bf5\">\n",
              "    <div class=\"colab-df-container\">\n",
              "      <div>\n",
              "<style scoped>\n",
              "    .dataframe tbody tr th:only-of-type {\n",
              "        vertical-align: middle;\n",
              "    }\n",
              "\n",
              "    .dataframe tbody tr th {\n",
              "        vertical-align: top;\n",
              "    }\n",
              "\n",
              "    .dataframe thead th {\n",
              "        text-align: right;\n",
              "    }\n",
              "</style>\n",
              "<table border=\"1\" class=\"dataframe\">\n",
              "  <thead>\n",
              "    <tr style=\"text-align: right;\">\n",
              "      <th></th>\n",
              "      <th>Year</th>\n",
              "      <th>N_Sents</th>\n",
              "      <th>N_Words</th>\n",
              "      <th>String</th>\n",
              "    </tr>\n",
              "  </thead>\n",
              "  <tbody>\n",
              "    <tr>\n",
              "      <th>count</th>\n",
              "      <td>136.000000</td>\n",
              "      <td>136.000000</td>\n",
              "      <td>136.000000</td>\n",
              "      <td>136.000000</td>\n",
              "    </tr>\n",
              "    <tr>\n",
              "      <th>mean</th>\n",
              "      <td>2018.500000</td>\n",
              "      <td>7.617647</td>\n",
              "      <td>152.191176</td>\n",
              "      <td>928.669118</td>\n",
              "    </tr>\n",
              "    <tr>\n",
              "      <th>std</th>\n",
              "      <td>2.299758</td>\n",
              "      <td>1.866106</td>\n",
              "      <td>20.197732</td>\n",
              "      <td>150.532933</td>\n",
              "    </tr>\n",
              "    <tr>\n",
              "      <th>min</th>\n",
              "      <td>2015.000000</td>\n",
              "      <td>4.000000</td>\n",
              "      <td>105.000000</td>\n",
              "      <td>575.000000</td>\n",
              "    </tr>\n",
              "    <tr>\n",
              "      <th>25%</th>\n",
              "      <td>2016.750000</td>\n",
              "      <td>6.000000</td>\n",
              "      <td>136.000000</td>\n",
              "      <td>823.250000</td>\n",
              "    </tr>\n",
              "    <tr>\n",
              "      <th>50%</th>\n",
              "      <td>2018.500000</td>\n",
              "      <td>7.000000</td>\n",
              "      <td>155.500000</td>\n",
              "      <td>955.500000</td>\n",
              "    </tr>\n",
              "    <tr>\n",
              "      <th>75%</th>\n",
              "      <td>2020.250000</td>\n",
              "      <td>9.000000</td>\n",
              "      <td>167.000000</td>\n",
              "      <td>1047.250000</td>\n",
              "    </tr>\n",
              "    <tr>\n",
              "      <th>max</th>\n",
              "      <td>2022.000000</td>\n",
              "      <td>14.000000</td>\n",
              "      <td>195.000000</td>\n",
              "      <td>1264.000000</td>\n",
              "    </tr>\n",
              "  </tbody>\n",
              "</table>\n",
              "</div>\n",
              "      <button class=\"colab-df-convert\" onclick=\"convertToInteractive('df-af4db039-241d-40e5-bcd1-be2a8bd49bf5')\"\n",
              "              title=\"Convert this dataframe to an interactive table.\"\n",
              "              style=\"display:none;\">\n",
              "        \n",
              "  <svg xmlns=\"http://www.w3.org/2000/svg\" height=\"24px\"viewBox=\"0 0 24 24\"\n",
              "       width=\"24px\">\n",
              "    <path d=\"M0 0h24v24H0V0z\" fill=\"none\"/>\n",
              "    <path d=\"M18.56 5.44l.94 2.06.94-2.06 2.06-.94-2.06-.94-.94-2.06-.94 2.06-2.06.94zm-11 1L8.5 8.5l.94-2.06 2.06-.94-2.06-.94L8.5 2.5l-.94 2.06-2.06.94zm10 10l.94 2.06.94-2.06 2.06-.94-2.06-.94-.94-2.06-.94 2.06-2.06.94z\"/><path d=\"M17.41 7.96l-1.37-1.37c-.4-.4-.92-.59-1.43-.59-.52 0-1.04.2-1.43.59L10.3 9.45l-7.72 7.72c-.78.78-.78 2.05 0 2.83L4 21.41c.39.39.9.59 1.41.59.51 0 1.02-.2 1.41-.59l7.78-7.78 2.81-2.81c.8-.78.8-2.07 0-2.86zM5.41 20L4 18.59l7.72-7.72 1.47 1.35L5.41 20z\"/>\n",
              "  </svg>\n",
              "      </button>\n",
              "      \n",
              "  <style>\n",
              "    .colab-df-container {\n",
              "      display:flex;\n",
              "      flex-wrap:wrap;\n",
              "      gap: 12px;\n",
              "    }\n",
              "\n",
              "    .colab-df-convert {\n",
              "      background-color: #E8F0FE;\n",
              "      border: none;\n",
              "      border-radius: 50%;\n",
              "      cursor: pointer;\n",
              "      display: none;\n",
              "      fill: #1967D2;\n",
              "      height: 32px;\n",
              "      padding: 0 0 0 0;\n",
              "      width: 32px;\n",
              "    }\n",
              "\n",
              "    .colab-df-convert:hover {\n",
              "      background-color: #E2EBFA;\n",
              "      box-shadow: 0px 1px 2px rgba(60, 64, 67, 0.3), 0px 1px 3px 1px rgba(60, 64, 67, 0.15);\n",
              "      fill: #174EA6;\n",
              "    }\n",
              "\n",
              "    [theme=dark] .colab-df-convert {\n",
              "      background-color: #3B4455;\n",
              "      fill: #D2E3FC;\n",
              "    }\n",
              "\n",
              "    [theme=dark] .colab-df-convert:hover {\n",
              "      background-color: #434B5C;\n",
              "      box-shadow: 0px 1px 3px 1px rgba(0, 0, 0, 0.15);\n",
              "      filter: drop-shadow(0px 1px 2px rgba(0, 0, 0, 0.3));\n",
              "      fill: #FFFFFF;\n",
              "    }\n",
              "  </style>\n",
              "\n",
              "      <script>\n",
              "        const buttonEl =\n",
              "          document.querySelector('#df-af4db039-241d-40e5-bcd1-be2a8bd49bf5 button.colab-df-convert');\n",
              "        buttonEl.style.display =\n",
              "          google.colab.kernel.accessAllowed ? 'block' : 'none';\n",
              "\n",
              "        async function convertToInteractive(key) {\n",
              "          const element = document.querySelector('#df-af4db039-241d-40e5-bcd1-be2a8bd49bf5');\n",
              "          const dataTable =\n",
              "            await google.colab.kernel.invokeFunction('convertToInteractive',\n",
              "                                                     [key], {});\n",
              "          if (!dataTable) return;\n",
              "\n",
              "          const docLinkHtml = 'Like what you see? Visit the ' +\n",
              "            '<a target=\"_blank\" href=https://colab.research.google.com/notebooks/data_table.ipynb>data table notebook</a>'\n",
              "            + ' to learn more about interactive tables.';\n",
              "          element.innerHTML = '';\n",
              "          dataTable['output_type'] = 'display_data';\n",
              "          await google.colab.output.renderOutput(dataTable, element);\n",
              "          const docLink = document.createElement('div');\n",
              "          docLink.innerHTML = docLinkHtml;\n",
              "          element.appendChild(docLink);\n",
              "        }\n",
              "      </script>\n",
              "    </div>\n",
              "  </div>\n",
              "  "
            ]
          },
          "metadata": {},
          "execution_count": 10
        }
      ]
    },
    {
      "cell_type": "markdown",
      "source": [
        "## Number of word types, tokens, and sentences"
      ],
      "metadata": {
        "id": "3CpaUEmNT69j"
      }
    },
    {
      "cell_type": "code",
      "source": [
        "from nltk.tokenize.regexp import WhitespaceTokenizer\n",
        "from nltk.tokenize.regexp import WordPunctTokenizer"
      ],
      "metadata": {
        "id": "-3P9_X_9Rlki"
      },
      "execution_count": 11,
      "outputs": []
    },
    {
      "cell_type": "code",
      "source": [
        "n = len(df2['N_Words'])\n",
        "token_total = 0\n",
        "type_total = 0\n",
        "sent_total = 0\n",
        "for i in range(0,n):\n",
        "  tokens = len(WhitespaceTokenizer().tokenize(df2['Passage'][i]))\n",
        "  token_total = token_total + tokens\n",
        "  types = len(set(df2['Passage'][i]))\n",
        "  type_total = type_total + types\n",
        "  sents = df2[\"N_Sents\"][i]\n",
        "  sent_total = sent_total + sents\n",
        "\n",
        "print(\"Total Number of tokens: %d\"%token_total)\n",
        "print(\"Total Number of types: %d\"%type_total)\n",
        "print(\"Total Number of sentences: %d\"%sent_total)"
      ],
      "metadata": {
        "id": "-XukR6HfQz4X",
        "outputId": "0573bf01-0de8-49bb-b895-7dab920e1c3e",
        "colab": {
          "base_uri": "https://localhost:8080/"
        }
      },
      "execution_count": 12,
      "outputs": [
        {
          "output_type": "stream",
          "name": "stdout",
          "text": [
            "Total Number of tokens: 20698\n",
            "Total Number of types: 5034\n",
            "Total Number of sentences: 1036\n"
          ]
        }
      ]
    },
    {
      "cell_type": "markdown",
      "source": [
        "## Text lengh and boxplot"
      ],
      "metadata": {
        "id": "KtbPbbJCeKp7"
      }
    },
    {
      "cell_type": "code",
      "source": [
        "from matplotlib import pyplot as plt\n",
        "import seaborn as sns"
      ],
      "metadata": {
        "id": "iWEXo-TVeUQL"
      },
      "execution_count": 16,
      "outputs": []
    },
    {
      "cell_type": "code",
      "source": [
        "sns.set(rc={'figure.figsize':(12,6),\"font.size\":40,\"axes.titlesize\":140,\"axes.labelsize\":60},style=\"white\") # font size doesn't work\n",
        "# ax = sns.boxplot (y=df2)\n",
        "# ax.set_ylim([0, 210])\n",
        "\n",
        "sns.set_theme(style='white')\n",
        "#dd=pd.melt(df2,id_vars=['QN'],value_vars=['N_Words'],var_name='Tokens')\n",
        "ax = sns.boxplot(x='QN',y='value',data=dd,hue='Tokens',palette=\"Accent\")\n",
        "ax.set_ylim([80,220])\n",
        "ax.set(xlabel='Question Numbers', ylabel='N of words (count)')\n",
        "plt.savefig('boxplot_QN.png') "
      ],
      "metadata": {
        "id": "v3p__Ty_ePy8",
        "outputId": "aaa9b675-b7cc-4fbd-ff5d-7f60bc50e3a3",
        "colab": {
          "base_uri": "https://localhost:8080/",
          "height": 398
        }
      },
      "execution_count": 21,
      "outputs": [
        {
          "output_type": "display_data",
          "data": {
            "text/plain": [
              "<Figure size 864x432 with 1 Axes>"
            ],
            "image/png": "[encoded data removed]"
          },
          "metadata": {}
        }
      ]
    },
    {
      "cell_type": "code",
      "source": [
        "15/136"
      ],
      "metadata": {
        "id": "nrqI9Zpku5Lm",
        "outputId": "6365ecd2-673c-4695-8338-f79b41e166d8",
        "colab": {
          "base_uri": "https://localhost:8080/"
        }
      },
      "execution_count": 22,
      "outputs": [
        {
          "output_type": "execute_result",
          "data": {
            "text/plain": [
              "0.11029411764705882"
            ]
          },
          "metadata": {},
          "execution_count": 22
        }
      ]
    },
    {
      "cell_type": "markdown",
      "source": [
        "# Lexical Diversity Indices (10 types)"
      ],
      "metadata": {
        "id": "a3XK3SMZPwZ_"
      }
    },
    {
      "cell_type": "markdown",
      "source": [
        "## Getting LD indices"
      ],
      "metadata": {
        "id": "PID7ucHY0YMA"
      }
    },
    {
      "cell_type": "code",
      "source": [
        "!pip install lexical-diversity\n",
        "from lexical_diversity import lex_div as ld"
      ],
      "metadata": {
        "colab": {
          "base_uri": "https://localhost:8080/"
        },
        "id": "XNWlJ9EEPabg",
        "outputId": "5519cc5a-3208-415a-bed7-219fccf9c349"
      },
      "execution_count": 13,
      "outputs": [
        {
          "output_type": "stream",
          "name": "stdout",
          "text": [
            "Looking in indexes: https://pypi.org/simple, https://us-python.pkg.dev/colab-wheels/public/simple/\n",
            "Collecting lexical-diversity\n",
            "  Downloading lexical_diversity-0.1.1-py3-none-any.whl (117 kB)\n",
            "\u001b[K     |████████████████████████████████| 117 kB 17.3 MB/s \n",
            "\u001b[?25hInstalling collected packages: lexical-diversity\n",
            "Successfully installed lexical-diversity-0.1.1\n"
          ]
        }
      ]
    },
    {
      "cell_type": "code",
      "source": [
        "# Added column: String length\n",
        "lem = []\n",
        "\n",
        "for i in range(0, len(df2['Passage'])):\n",
        "  LEM = ld.flemmatize(df2['Passage'][i])\n",
        "  lem.append(LEM)\n",
        "\n",
        "df2['Lemma'] = lem"
      ],
      "metadata": {
        "id": "SfN-C2XRXyI2"
      },
      "execution_count": 14,
      "outputs": []
    },
    {
      "cell_type": "code",
      "source": [
        "# ADD LD indices\n",
        "\n",
        "#1. Create empty lists.\n",
        "TTR = []\n",
        "RTTR = []\n",
        "LogTTR = []\n",
        "MassTTR = []\n",
        "MSTTR = []\n",
        "MATTR = []\n",
        "HDD = []\n",
        "MTLD = []\n",
        "MTLD_wrap = []\n",
        "MTLD_bid = []\n",
        "\n",
        "# 2. Getting LD index values for each cell:\n",
        "\n",
        "for i in range(0, len(df2['Lemma'])):\n",
        "  flt = df2['Lemma'][i]\n",
        "  ttr = ld.ttr(flt)\n",
        "  rttr = ld.root_ttr(flt)\n",
        "  logttr = ld.log_ttr(flt)\n",
        "  mass = ld.maas_ttr(flt)\n",
        "  msttr = ld.msttr(flt)\n",
        "  mattr = ld.mattr(flt)\n",
        "  hdd = ld.hdd(flt)\n",
        "  mtld = ld.mtld(flt)\n",
        "  mtld_wrap = ld.mtld_ma_wrap(flt)\n",
        "  mtld_bid = ld.mtld_ma_bid(flt)\n",
        "\n",
        "  # Add values to each list\n",
        "  TTR.append(ttr)\n",
        "  RTTR.append(rttr)\n",
        "  LogTTR.append(logttr)\n",
        "  MassTTR.append(mass)\n",
        "  MSTTR.append(msttr)\n",
        "  MATTR.append(mattr)\n",
        "  HDD.append(hdd)\n",
        "  MTLD.append(mtld)\n",
        "  MTLD_wrap.append(mtld_wrap)\n",
        "  MTLD_bid.append(mtld_bid)\n",
        "\n",
        "# Add columns\n",
        "df2['TTR'] = TTR\n",
        "df2['RTTR'] = RTTR\n",
        "df2['LogTTR'] = LogTTR\n",
        "df2['MassTTR'] = MassTTR\n",
        "df2['MSTTR'] = MSTTR\n",
        "df2['MATTR'] = MATTR\n",
        "df2['HDD'] = HDD\n",
        "df2['MTLD'] = MTLD\n",
        "df2['MTLD_wrap'] = MTLD_wrap\n",
        "df2['MTLD_bid'] = MTLD_bid"
      ],
      "metadata": {
        "id": "XpVWYfObQTMM"
      },
      "execution_count": 15,
      "outputs": []
    },
    {
      "cell_type": "markdown",
      "source": [
        "N of sentences"
      ],
      "metadata": {
        "id": "rmLo_8l3R03k"
      }
    },
    {
      "cell_type": "code",
      "source": [
        "!pip install textstat\n",
        "import textstat"
      ],
      "metadata": {
        "colab": {
          "base_uri": "https://localhost:8080/"
        },
        "id": "umoUuDGfR_Yr",
        "outputId": "d5aa8cd7-3a38-42cc-83d1-f00dd089e733"
      },
      "execution_count": 16,
      "outputs": [
        {
          "output_type": "stream",
          "name": "stdout",
          "text": [
            "Looking in indexes: https://pypi.org/simple, https://us-python.pkg.dev/colab-wheels/public/simple/\n",
            "Requirement already satisfied: textstat in /usr/local/lib/python3.7/dist-packages (0.7.3)\n",
            "Requirement already satisfied: pyphen in /usr/local/lib/python3.7/dist-packages (from textstat) (0.13.0)\n"
          ]
        }
      ]
    },
    {
      "cell_type": "markdown",
      "source": [
        "Result file: N of sentences included"
      ],
      "metadata": {
        "id": "ji_rZ2NySXd7"
      }
    },
    {
      "cell_type": "code",
      "source": [
        "df2['N_Sents'] = df2['Passage'].apply(textstat.sentence_count)\n",
        "df2.to_csv('LD_result_with_Nsents.csv')"
      ],
      "metadata": {
        "id": "24Ynk7G7PsW4"
      },
      "execution_count": 17,
      "outputs": []
    },
    {
      "cell_type": "markdown",
      "source": [
        "## Result file"
      ],
      "metadata": {
        "id": "TzsTR0UX0Mxt"
      }
    },
    {
      "cell_type": "code",
      "source": [
        "df2.describe()"
      ],
      "metadata": {
        "colab": {
          "base_uri": "https://localhost:8080/",
          "height": 0
        },
        "id": "uJPyJkbSa0Yl",
        "outputId": "ae382acb-0dbd-4592-fbfb-fc897bbdba09"
      },
      "execution_count": 18,
      "outputs": [
        {
          "output_type": "execute_result",
          "data": {
            "text/plain": [
              "              Year     N_Sents     N_Words       String         TTR  \\\n",
              "count   136.000000  136.000000  136.000000   136.000000  136.000000   \n",
              "mean   2018.500000    7.617647  152.191176   928.669118    0.606593   \n",
              "std       2.299758    1.866106   20.197732   150.532933    0.057680   \n",
              "min    2015.000000    4.000000  105.000000   575.000000    0.451282   \n",
              "25%    2016.750000    6.000000  136.000000   823.250000    0.572516   \n",
              "50%    2018.500000    7.000000  155.500000   955.500000    0.603484   \n",
              "75%    2020.250000    9.000000  167.000000  1047.250000    0.648782   \n",
              "max    2022.000000   14.000000  195.000000  1264.000000    0.728972   \n",
              "\n",
              "             RTTR      LogTTR     MassTTR       MSTTR       MATTR         HDD  \\\n",
              "count  136.000000  136.000000  136.000000  136.000000  136.000000  136.000000   \n",
              "mean     7.444320    0.899571    0.046065    0.772010    0.770921    0.802974   \n",
              "std      0.675416    0.018354    0.008092    0.049462    0.045547    0.039108   \n",
              "min      5.376082    0.843935    0.031885    0.630000    0.581905    0.686500   \n",
              "25%      7.022525    0.888772    0.039840    0.740000    0.749653    0.780868   \n",
              "50%      7.441873    0.899538    0.046061    0.776667    0.775913    0.806953   \n",
              "75%      7.954951    0.913980    0.050385    0.806667    0.802464    0.833115   \n",
              "max      9.071147    0.932349    0.073482    0.890000    0.866111    0.880651   \n",
              "\n",
              "             MTLD   MTLD_wrap    MTLD_bid  \n",
              "count  136.000000  136.000000  136.000000  \n",
              "mean    70.714724   71.265205   63.743348  \n",
              "std     20.633628   20.801995   19.685693  \n",
              "min     33.165609   32.157895    0.000000  \n",
              "25%     55.157307   57.424318   51.836679  \n",
              "50%     68.431332   68.806323   62.218431  \n",
              "75%     83.649431   83.517426   75.401795  \n",
              "max    138.947368  132.218750  125.784722  "
            ],
            "text/html": [
              "\n",
              "  <div id=\"df-6d40d6cb-2e6b-48c7-aca4-6442cd905117\">\n",
              "    <div class=\"colab-df-container\">\n",
              "      <div>\n",
              "<style scoped>\n",
              "    .dataframe tbody tr th:only-of-type {\n",
              "        vertical-align: middle;\n",
              "    }\n",
              "\n",
              "    .dataframe tbody tr th {\n",
              "        vertical-align: top;\n",
              "    }\n",
              "\n",
              "    .dataframe thead th {\n",
              "        text-align: right;\n",
              "    }\n",
              "</style>\n",
              "<table border=\"1\" class=\"dataframe\">\n",
              "  <thead>\n",
              "    <tr style=\"text-align: right;\">\n",
              "      <th></th>\n",
              "      <th>Year</th>\n",
              "      <th>N_Sents</th>\n",
              "      <th>N_Words</th>\n",
              "      <th>String</th>\n",
              "      <th>TTR</th>\n",
              "      <th>RTTR</th>\n",
              "      <th>LogTTR</th>\n",
              "      <th>MassTTR</th>\n",
              "      <th>MSTTR</th>\n",
              "      <th>MATTR</th>\n",
              "      <th>HDD</th>\n",
              "      <th>MTLD</th>\n",
              "      <th>MTLD_wrap</th>\n",
              "      <th>MTLD_bid</th>\n",
              "    </tr>\n",
              "  </thead>\n",
              "  <tbody>\n",
              "    <tr>\n",
              "      <th>count</th>\n",
              "      <td>136.000000</td>\n",
              "      <td>136.000000</td>\n",
              "      <td>136.000000</td>\n",
              "      <td>136.000000</td>\n",
              "      <td>136.000000</td>\n",
              "      <td>136.000000</td>\n",
              "      <td>136.000000</td>\n",
              "      <td>136.000000</td>\n",
              "      <td>136.000000</td>\n",
              "      <td>136.000000</td>\n",
              "      <td>136.000000</td>\n",
              "      <td>136.000000</td>\n",
              "      <td>136.000000</td>\n",
              "      <td>136.000000</td>\n",
              "    </tr>\n",
              "    <tr>\n",
              "      <th>mean</th>\n",
              "      <td>2018.500000</td>\n",
              "      <td>7.617647</td>\n",
              "      <td>152.191176</td>\n",
              "      <td>928.669118</td>\n",
              "      <td>0.606593</td>\n",
              "      <td>7.444320</td>\n",
              "      <td>0.899571</td>\n",
              "      <td>0.046065</td>\n",
              "      <td>0.772010</td>\n",
              "      <td>0.770921</td>\n",
              "      <td>0.802974</td>\n",
              "      <td>70.714724</td>\n",
              "      <td>71.265205</td>\n",
              "      <td>63.743348</td>\n",
              "    </tr>\n",
              "    <tr>\n",
              "      <th>std</th>\n",
              "      <td>2.299758</td>\n",
              "      <td>1.866106</td>\n",
              "      <td>20.197732</td>\n",
              "      <td>150.532933</td>\n",
              "      <td>0.057680</td>\n",
              "      <td>0.675416</td>\n",
              "      <td>0.018354</td>\n",
              "      <td>0.008092</td>\n",
              "      <td>0.049462</td>\n",
              "      <td>0.045547</td>\n",
              "      <td>0.039108</td>\n",
              "      <td>20.633628</td>\n",
              "      <td>20.801995</td>\n",
              "      <td>19.685693</td>\n",
              "    </tr>\n",
              "    <tr>\n",
              "      <th>min</th>\n",
              "      <td>2015.000000</td>\n",
              "      <td>4.000000</td>\n",
              "      <td>105.000000</td>\n",
              "      <td>575.000000</td>\n",
              "      <td>0.451282</td>\n",
              "      <td>5.376082</td>\n",
              "      <td>0.843935</td>\n",
              "      <td>0.031885</td>\n",
              "      <td>0.630000</td>\n",
              "      <td>0.581905</td>\n",
              "      <td>0.686500</td>\n",
              "      <td>33.165609</td>\n",
              "      <td>32.157895</td>\n",
              "      <td>0.000000</td>\n",
              "    </tr>\n",
              "    <tr>\n",
              "      <th>25%</th>\n",
              "      <td>2016.750000</td>\n",
              "      <td>6.000000</td>\n",
              "      <td>136.000000</td>\n",
              "      <td>823.250000</td>\n",
              "      <td>0.572516</td>\n",
              "      <td>7.022525</td>\n",
              "      <td>0.888772</td>\n",
              "      <td>0.039840</td>\n",
              "      <td>0.740000</td>\n",
              "      <td>0.749653</td>\n",
              "      <td>0.780868</td>\n",
              "      <td>55.157307</td>\n",
              "      <td>57.424318</td>\n",
              "      <td>51.836679</td>\n",
              "    </tr>\n",
              "    <tr>\n",
              "      <th>50%</th>\n",
              "      <td>2018.500000</td>\n",
              "      <td>7.000000</td>\n",
              "      <td>155.500000</td>\n",
              "      <td>955.500000</td>\n",
              "      <td>0.603484</td>\n",
              "      <td>7.441873</td>\n",
              "      <td>0.899538</td>\n",
              "      <td>0.046061</td>\n",
              "      <td>0.776667</td>\n",
              "      <td>0.775913</td>\n",
              "      <td>0.806953</td>\n",
              "      <td>68.431332</td>\n",
              "      <td>68.806323</td>\n",
              "      <td>62.218431</td>\n",
              "    </tr>\n",
              "    <tr>\n",
              "      <th>75%</th>\n",
              "      <td>2020.250000</td>\n",
              "      <td>9.000000</td>\n",
              "      <td>167.000000</td>\n",
              "      <td>1047.250000</td>\n",
              "      <td>0.648782</td>\n",
              "      <td>7.954951</td>\n",
              "      <td>0.913980</td>\n",
              "      <td>0.050385</td>\n",
              "      <td>0.806667</td>\n",
              "      <td>0.802464</td>\n",
              "      <td>0.833115</td>\n",
              "      <td>83.649431</td>\n",
              "      <td>83.517426</td>\n",
              "      <td>75.401795</td>\n",
              "    </tr>\n",
              "    <tr>\n",
              "      <th>max</th>\n",
              "      <td>2022.000000</td>\n",
              "      <td>14.000000</td>\n",
              "      <td>195.000000</td>\n",
              "      <td>1264.000000</td>\n",
              "      <td>0.728972</td>\n",
              "      <td>9.071147</td>\n",
              "      <td>0.932349</td>\n",
              "      <td>0.073482</td>\n",
              "      <td>0.890000</td>\n",
              "      <td>0.866111</td>\n",
              "      <td>0.880651</td>\n",
              "      <td>138.947368</td>\n",
              "      <td>132.218750</td>\n",
              "      <td>125.784722</td>\n",
              "    </tr>\n",
              "  </tbody>\n",
              "</table>\n",
              "</div>\n",
              "      <button class=\"colab-df-convert\" onclick=\"convertToInteractive('df-6d40d6cb-2e6b-48c7-aca4-6442cd905117')\"\n",
              "              title=\"Convert this dataframe to an interactive table.\"\n",
              "              style=\"display:none;\">\n",
              "        \n",
              "  <svg xmlns=\"http://www.w3.org/2000/svg\" height=\"24px\"viewBox=\"0 0 24 24\"\n",
              "       width=\"24px\">\n",
              "    <path d=\"M0 0h24v24H0V0z\" fill=\"none\"/>\n",
              "    <path d=\"M18.56 5.44l.94 2.06.94-2.06 2.06-.94-2.06-.94-.94-2.06-.94 2.06-2.06.94zm-11 1L8.5 8.5l.94-2.06 2.06-.94-2.06-.94L8.5 2.5l-.94 2.06-2.06.94zm10 10l.94 2.06.94-2.06 2.06-.94-2.06-.94-.94-2.06-.94 2.06-2.06.94z\"/><path d=\"M17.41 7.96l-1.37-1.37c-.4-.4-.92-.59-1.43-.59-.52 0-1.04.2-1.43.59L10.3 9.45l-7.72 7.72c-.78.78-.78 2.05 0 2.83L4 21.41c.39.39.9.59 1.41.59.51 0 1.02-.2 1.41-.59l7.78-7.78 2.81-2.81c.8-.78.8-2.07 0-2.86zM5.41 20L4 18.59l7.72-7.72 1.47 1.35L5.41 20z\"/>\n",
              "  </svg>\n",
              "      </button>\n",
              "      \n",
              "  <style>\n",
              "    .colab-df-container {\n",
              "      display:flex;\n",
              "      flex-wrap:wrap;\n",
              "      gap: 12px;\n",
              "    }\n",
              "\n",
              "    .colab-df-convert {\n",
              "      background-color: #E8F0FE;\n",
              "      border: none;\n",
              "      border-radius: 50%;\n",
              "      cursor: pointer;\n",
              "      display: none;\n",
              "      fill: #1967D2;\n",
              "      height: 32px;\n",
              "      padding: 0 0 0 0;\n",
              "      width: 32px;\n",
              "    }\n",
              "\n",
              "    .colab-df-convert:hover {\n",
              "      background-color: #E2EBFA;\n",
              "      box-shadow: 0px 1px 2px rgba(60, 64, 67, 0.3), 0px 1px 3px 1px rgba(60, 64, 67, 0.15);\n",
              "      fill: #174EA6;\n",
              "    }\n",
              "\n",
              "    [theme=dark] .colab-df-convert {\n",
              "      background-color: #3B4455;\n",
              "      fill: #D2E3FC;\n",
              "    }\n",
              "\n",
              "    [theme=dark] .colab-df-convert:hover {\n",
              "      background-color: #434B5C;\n",
              "      box-shadow: 0px 1px 3px 1px rgba(0, 0, 0, 0.15);\n",
              "      filter: drop-shadow(0px 1px 2px rgba(0, 0, 0, 0.3));\n",
              "      fill: #FFFFFF;\n",
              "    }\n",
              "  </style>\n",
              "\n",
              "      <script>\n",
              "        const buttonEl =\n",
              "          document.querySelector('#df-6d40d6cb-2e6b-48c7-aca4-6442cd905117 button.colab-df-convert');\n",
              "        buttonEl.style.display =\n",
              "          google.colab.kernel.accessAllowed ? 'block' : 'none';\n",
              "\n",
              "        async function convertToInteractive(key) {\n",
              "          const element = document.querySelector('#df-6d40d6cb-2e6b-48c7-aca4-6442cd905117');\n",
              "          const dataTable =\n",
              "            await google.colab.kernel.invokeFunction('convertToInteractive',\n",
              "                                                     [key], {});\n",
              "          if (!dataTable) return;\n",
              "\n",
              "          const docLinkHtml = 'Like what you see? Visit the ' +\n",
              "            '<a target=\"_blank\" href=https://colab.research.google.com/notebooks/data_table.ipynb>data table notebook</a>'\n",
              "            + ' to learn more about interactive tables.';\n",
              "          element.innerHTML = '';\n",
              "          dataTable['output_type'] = 'display_data';\n",
              "          await google.colab.output.renderOutput(dataTable, element);\n",
              "          const docLink = document.createElement('div');\n",
              "          docLink.innerHTML = docLinkHtml;\n",
              "          element.appendChild(docLink);\n",
              "        }\n",
              "      </script>\n",
              "    </div>\n",
              "  </div>\n",
              "  "
            ]
          },
          "metadata": {},
          "execution_count": 18
        }
      ]
    },
    {
      "cell_type": "code",
      "source": [
        "df2['MATTR'].groupby(df2['Year']).describe()"
      ],
      "metadata": {
        "id": "VhgFullZVg7e",
        "outputId": "80171664-d9b1-4de9-ba0b-f3072f4e3670",
        "colab": {
          "base_uri": "https://localhost:8080/",
          "height": 0
        }
      },
      "execution_count": 19,
      "outputs": [
        {
          "output_type": "execute_result",
          "data": {
            "text/plain": [
              "      count      mean       std       min       25%       50%       75%  \\\n",
              "Year                                                                      \n",
              "2015   17.0  0.766036  0.042779  0.667755  0.755963  0.772696  0.795405   \n",
              "2016   17.0  0.773909  0.064759  0.581905  0.755575  0.783291  0.808689   \n",
              "2017   17.0  0.783982  0.030315  0.728142  0.768939  0.789333  0.802222   \n",
              "2018   17.0  0.766674  0.043237  0.659032  0.753333  0.776147  0.799063   \n",
              "2019   17.0  0.760403  0.046946  0.675960  0.719439  0.766786  0.805781   \n",
              "2020   17.0  0.775653  0.051979  0.675960  0.749219  0.770909  0.818763   \n",
              "2021   17.0  0.775449  0.036112  0.708547  0.750076  0.776852  0.782500   \n",
              "2022   17.0  0.765262  0.045270  0.687068  0.749687  0.774182  0.794667   \n",
              "\n",
              "           max  \n",
              "Year            \n",
              "2015  0.813165  \n",
              "2016  0.866111  \n",
              "2017  0.843504  \n",
              "2018  0.821569  \n",
              "2019  0.832034  \n",
              "2020  0.855200  \n",
              "2021  0.851600  \n",
              "2022  0.837838  "
            ],
            "text/html": [
              "\n",
              "  <div id=\"df-dcde3e97-d6bf-4a82-9a8f-97a61ed61171\">\n",
              "    <div class=\"colab-df-container\">\n",
              "      <div>\n",
              "<style scoped>\n",
              "    .dataframe tbody tr th:only-of-type {\n",
              "        vertical-align: middle;\n",
              "    }\n",
              "\n",
              "    .dataframe tbody tr th {\n",
              "        vertical-align: top;\n",
              "    }\n",
              "\n",
              "    .dataframe thead th {\n",
              "        text-align: right;\n",
              "    }\n",
              "</style>\n",
              "<table border=\"1\" class=\"dataframe\">\n",
              "  <thead>\n",
              "    <tr style=\"text-align: right;\">\n",
              "      <th></th>\n",
              "      <th>count</th>\n",
              "      <th>mean</th>\n",
              "      <th>std</th>\n",
              "      <th>min</th>\n",
              "      <th>25%</th>\n",
              "      <th>50%</th>\n",
              "      <th>75%</th>\n",
              "      <th>max</th>\n",
              "    </tr>\n",
              "    <tr>\n",
              "      <th>Year</th>\n",
              "      <th></th>\n",
              "      <th></th>\n",
              "      <th></th>\n",
              "      <th></th>\n",
              "      <th></th>\n",
              "      <th></th>\n",
              "      <th></th>\n",
              "      <th></th>\n",
              "    </tr>\n",
              "  </thead>\n",
              "  <tbody>\n",
              "    <tr>\n",
              "      <th>2015</th>\n",
              "      <td>17.0</td>\n",
              "      <td>0.766036</td>\n",
              "      <td>0.042779</td>\n",
              "      <td>0.667755</td>\n",
              "      <td>0.755963</td>\n",
              "      <td>0.772696</td>\n",
              "      <td>0.795405</td>\n",
              "      <td>0.813165</td>\n",
              "    </tr>\n",
              "    <tr>\n",
              "      <th>2016</th>\n",
              "      <td>17.0</td>\n",
              "      <td>0.773909</td>\n",
              "      <td>0.064759</td>\n",
              "      <td>0.581905</td>\n",
              "      <td>0.755575</td>\n",
              "      <td>0.783291</td>\n",
              "      <td>0.808689</td>\n",
              "      <td>0.866111</td>\n",
              "    </tr>\n",
              "    <tr>\n",
              "      <th>2017</th>\n",
              "      <td>17.0</td>\n",
              "      <td>0.783982</td>\n",
              "      <td>0.030315</td>\n",
              "      <td>0.728142</td>\n",
              "      <td>0.768939</td>\n",
              "      <td>0.789333</td>\n",
              "      <td>0.802222</td>\n",
              "      <td>0.843504</td>\n",
              "    </tr>\n",
              "    <tr>\n",
              "      <th>2018</th>\n",
              "      <td>17.0</td>\n",
              "      <td>0.766674</td>\n",
              "      <td>0.043237</td>\n",
              "      <td>0.659032</td>\n",
              "      <td>0.753333</td>\n",
              "      <td>0.776147</td>\n",
              "      <td>0.799063</td>\n",
              "      <td>0.821569</td>\n",
              "    </tr>\n",
              "    <tr>\n",
              "      <th>2019</th>\n",
              "      <td>17.0</td>\n",
              "      <td>0.760403</td>\n",
              "      <td>0.046946</td>\n",
              "      <td>0.675960</td>\n",
              "      <td>0.719439</td>\n",
              "      <td>0.766786</td>\n",
              "      <td>0.805781</td>\n",
              "      <td>0.832034</td>\n",
              "    </tr>\n",
              "    <tr>\n",
              "      <th>2020</th>\n",
              "      <td>17.0</td>\n",
              "      <td>0.775653</td>\n",
              "      <td>0.051979</td>\n",
              "      <td>0.675960</td>\n",
              "      <td>0.749219</td>\n",
              "      <td>0.770909</td>\n",
              "      <td>0.818763</td>\n",
              "      <td>0.855200</td>\n",
              "    </tr>\n",
              "    <tr>\n",
              "      <th>2021</th>\n",
              "      <td>17.0</td>\n",
              "      <td>0.775449</td>\n",
              "      <td>0.036112</td>\n",
              "      <td>0.708547</td>\n",
              "      <td>0.750076</td>\n",
              "      <td>0.776852</td>\n",
              "      <td>0.782500</td>\n",
              "      <td>0.851600</td>\n",
              "    </tr>\n",
              "    <tr>\n",
              "      <th>2022</th>\n",
              "      <td>17.0</td>\n",
              "      <td>0.765262</td>\n",
              "      <td>0.045270</td>\n",
              "      <td>0.687068</td>\n",
              "      <td>0.749687</td>\n",
              "      <td>0.774182</td>\n",
              "      <td>0.794667</td>\n",
              "      <td>0.837838</td>\n",
              "    </tr>\n",
              "  </tbody>\n",
              "</table>\n",
              "</div>\n",
              "      <button class=\"colab-df-convert\" onclick=\"convertToInteractive('df-dcde3e97-d6bf-4a82-9a8f-97a61ed61171')\"\n",
              "              title=\"Convert this dataframe to an interactive table.\"\n",
              "              style=\"display:none;\">\n",
              "        \n",
              "  <svg xmlns=\"http://www.w3.org/2000/svg\" height=\"24px\"viewBox=\"0 0 24 24\"\n",
              "       width=\"24px\">\n",
              "    <path d=\"M0 0h24v24H0V0z\" fill=\"none\"/>\n",
              "    <path d=\"M18.56 5.44l.94 2.06.94-2.06 2.06-.94-2.06-.94-.94-2.06-.94 2.06-2.06.94zm-11 1L8.5 8.5l.94-2.06 2.06-.94-2.06-.94L8.5 2.5l-.94 2.06-2.06.94zm10 10l.94 2.06.94-2.06 2.06-.94-2.06-.94-.94-2.06-.94 2.06-2.06.94z\"/><path d=\"M17.41 7.96l-1.37-1.37c-.4-.4-.92-.59-1.43-.59-.52 0-1.04.2-1.43.59L10.3 9.45l-7.72 7.72c-.78.78-.78 2.05 0 2.83L4 21.41c.39.39.9.59 1.41.59.51 0 1.02-.2 1.41-.59l7.78-7.78 2.81-2.81c.8-.78.8-2.07 0-2.86zM5.41 20L4 18.59l7.72-7.72 1.47 1.35L5.41 20z\"/>\n",
              "  </svg>\n",
              "      </button>\n",
              "      \n",
              "  <style>\n",
              "    .colab-df-container {\n",
              "      display:flex;\n",
              "      flex-wrap:wrap;\n",
              "      gap: 12px;\n",
              "    }\n",
              "\n",
              "    .colab-df-convert {\n",
              "      background-color: #E8F0FE;\n",
              "      border: none;\n",
              "      border-radius: 50%;\n",
              "      cursor: pointer;\n",
              "      display: none;\n",
              "      fill: #1967D2;\n",
              "      height: 32px;\n",
              "      padding: 0 0 0 0;\n",
              "      width: 32px;\n",
              "    }\n",
              "\n",
              "    .colab-df-convert:hover {\n",
              "      background-color: #E2EBFA;\n",
              "      box-shadow: 0px 1px 2px rgba(60, 64, 67, 0.3), 0px 1px 3px 1px rgba(60, 64, 67, 0.15);\n",
              "      fill: #174EA6;\n",
              "    }\n",
              "\n",
              "    [theme=dark] .colab-df-convert {\n",
              "      background-color: #3B4455;\n",
              "      fill: #D2E3FC;\n",
              "    }\n",
              "\n",
              "    [theme=dark] .colab-df-convert:hover {\n",
              "      background-color: #434B5C;\n",
              "      box-shadow: 0px 1px 3px 1px rgba(0, 0, 0, 0.15);\n",
              "      filter: drop-shadow(0px 1px 2px rgba(0, 0, 0, 0.3));\n",
              "      fill: #FFFFFF;\n",
              "    }\n",
              "  </style>\n",
              "\n",
              "      <script>\n",
              "        const buttonEl =\n",
              "          document.querySelector('#df-dcde3e97-d6bf-4a82-9a8f-97a61ed61171 button.colab-df-convert');\n",
              "        buttonEl.style.display =\n",
              "          google.colab.kernel.accessAllowed ? 'block' : 'none';\n",
              "\n",
              "        async function convertToInteractive(key) {\n",
              "          const element = document.querySelector('#df-dcde3e97-d6bf-4a82-9a8f-97a61ed61171');\n",
              "          const dataTable =\n",
              "            await google.colab.kernel.invokeFunction('convertToInteractive',\n",
              "                                                     [key], {});\n",
              "          if (!dataTable) return;\n",
              "\n",
              "          const docLinkHtml = 'Like what you see? Visit the ' +\n",
              "            '<a target=\"_blank\" href=https://colab.research.google.com/notebooks/data_table.ipynb>data table notebook</a>'\n",
              "            + ' to learn more about interactive tables.';\n",
              "          element.innerHTML = '';\n",
              "          dataTable['output_type'] = 'display_data';\n",
              "          await google.colab.output.renderOutput(dataTable, element);\n",
              "          const docLink = document.createElement('div');\n",
              "          docLink.innerHTML = docLinkHtml;\n",
              "          element.appendChild(docLink);\n",
              "        }\n",
              "      </script>\n",
              "    </div>\n",
              "  </div>\n",
              "  "
            ]
          },
          "metadata": {},
          "execution_count": 19
        }
      ]
    },
    {
      "cell_type": "code",
      "source": [
        "df2['MATTR'].describe()"
      ],
      "metadata": {
        "id": "EFgpnldQWmRU",
        "outputId": "944c837c-64d2-4366-eebb-2d1eb5e15bfb",
        "colab": {
          "base_uri": "https://localhost:8080/"
        }
      },
      "execution_count": 20,
      "outputs": [
        {
          "output_type": "execute_result",
          "data": {
            "text/plain": [
              "count    136.000000\n",
              "mean       0.770921\n",
              "std        0.045547\n",
              "min        0.581905\n",
              "25%        0.749653\n",
              "50%        0.775913\n",
              "75%        0.802464\n",
              "max        0.866111\n",
              "Name: MATTR, dtype: float64"
            ]
          },
          "metadata": {},
          "execution_count": 20
        }
      ]
    },
    {
      "cell_type": "code",
      "source": [
        "df2['HDD'].groupby(df2['Year']).describe()"
      ],
      "metadata": {
        "id": "ZZ7pP4coXePU",
        "outputId": "b46f56cb-8986-4f21-84f8-b5d22511a851",
        "colab": {
          "base_uri": "https://localhost:8080/",
          "height": 0
        }
      },
      "execution_count": 21,
      "outputs": [
        {
          "output_type": "execute_result",
          "data": {
            "text/plain": [
              "      count      mean       std       min       25%       50%       75%  \\\n",
              "Year                                                                      \n",
              "2015   17.0  0.801174  0.040385  0.723288  0.776571  0.809109  0.826796   \n",
              "2016   17.0  0.812646  0.041819  0.686500  0.794061  0.820248  0.838549   \n",
              "2017   17.0  0.808501  0.027099  0.757223  0.794441  0.804080  0.825001   \n",
              "2018   17.0  0.799011  0.036200  0.719713  0.775315  0.807006  0.832689   \n",
              "2019   17.0  0.795133  0.044554  0.709029  0.764589  0.798066  0.828387   \n",
              "2020   17.0  0.807469  0.048992  0.709029  0.784797  0.810360  0.842698   \n",
              "2021   17.0  0.804015  0.033135  0.752977  0.781755  0.797810  0.834443   \n",
              "2022   17.0  0.795840  0.041261  0.708912  0.782583  0.804126  0.818390   \n",
              "\n",
              "           max  \n",
              "Year            \n",
              "2015  0.856121  \n",
              "2016  0.860809  \n",
              "2017  0.853785  \n",
              "2018  0.843540  \n",
              "2019  0.871256  \n",
              "2020  0.880651  \n",
              "2021  0.855967  \n",
              "2022  0.872252  "
            ],
            "text/html": [
              "\n",
              "  <div id=\"df-932cfa3d-6211-47d6-bff1-648c7ea97e29\">\n",
              "    <div class=\"colab-df-container\">\n",
              "      <div>\n",
              "<style scoped>\n",
              "    .dataframe tbody tr th:only-of-type {\n",
              "        vertical-align: middle;\n",
              "    }\n",
              "\n",
              "    .dataframe tbody tr th {\n",
              "        vertical-align: top;\n",
              "    }\n",
              "\n",
              "    .dataframe thead th {\n",
              "        text-align: right;\n",
              "    }\n",
              "</style>\n",
              "<table border=\"1\" class=\"dataframe\">\n",
              "  <thead>\n",
              "    <tr style=\"text-align: right;\">\n",
              "      <th></th>\n",
              "      <th>count</th>\n",
              "      <th>mean</th>\n",
              "      <th>std</th>\n",
              "      <th>min</th>\n",
              "      <th>25%</th>\n",
              "      <th>50%</th>\n",
              "      <th>75%</th>\n",
              "      <th>max</th>\n",
              "    </tr>\n",
              "    <tr>\n",
              "      <th>Year</th>\n",
              "      <th></th>\n",
              "      <th></th>\n",
              "      <th></th>\n",
              "      <th></th>\n",
              "      <th></th>\n",
              "      <th></th>\n",
              "      <th></th>\n",
              "      <th></th>\n",
              "    </tr>\n",
              "  </thead>\n",
              "  <tbody>\n",
              "    <tr>\n",
              "      <th>2015</th>\n",
              "      <td>17.0</td>\n",
              "      <td>0.801174</td>\n",
              "      <td>0.040385</td>\n",
              "      <td>0.723288</td>\n",
              "      <td>0.776571</td>\n",
              "      <td>0.809109</td>\n",
              "      <td>0.826796</td>\n",
              "      <td>0.856121</td>\n",
              "    </tr>\n",
              "    <tr>\n",
              "      <th>2016</th>\n",
              "      <td>17.0</td>\n",
              "      <td>0.812646</td>\n",
              "      <td>0.041819</td>\n",
              "      <td>0.686500</td>\n",
              "      <td>0.794061</td>\n",
              "      <td>0.820248</td>\n",
              "      <td>0.838549</td>\n",
              "      <td>0.860809</td>\n",
              "    </tr>\n",
              "    <tr>\n",
              "      <th>2017</th>\n",
              "      <td>17.0</td>\n",
              "      <td>0.808501</td>\n",
              "      <td>0.027099</td>\n",
              "      <td>0.757223</td>\n",
              "      <td>0.794441</td>\n",
              "      <td>0.804080</td>\n",
              "      <td>0.825001</td>\n",
              "      <td>0.853785</td>\n",
              "    </tr>\n",
              "    <tr>\n",
              "      <th>2018</th>\n",
              "      <td>17.0</td>\n",
              "      <td>0.799011</td>\n",
              "      <td>0.036200</td>\n",
              "      <td>0.719713</td>\n",
              "      <td>0.775315</td>\n",
              "      <td>0.807006</td>\n",
              "      <td>0.832689</td>\n",
              "      <td>0.843540</td>\n",
              "    </tr>\n",
              "    <tr>\n",
              "      <th>2019</th>\n",
              "      <td>17.0</td>\n",
              "      <td>0.795133</td>\n",
              "      <td>0.044554</td>\n",
              "      <td>0.709029</td>\n",
              "      <td>0.764589</td>\n",
              "      <td>0.798066</td>\n",
              "      <td>0.828387</td>\n",
              "      <td>0.871256</td>\n",
              "    </tr>\n",
              "    <tr>\n",
              "      <th>2020</th>\n",
              "      <td>17.0</td>\n",
              "      <td>0.807469</td>\n",
              "      <td>0.048992</td>\n",
              "      <td>0.709029</td>\n",
              "      <td>0.784797</td>\n",
              "      <td>0.810360</td>\n",
              "      <td>0.842698</td>\n",
              "      <td>0.880651</td>\n",
              "    </tr>\n",
              "    <tr>\n",
              "      <th>2021</th>\n",
              "      <td>17.0</td>\n",
              "      <td>0.804015</td>\n",
              "      <td>0.033135</td>\n",
              "      <td>0.752977</td>\n",
              "      <td>0.781755</td>\n",
              "      <td>0.797810</td>\n",
              "      <td>0.834443</td>\n",
              "      <td>0.855967</td>\n",
              "    </tr>\n",
              "    <tr>\n",
              "      <th>2022</th>\n",
              "      <td>17.0</td>\n",
              "      <td>0.795840</td>\n",
              "      <td>0.041261</td>\n",
              "      <td>0.708912</td>\n",
              "      <td>0.782583</td>\n",
              "      <td>0.804126</td>\n",
              "      <td>0.818390</td>\n",
              "      <td>0.872252</td>\n",
              "    </tr>\n",
              "  </tbody>\n",
              "</table>\n",
              "</div>\n",
              "      <button class=\"colab-df-convert\" onclick=\"convertToInteractive('df-932cfa3d-6211-47d6-bff1-648c7ea97e29')\"\n",
              "              title=\"Convert this dataframe to an interactive table.\"\n",
              "              style=\"display:none;\">\n",
              "        \n",
              "  <svg xmlns=\"http://www.w3.org/2000/svg\" height=\"24px\"viewBox=\"0 0 24 24\"\n",
              "       width=\"24px\">\n",
              "    <path d=\"M0 0h24v24H0V0z\" fill=\"none\"/>\n",
              "    <path d=\"M18.56 5.44l.94 2.06.94-2.06 2.06-.94-2.06-.94-.94-2.06-.94 2.06-2.06.94zm-11 1L8.5 8.5l.94-2.06 2.06-.94-2.06-.94L8.5 2.5l-.94 2.06-2.06.94zm10 10l.94 2.06.94-2.06 2.06-.94-2.06-.94-.94-2.06-.94 2.06-2.06.94z\"/><path d=\"M17.41 7.96l-1.37-1.37c-.4-.4-.92-.59-1.43-.59-.52 0-1.04.2-1.43.59L10.3 9.45l-7.72 7.72c-.78.78-.78 2.05 0 2.83L4 21.41c.39.39.9.59 1.41.59.51 0 1.02-.2 1.41-.59l7.78-7.78 2.81-2.81c.8-.78.8-2.07 0-2.86zM5.41 20L4 18.59l7.72-7.72 1.47 1.35L5.41 20z\"/>\n",
              "  </svg>\n",
              "      </button>\n",
              "      \n",
              "  <style>\n",
              "    .colab-df-container {\n",
              "      display:flex;\n",
              "      flex-wrap:wrap;\n",
              "      gap: 12px;\n",
              "    }\n",
              "\n",
              "    .colab-df-convert {\n",
              "      background-color: #E8F0FE;\n",
              "      border: none;\n",
              "      border-radius: 50%;\n",
              "      cursor: pointer;\n",
              "      display: none;\n",
              "      fill: #1967D2;\n",
              "      height: 32px;\n",
              "      padding: 0 0 0 0;\n",
              "      width: 32px;\n",
              "    }\n",
              "\n",
              "    .colab-df-convert:hover {\n",
              "      background-color: #E2EBFA;\n",
              "      box-shadow: 0px 1px 2px rgba(60, 64, 67, 0.3), 0px 1px 3px 1px rgba(60, 64, 67, 0.15);\n",
              "      fill: #174EA6;\n",
              "    }\n",
              "\n",
              "    [theme=dark] .colab-df-convert {\n",
              "      background-color: #3B4455;\n",
              "      fill: #D2E3FC;\n",
              "    }\n",
              "\n",
              "    [theme=dark] .colab-df-convert:hover {\n",
              "      background-color: #434B5C;\n",
              "      box-shadow: 0px 1px 3px 1px rgba(0, 0, 0, 0.15);\n",
              "      filter: drop-shadow(0px 1px 2px rgba(0, 0, 0, 0.3));\n",
              "      fill: #FFFFFF;\n",
              "    }\n",
              "  </style>\n",
              "\n",
              "      <script>\n",
              "        const buttonEl =\n",
              "          document.querySelector('#df-932cfa3d-6211-47d6-bff1-648c7ea97e29 button.colab-df-convert');\n",
              "        buttonEl.style.display =\n",
              "          google.colab.kernel.accessAllowed ? 'block' : 'none';\n",
              "\n",
              "        async function convertToInteractive(key) {\n",
              "          const element = document.querySelector('#df-932cfa3d-6211-47d6-bff1-648c7ea97e29');\n",
              "          const dataTable =\n",
              "            await google.colab.kernel.invokeFunction('convertToInteractive',\n",
              "                                                     [key], {});\n",
              "          if (!dataTable) return;\n",
              "\n",
              "          const docLinkHtml = 'Like what you see? Visit the ' +\n",
              "            '<a target=\"_blank\" href=https://colab.research.google.com/notebooks/data_table.ipynb>data table notebook</a>'\n",
              "            + ' to learn more about interactive tables.';\n",
              "          element.innerHTML = '';\n",
              "          dataTable['output_type'] = 'display_data';\n",
              "          await google.colab.output.renderOutput(dataTable, element);\n",
              "          const docLink = document.createElement('div');\n",
              "          docLink.innerHTML = docLinkHtml;\n",
              "          element.appendChild(docLink);\n",
              "        }\n",
              "      </script>\n",
              "    </div>\n",
              "  </div>\n",
              "  "
            ]
          },
          "metadata": {},
          "execution_count": 21
        }
      ]
    },
    {
      "cell_type": "code",
      "source": [
        "df2['HDD'].describe()"
      ],
      "metadata": {
        "id": "2Euj-kIEXvDu",
        "outputId": "f309d66f-f721-4a5c-dca3-a1b8f34493ec",
        "colab": {
          "base_uri": "https://localhost:8080/"
        }
      },
      "execution_count": 22,
      "outputs": [
        {
          "output_type": "execute_result",
          "data": {
            "text/plain": [
              "count    136.000000\n",
              "mean       0.802974\n",
              "std        0.039108\n",
              "min        0.686500\n",
              "25%        0.780868\n",
              "50%        0.806953\n",
              "75%        0.833115\n",
              "max        0.880651\n",
              "Name: HDD, dtype: float64"
            ]
          },
          "metadata": {},
          "execution_count": 22
        }
      ]
    },
    {
      "cell_type": "markdown",
      "source": [
        "# Plotting"
      ],
      "metadata": {
        "id": "9kpFNTs-dwsj"
      }
    },
    {
      "cell_type": "code",
      "source": [
        "from matplotlib import pyplot as plt\n",
        "import seaborn as sns"
      ],
      "metadata": {
        "id": "EqcD_BPXd6DR"
      },
      "execution_count": 23,
      "outputs": []
    },
    {
      "cell_type": "code",
      "source": [
        "sns.set(rc={'figure.figsize':(8,6),\"font.size\":40,\"axes.titlesize\":140,\"axes.labelsize\":60},style=\"white\") # font size doesn't work\n",
        "# ax = sns.boxplot (y=df2)\n",
        "# ax.set_ylim([0, 210])\n",
        "\n",
        "sns.set_theme(style='white')\n",
        "dd=pd.melt(df2,id_vars=['Year'],value_vars=['N_Words'],var_name='Tokens')\n",
        "ax = sns.boxplot(x='Year',y='value',data=dd,hue='Tokens',palette=\"Accent\")\n",
        "ax.set_ylim([80,220])\n",
        "ax.set(xlabel='Year', ylabel='N of words (count)')\n",
        "plt.savefig('boxplot_Nwords.png')  "
      ],
      "metadata": {
        "colab": {
          "base_uri": "https://localhost:8080/",
          "height": 398
        },
        "id": "1rBqzjAoUleQ",
        "outputId": "5785da06-0279-4de5-8297-46232d09bdf1"
      },
      "execution_count": 25,
      "outputs": [
        {
          "output_type": "display_data",
          "data": {
            "text/plain": [
              "<Figure size 576x432 with 1 Axes>"
            ],
            "image/png": "[encoded data removed]"
          },
          "metadata": {}
        }
      ]
    },
    {
      "cell_type": "code",
      "source": [
        "sns.kdeplot(x='N_Words', data=df2, hue='Year', common_norm=False);\n",
        "plt.title(\"Kernel Density Function\")\n",
        "plt.savefig('Density_Nsplit.png')  "
      ],
      "metadata": {
        "colab": {
          "base_uri": "https://localhost:8080/",
          "height": 410
        },
        "id": "Nz2Rj3nrU3ug",
        "outputId": "082570d1-2d37-4f60-9bbe-54643d9354ca"
      },
      "execution_count": 27,
      "outputs": [
        {
          "output_type": "display_data",
          "data": {
            "text/plain": [
              "<Figure size 576x432 with 1 Axes>"
            ],
            "image/png": "[encoded data removed]"
          },
          "metadata": {}
        }
      ]
    },
    {
      "cell_type": "code",
      "source": [
        "sns.scatterplot(data=df2, x=\"Year\", y=\"N_Words\")\n",
        "sns.rugplot(data=df2, x=\"Year\", y=\"N_Words\", height=.1) \n",
        "plt.savefig('Rug_Nsplit.png')  "
      ],
      "metadata": {
        "colab": {
          "base_uri": "https://localhost:8080/",
          "height": 394
        },
        "id": "OedBebCbU7zg",
        "outputId": "cfac403f-aa70-4573-c386-5cd9ed7e9662"
      },
      "execution_count": 28,
      "outputs": [
        {
          "output_type": "display_data",
          "data": {
            "text/plain": [
              "<Figure size 576x432 with 1 Axes>"
            ],
            "image/png": "[encoded data removed]"
          },
          "metadata": {}
        }
      ]
    },
    {
      "cell_type": "markdown",
      "source": [
        "문항별 어휘수 및 문장수"
      ],
      "metadata": {
        "id": "ucvdZeuUb1ZF"
      }
    },
    {
      "cell_type": "code",
      "source": [
        "sns.set(rc={'figure.figsize':(12,6),\"font.size\":40,\"axes.titlesize\":20,\"axes.labelsize\":20},style=\"white\") # font size doesn't work\n",
        "sns.scatterplot(data=df2, x=\"QN\", y=\"N_Words\")\n",
        "ax = sns.rugplot(data=df2, x=\"QN\", y=\"N_Words\", height=.1) \n",
        "ax.set_ylim([90,200])\n",
        "ax.set(xlabel='Question number', ylabel='N of words (count)')\n",
        "plt.savefig('Rug_Nsplit_byQ.png')  "
      ],
      "metadata": {
        "colab": {
          "base_uri": "https://localhost:8080/",
          "height": 404
        },
        "id": "PsBAXoUqb1IR",
        "outputId": "1486739a-e938-4090-af9b-08f0f60c4eca"
      },
      "execution_count": 29,
      "outputs": [
        {
          "output_type": "display_data",
          "data": {
            "text/plain": [
              "<Figure size 864x432 with 1 Axes>"
            ],
            "image/png": "[encoded data removed]"
          },
          "metadata": {}
        }
      ]
    },
    {
      "cell_type": "markdown",
      "source": [
        "# Lexical Diversity analysis: select TTR, MassTTR, MTLD, HDD"
      ],
      "metadata": {
        "id": "bZu-xsK-UmN1"
      }
    },
    {
      "cell_type": "code",
      "source": [
        "df3 = df2\n",
        "for col in df3.columns:\n",
        "    print(col)"
      ],
      "metadata": {
        "colab": {
          "base_uri": "https://localhost:8080/"
        },
        "id": "WftKg0a5gENP",
        "outputId": "386aa4b3-133b-4f5f-b640-4a01b118f69a"
      },
      "execution_count": 30,
      "outputs": [
        {
          "output_type": "stream",
          "name": "stdout",
          "text": [
            "Year\n",
            "Category\n",
            "QN\n",
            "Passage\n",
            "N_Sents\n",
            "Splits\n",
            "N_Words\n",
            "String\n",
            "Lemma\n",
            "TTR\n",
            "RTTR\n",
            "LogTTR\n",
            "MassTTR\n",
            "MSTTR\n",
            "MATTR\n",
            "HDD\n",
            "MTLD\n",
            "MTLD_wrap\n",
            "MTLD_bid\n"
          ]
        }
      ]
    },
    {
      "cell_type": "code",
      "source": [
        "df3 = df2[['Year','QN','N_Words','N_Sents','TTR','MATTR','HDD','MTLD']]\n",
        "df3.head()"
      ],
      "metadata": {
        "colab": {
          "base_uri": "https://localhost:8080/",
          "height": 206
        },
        "id": "WXAm3TnrgXwq",
        "outputId": "b77de9b9-da21-4801-d3bd-15bb4e08f394"
      },
      "execution_count": 32,
      "outputs": [
        {
          "output_type": "execute_result",
          "data": {
            "text/plain": [
              "   Year   QN  N_Words  N_Sents       TTR     MATTR       HDD        MTLD\n",
              "0  2015  Q18      107        8  0.728972  0.794828  0.841506  110.542069\n",
              "1  2015  Q19      123       10  0.666667  0.795405  0.824749   62.363391\n",
              "2  2015  Q20      117        6  0.623932  0.758529  0.776571   53.164604\n",
              "3  2015  Q21      128        6  0.703125  0.813165  0.848132  112.313725\n",
              "4  2015  Q22      128        6  0.703125  0.813165  0.848132  112.313725"
            ],
            "text/html": [
              "\n",
              "  <div id=\"df-54eb78b7-4907-4b28-914b-c63a1d2020ba\">\n",
              "    <div class=\"colab-df-container\">\n",
              "      <div>\n",
              "<style scoped>\n",
              "    .dataframe tbody tr th:only-of-type {\n",
              "        vertical-align: middle;\n",
              "    }\n",
              "\n",
              "    .dataframe tbody tr th {\n",
              "        vertical-align: top;\n",
              "    }\n",
              "\n",
              "    .dataframe thead th {\n",
              "        text-align: right;\n",
              "    }\n",
              "</style>\n",
              "<table border=\"1\" class=\"dataframe\">\n",
              "  <thead>\n",
              "    <tr style=\"text-align: right;\">\n",
              "      <th></th>\n",
              "      <th>Year</th>\n",
              "      <th>QN</th>\n",
              "      <th>N_Words</th>\n",
              "      <th>N_Sents</th>\n",
              "      <th>TTR</th>\n",
              "      <th>MATTR</th>\n",
              "      <th>HDD</th>\n",
              "      <th>MTLD</th>\n",
              "    </tr>\n",
              "  </thead>\n",
              "  <tbody>\n",
              "    <tr>\n",
              "      <th>0</th>\n",
              "      <td>2015</td>\n",
              "      <td>Q18</td>\n",
              "      <td>107</td>\n",
              "      <td>8</td>\n",
              "      <td>0.728972</td>\n",
              "      <td>0.794828</td>\n",
              "      <td>0.841506</td>\n",
              "      <td>110.542069</td>\n",
              "    </tr>\n",
              "    <tr>\n",
              "      <th>1</th>\n",
              "      <td>2015</td>\n",
              "      <td>Q19</td>\n",
              "      <td>123</td>\n",
              "      <td>10</td>\n",
              "      <td>0.666667</td>\n",
              "      <td>0.795405</td>\n",
              "      <td>0.824749</td>\n",
              "      <td>62.363391</td>\n",
              "    </tr>\n",
              "    <tr>\n",
              "      <th>2</th>\n",
              "      <td>2015</td>\n",
              "      <td>Q20</td>\n",
              "      <td>117</td>\n",
              "      <td>6</td>\n",
              "      <td>0.623932</td>\n",
              "      <td>0.758529</td>\n",
              "      <td>0.776571</td>\n",
              "      <td>53.164604</td>\n",
              "    </tr>\n",
              "    <tr>\n",
              "      <th>3</th>\n",
              "      <td>2015</td>\n",
              "      <td>Q21</td>\n",
              "      <td>128</td>\n",
              "      <td>6</td>\n",
              "      <td>0.703125</td>\n",
              "      <td>0.813165</td>\n",
              "      <td>0.848132</td>\n",
              "      <td>112.313725</td>\n",
              "    </tr>\n",
              "    <tr>\n",
              "      <th>4</th>\n",
              "      <td>2015</td>\n",
              "      <td>Q22</td>\n",
              "      <td>128</td>\n",
              "      <td>6</td>\n",
              "      <td>0.703125</td>\n",
              "      <td>0.813165</td>\n",
              "      <td>0.848132</td>\n",
              "      <td>112.313725</td>\n",
              "    </tr>\n",
              "  </tbody>\n",
              "</table>\n",
              "</div>\n",
              "      <button class=\"colab-df-convert\" onclick=\"convertToInteractive('df-54eb78b7-4907-4b28-914b-c63a1d2020ba')\"\n",
              "              title=\"Convert this dataframe to an interactive table.\"\n",
              "              style=\"display:none;\">\n",
              "        \n",
              "  <svg xmlns=\"http://www.w3.org/2000/svg\" height=\"24px\"viewBox=\"0 0 24 24\"\n",
              "       width=\"24px\">\n",
              "    <path d=\"M0 0h24v24H0V0z\" fill=\"none\"/>\n",
              "    <path d=\"M18.56 5.44l.94 2.06.94-2.06 2.06-.94-2.06-.94-.94-2.06-.94 2.06-2.06.94zm-11 1L8.5 8.5l.94-2.06 2.06-.94-2.06-.94L8.5 2.5l-.94 2.06-2.06.94zm10 10l.94 2.06.94-2.06 2.06-.94-2.06-.94-.94-2.06-.94 2.06-2.06.94z\"/><path d=\"M17.41 7.96l-1.37-1.37c-.4-.4-.92-.59-1.43-.59-.52 0-1.04.2-1.43.59L10.3 9.45l-7.72 7.72c-.78.78-.78 2.05 0 2.83L4 21.41c.39.39.9.59 1.41.59.51 0 1.02-.2 1.41-.59l7.78-7.78 2.81-2.81c.8-.78.8-2.07 0-2.86zM5.41 20L4 18.59l7.72-7.72 1.47 1.35L5.41 20z\"/>\n",
              "  </svg>\n",
              "      </button>\n",
              "      \n",
              "  <style>\n",
              "    .colab-df-container {\n",
              "      display:flex;\n",
              "      flex-wrap:wrap;\n",
              "      gap: 12px;\n",
              "    }\n",
              "\n",
              "    .colab-df-convert {\n",
              "      background-color: #E8F0FE;\n",
              "      border: none;\n",
              "      border-radius: 50%;\n",
              "      cursor: pointer;\n",
              "      display: none;\n",
              "      fill: #1967D2;\n",
              "      height: 32px;\n",
              "      padding: 0 0 0 0;\n",
              "      width: 32px;\n",
              "    }\n",
              "\n",
              "    .colab-df-convert:hover {\n",
              "      background-color: #E2EBFA;\n",
              "      box-shadow: 0px 1px 2px rgba(60, 64, 67, 0.3), 0px 1px 3px 1px rgba(60, 64, 67, 0.15);\n",
              "      fill: #174EA6;\n",
              "    }\n",
              "\n",
              "    [theme=dark] .colab-df-convert {\n",
              "      background-color: #3B4455;\n",
              "      fill: #D2E3FC;\n",
              "    }\n",
              "\n",
              "    [theme=dark] .colab-df-convert:hover {\n",
              "      background-color: #434B5C;\n",
              "      box-shadow: 0px 1px 3px 1px rgba(0, 0, 0, 0.15);\n",
              "      filter: drop-shadow(0px 1px 2px rgba(0, 0, 0, 0.3));\n",
              "      fill: #FFFFFF;\n",
              "    }\n",
              "  </style>\n",
              "\n",
              "      <script>\n",
              "        const buttonEl =\n",
              "          document.querySelector('#df-54eb78b7-4907-4b28-914b-c63a1d2020ba button.colab-df-convert');\n",
              "        buttonEl.style.display =\n",
              "          google.colab.kernel.accessAllowed ? 'block' : 'none';\n",
              "\n",
              "        async function convertToInteractive(key) {\n",
              "          const element = document.querySelector('#df-54eb78b7-4907-4b28-914b-c63a1d2020ba');\n",
              "          const dataTable =\n",
              "            await google.colab.kernel.invokeFunction('convertToInteractive',\n",
              "                                                     [key], {});\n",
              "          if (!dataTable) return;\n",
              "\n",
              "          const docLinkHtml = 'Like what you see? Visit the ' +\n",
              "            '<a target=\"_blank\" href=https://colab.research.google.com/notebooks/data_table.ipynb>data table notebook</a>'\n",
              "            + ' to learn more about interactive tables.';\n",
              "          element.innerHTML = '';\n",
              "          dataTable['output_type'] = 'display_data';\n",
              "          await google.colab.output.renderOutput(dataTable, element);\n",
              "          const docLink = document.createElement('div');\n",
              "          docLink.innerHTML = docLinkHtml;\n",
              "          element.appendChild(docLink);\n",
              "        }\n",
              "      </script>\n",
              "    </div>\n",
              "  </div>\n",
              "  "
            ]
          },
          "metadata": {},
          "execution_count": 32
        }
      ]
    },
    {
      "cell_type": "code",
      "source": [
        "df3.groupby('Year')['MTLD'].describe()"
      ],
      "metadata": {
        "id": "AMikAaJ1hGlt"
      },
      "execution_count": null,
      "outputs": []
    },
    {
      "cell_type": "code",
      "source": [
        "df3['MTLD'].describe()"
      ],
      "metadata": {
        "colab": {
          "base_uri": "https://localhost:8080/"
        },
        "id": "MByjdSOLzu-I",
        "outputId": "35f58884-42e2-43b1-d5ad-07abda750f12"
      },
      "execution_count": 34,
      "outputs": [
        {
          "output_type": "execute_result",
          "data": {
            "text/plain": [
              "count    136.000000\n",
              "mean      70.714724\n",
              "std       20.633628\n",
              "min       33.165609\n",
              "25%       55.157307\n",
              "50%       68.431332\n",
              "75%       83.649431\n",
              "max      138.947368\n",
              "Name: MTLD, dtype: float64"
            ]
          },
          "metadata": {},
          "execution_count": 34
        }
      ]
    },
    {
      "cell_type": "code",
      "source": [
        "import seaborn as sns\n",
        "import matplotlib.pyplot as plt"
      ],
      "metadata": {
        "id": "dT1HXSU6peQG"
      },
      "execution_count": 35,
      "outputs": []
    },
    {
      "cell_type": "code",
      "source": [
        "sns.set(rc={'figure.figsize':(8,6),\"font.size\":20,\"axes.titlesize\":20,\"axes.labelsize\":20},style=\"white\") # font size doesn't work\n",
        "# sns.set_theme(style='white')\n",
        "dd=pd.melt(df3,id_vars=['Year'],value_vars=['MTLD'],var_name='LD index')\n",
        "ax = sns.boxplot(x='Year',y='value',data=dd,hue='LD index',palette=\"Accent\")\n",
        "ax.set_ylim([0,150])\n",
        "ax.set(xlabel='Year', ylabel='MTLD')\n",
        "plt.savefig('boxplot_MTLD_by_year.png')  "
      ],
      "metadata": {
        "colab": {
          "base_uri": "https://localhost:8080/",
          "height": 400
        },
        "id": "jZ2n6E7vnjAQ",
        "outputId": "2b832187-d67a-4436-f5b2-28779141022e"
      },
      "execution_count": 36,
      "outputs": [
        {
          "output_type": "display_data",
          "data": {
            "text/plain": [
              "<Figure size 576x432 with 1 Axes>"
            ],
            "image/png": "[encoded data removed]"
          },
          "metadata": {}
        }
      ]
    },
    {
      "cell_type": "code",
      "source": [
        "sns.kdeplot(x='MTLD', data=df3, hue='Year', common_norm=False);\n",
        "plt.title(\"Kernel Density Function\")\n",
        "plt.savefig('Density_MTLD.png')  "
      ],
      "metadata": {
        "colab": {
          "base_uri": "https://localhost:8080/",
          "height": 421
        },
        "id": "TEnIGiPvpHNS",
        "outputId": "44f3296c-0b36-473b-e3d3-6b4a4356d79e"
      },
      "execution_count": 37,
      "outputs": [
        {
          "output_type": "display_data",
          "data": {
            "text/plain": [
              "<Figure size 576x432 with 1 Axes>"
            ],
            "image/png": "[encoded data removed]"
          },
          "metadata": {}
        }
      ]
    },
    {
      "cell_type": "code",
      "source": [
        "sns.set(rc={'figure.figsize':(12,6),\"font.size\":40,\"axes.titlesize\":20,\"axes.labelsize\":20},style=\"white\") # font size doesn't work\n",
        "sns.scatterplot(data=df3, x=\"Year\", y=\"MTLD\")\n",
        "ax = sns.rugplot(data=df3, x=\"Year\", y=\"MTLD\", height=.1) \n",
        "ax.set_ylim([0,150])\n",
        "ax.set_xlim([2014,2023])\n",
        "ax.set(xlabel='Year', ylabel='MTLD index')\n",
        "plt.savefig('Rug_MTLD_byYear.png') "
      ],
      "metadata": {
        "colab": {
          "base_uri": "https://localhost:8080/",
          "height": 400
        },
        "id": "7xXZBMNgulgD",
        "outputId": "f161401d-79e3-4949-9898-db29ecafaad4"
      },
      "execution_count": 38,
      "outputs": [
        {
          "output_type": "display_data",
          "data": {
            "text/plain": [
              "<Figure size 864x432 with 1 Axes>"
            ],
            "image/png": "[encoded data removed]"
          },
          "metadata": {}
        }
      ]
    },
    {
      "cell_type": "markdown",
      "source": [
        "MATTR"
      ],
      "metadata": {
        "id": "EQVeDQsP3yHK"
      }
    },
    {
      "cell_type": "code",
      "source": [
        "sns.kdeplot(x='MATTR', data=df3, hue='Year', common_norm=False);\n",
        "plt.title(\"Kernel Density Function\")\n",
        "plt.savefig('Density_MATTR.png')  "
      ],
      "metadata": {
        "colab": {
          "base_uri": "https://localhost:8080/",
          "height": 421
        },
        "id": "vkBDuW1530fu",
        "outputId": "b3e1da16-91d5-4230-f855-4cd83e708578"
      },
      "execution_count": 39,
      "outputs": [
        {
          "output_type": "display_data",
          "data": {
            "text/plain": [
              "<Figure size 864x432 with 1 Axes>"
            ],
            "image/png": "[encoded data removed]"
          },
          "metadata": {}
        }
      ]
    },
    {
      "cell_type": "code",
      "source": [
        "df3.groupby('Year')['MATTR'].describe()"
      ],
      "metadata": {
        "colab": {
          "base_uri": "https://localhost:8080/",
          "height": 331
        },
        "id": "ndAjt6X9nc_f",
        "outputId": "9821b857-12b2-4044-c1d7-39ac48ea5072"
      },
      "execution_count": 40,
      "outputs": [
        {
          "output_type": "execute_result",
          "data": {
            "text/plain": [
              "      count      mean       std       min       25%       50%       75%  \\\n",
              "Year                                                                      \n",
              "2015   17.0  0.766036  0.042779  0.667755  0.755963  0.772696  0.795405   \n",
              "2016   17.0  0.773909  0.064759  0.581905  0.755575  0.783291  0.808689   \n",
              "2017   17.0  0.783982  0.030315  0.728142  0.768939  0.789333  0.802222   \n",
              "2018   17.0  0.766674  0.043237  0.659032  0.753333  0.776147  0.799063   \n",
              "2019   17.0  0.760403  0.046946  0.675960  0.719439  0.766786  0.805781   \n",
              "2020   17.0  0.775653  0.051979  0.675960  0.749219  0.770909  0.818763   \n",
              "2021   17.0  0.775449  0.036112  0.708547  0.750076  0.776852  0.782500   \n",
              "2022   17.0  0.765262  0.045270  0.687068  0.749687  0.774182  0.794667   \n",
              "\n",
              "           max  \n",
              "Year            \n",
              "2015  0.813165  \n",
              "2016  0.866111  \n",
              "2017  0.843504  \n",
              "2018  0.821569  \n",
              "2019  0.832034  \n",
              "2020  0.855200  \n",
              "2021  0.851600  \n",
              "2022  0.837838  "
            ],
            "text/html": [
              "\n",
              "  <div id=\"df-fdb6b167-5a73-4199-b136-502d39d3537d\">\n",
              "    <div class=\"colab-df-container\">\n",
              "      <div>\n",
              "<style scoped>\n",
              "    .dataframe tbody tr th:only-of-type {\n",
              "        vertical-align: middle;\n",
              "    }\n",
              "\n",
              "    .dataframe tbody tr th {\n",
              "        vertical-align: top;\n",
              "    }\n",
              "\n",
              "    .dataframe thead th {\n",
              "        text-align: right;\n",
              "    }\n",
              "</style>\n",
              "<table border=\"1\" class=\"dataframe\">\n",
              "  <thead>\n",
              "    <tr style=\"text-align: right;\">\n",
              "      <th></th>\n",
              "      <th>count</th>\n",
              "      <th>mean</th>\n",
              "      <th>std</th>\n",
              "      <th>min</th>\n",
              "      <th>25%</th>\n",
              "      <th>50%</th>\n",
              "      <th>75%</th>\n",
              "      <th>max</th>\n",
              "    </tr>\n",
              "    <tr>\n",
              "      <th>Year</th>\n",
              "      <th></th>\n",
              "      <th></th>\n",
              "      <th></th>\n",
              "      <th></th>\n",
              "      <th></th>\n",
              "      <th></th>\n",
              "      <th></th>\n",
              "      <th></th>\n",
              "    </tr>\n",
              "  </thead>\n",
              "  <tbody>\n",
              "    <tr>\n",
              "      <th>2015</th>\n",
              "      <td>17.0</td>\n",
              "      <td>0.766036</td>\n",
              "      <td>0.042779</td>\n",
              "      <td>0.667755</td>\n",
              "      <td>0.755963</td>\n",
              "      <td>0.772696</td>\n",
              "      <td>0.795405</td>\n",
              "      <td>0.813165</td>\n",
              "    </tr>\n",
              "    <tr>\n",
              "      <th>2016</th>\n",
              "      <td>17.0</td>\n",
              "      <td>0.773909</td>\n",
              "      <td>0.064759</td>\n",
              "      <td>0.581905</td>\n",
              "      <td>0.755575</td>\n",
              "      <td>0.783291</td>\n",
              "      <td>0.808689</td>\n",
              "      <td>0.866111</td>\n",
              "    </tr>\n",
              "    <tr>\n",
              "      <th>2017</th>\n",
              "      <td>17.0</td>\n",
              "      <td>0.783982</td>\n",
              "      <td>0.030315</td>\n",
              "      <td>0.728142</td>\n",
              "      <td>0.768939</td>\n",
              "      <td>0.789333</td>\n",
              "      <td>0.802222</td>\n",
              "      <td>0.843504</td>\n",
              "    </tr>\n",
              "    <tr>\n",
              "      <th>2018</th>\n",
              "      <td>17.0</td>\n",
              "      <td>0.766674</td>\n",
              "      <td>0.043237</td>\n",
              "      <td>0.659032</td>\n",
              "      <td>0.753333</td>\n",
              "      <td>0.776147</td>\n",
              "      <td>0.799063</td>\n",
              "      <td>0.821569</td>\n",
              "    </tr>\n",
              "    <tr>\n",
              "      <th>2019</th>\n",
              "      <td>17.0</td>\n",
              "      <td>0.760403</td>\n",
              "      <td>0.046946</td>\n",
              "      <td>0.675960</td>\n",
              "      <td>0.719439</td>\n",
              "      <td>0.766786</td>\n",
              "      <td>0.805781</td>\n",
              "      <td>0.832034</td>\n",
              "    </tr>\n",
              "    <tr>\n",
              "      <th>2020</th>\n",
              "      <td>17.0</td>\n",
              "      <td>0.775653</td>\n",
              "      <td>0.051979</td>\n",
              "      <td>0.675960</td>\n",
              "      <td>0.749219</td>\n",
              "      <td>0.770909</td>\n",
              "      <td>0.818763</td>\n",
              "      <td>0.855200</td>\n",
              "    </tr>\n",
              "    <tr>\n",
              "      <th>2021</th>\n",
              "      <td>17.0</td>\n",
              "      <td>0.775449</td>\n",
              "      <td>0.036112</td>\n",
              "      <td>0.708547</td>\n",
              "      <td>0.750076</td>\n",
              "      <td>0.776852</td>\n",
              "      <td>0.782500</td>\n",
              "      <td>0.851600</td>\n",
              "    </tr>\n",
              "    <tr>\n",
              "      <th>2022</th>\n",
              "      <td>17.0</td>\n",
              "      <td>0.765262</td>\n",
              "      <td>0.045270</td>\n",
              "      <td>0.687068</td>\n",
              "      <td>0.749687</td>\n",
              "      <td>0.774182</td>\n",
              "      <td>0.794667</td>\n",
              "      <td>0.837838</td>\n",
              "    </tr>\n",
              "  </tbody>\n",
              "</table>\n",
              "</div>\n",
              "      <button class=\"colab-df-convert\" onclick=\"convertToInteractive('df-fdb6b167-5a73-4199-b136-502d39d3537d')\"\n",
              "              title=\"Convert this dataframe to an interactive table.\"\n",
              "              style=\"display:none;\">\n",
              "        \n",
              "  <svg xmlns=\"http://www.w3.org/2000/svg\" height=\"24px\"viewBox=\"0 0 24 24\"\n",
              "       width=\"24px\">\n",
              "    <path d=\"M0 0h24v24H0V0z\" fill=\"none\"/>\n",
              "    <path d=\"M18.56 5.44l.94 2.06.94-2.06 2.06-.94-2.06-.94-.94-2.06-.94 2.06-2.06.94zm-11 1L8.5 8.5l.94-2.06 2.06-.94-2.06-.94L8.5 2.5l-.94 2.06-2.06.94zm10 10l.94 2.06.94-2.06 2.06-.94-2.06-.94-.94-2.06-.94 2.06-2.06.94z\"/><path d=\"M17.41 7.96l-1.37-1.37c-.4-.4-.92-.59-1.43-.59-.52 0-1.04.2-1.43.59L10.3 9.45l-7.72 7.72c-.78.78-.78 2.05 0 2.83L4 21.41c.39.39.9.59 1.41.59.51 0 1.02-.2 1.41-.59l7.78-7.78 2.81-2.81c.8-.78.8-2.07 0-2.86zM5.41 20L4 18.59l7.72-7.72 1.47 1.35L5.41 20z\"/>\n",
              "  </svg>\n",
              "      </button>\n",
              "      \n",
              "  <style>\n",
              "    .colab-df-container {\n",
              "      display:flex;\n",
              "      flex-wrap:wrap;\n",
              "      gap: 12px;\n",
              "    }\n",
              "\n",
              "    .colab-df-convert {\n",
              "      background-color: #E8F0FE;\n",
              "      border: none;\n",
              "      border-radius: 50%;\n",
              "      cursor: pointer;\n",
              "      display: none;\n",
              "      fill: #1967D2;\n",
              "      height: 32px;\n",
              "      padding: 0 0 0 0;\n",
              "      width: 32px;\n",
              "    }\n",
              "\n",
              "    .colab-df-convert:hover {\n",
              "      background-color: #E2EBFA;\n",
              "      box-shadow: 0px 1px 2px rgba(60, 64, 67, 0.3), 0px 1px 3px 1px rgba(60, 64, 67, 0.15);\n",
              "      fill: #174EA6;\n",
              "    }\n",
              "\n",
              "    [theme=dark] .colab-df-convert {\n",
              "      background-color: #3B4455;\n",
              "      fill: #D2E3FC;\n",
              "    }\n",
              "\n",
              "    [theme=dark] .colab-df-convert:hover {\n",
              "      background-color: #434B5C;\n",
              "      box-shadow: 0px 1px 3px 1px rgba(0, 0, 0, 0.15);\n",
              "      filter: drop-shadow(0px 1px 2px rgba(0, 0, 0, 0.3));\n",
              "      fill: #FFFFFF;\n",
              "    }\n",
              "  </style>\n",
              "\n",
              "      <script>\n",
              "        const buttonEl =\n",
              "          document.querySelector('#df-fdb6b167-5a73-4199-b136-502d39d3537d button.colab-df-convert');\n",
              "        buttonEl.style.display =\n",
              "          google.colab.kernel.accessAllowed ? 'block' : 'none';\n",
              "\n",
              "        async function convertToInteractive(key) {\n",
              "          const element = document.querySelector('#df-fdb6b167-5a73-4199-b136-502d39d3537d');\n",
              "          const dataTable =\n",
              "            await google.colab.kernel.invokeFunction('convertToInteractive',\n",
              "                                                     [key], {});\n",
              "          if (!dataTable) return;\n",
              "\n",
              "          const docLinkHtml = 'Like what you see? Visit the ' +\n",
              "            '<a target=\"_blank\" href=https://colab.research.google.com/notebooks/data_table.ipynb>data table notebook</a>'\n",
              "            + ' to learn more about interactive tables.';\n",
              "          element.innerHTML = '';\n",
              "          dataTable['output_type'] = 'display_data';\n",
              "          await google.colab.output.renderOutput(dataTable, element);\n",
              "          const docLink = document.createElement('div');\n",
              "          docLink.innerHTML = docLinkHtml;\n",
              "          element.appendChild(docLink);\n",
              "        }\n",
              "      </script>\n",
              "    </div>\n",
              "  </div>\n",
              "  "
            ]
          },
          "metadata": {},
          "execution_count": 40
        }
      ]
    },
    {
      "cell_type": "markdown",
      "source": [
        "# [2] Readability"
      ],
      "metadata": {
        "id": "xSdcAk_U5JDT"
      }
    },
    {
      "cell_type": "markdown",
      "source": [
        "## install packages"
      ],
      "metadata": {
        "id": "mX5ilfBqRaJh"
      }
    },
    {
      "cell_type": "code",
      "execution_count": null,
      "metadata": {
        "colab": {
          "base_uri": "https://localhost:8080/"
        },
        "id": "Zj0xjUbPFkVd",
        "outputId": "848d26b1-961a-44f8-e780-2777790d58c3"
      },
      "outputs": [
        {
          "output_type": "stream",
          "name": "stdout",
          "text": [
            "Looking in indexes: https://pypi.org/simple, https://us-python.pkg.dev/colab-wheels/public/simple/\n",
            "Requirement already satisfied: lexical-diversity in /usr/local/lib/python3.7/dist-packages (0.1.1)\n",
            "Looking in indexes: https://pypi.org/simple, https://us-python.pkg.dev/colab-wheels/public/simple/\n",
            "Requirement already satisfied: textstat in /usr/local/lib/python3.7/dist-packages (0.7.3)\n",
            "Requirement already satisfied: pyphen in /usr/local/lib/python3.7/dist-packages (from textstat) (0.13.0)\n"
          ]
        }
      ],
      "source": [
        "import pandas as pd\n",
        "import matplotlib.pyplot as plt\n",
        "import os\n",
        "!pip install lexical-diversity\n",
        "from lexical_diversity import lex_div as ld\n",
        "\n",
        "!pip install textstat\n",
        "import textstat"
      ]
    },
    {
      "cell_type": "markdown",
      "source": [
        "## Readability indices & Plotting for papers"
      ],
      "metadata": {
        "id": "Smh_j6CsOOU5"
      }
    },
    {
      "cell_type": "code",
      "source": [
        "from typing import TextIO\n",
        "FRE = []\n",
        "FKG = []\n",
        "GF = []\n",
        "ARI = []\n",
        "CLI = []\n",
        "LWF = []\n",
        "DCRS = []\n",
        "TS = []\n",
        "\n",
        "for i in range(0, len(df2['Passage'])):\n",
        "  text = df2['Passage'][i]\n",
        "  fre = textstat.flesch_reading_ease(text)\n",
        "  fkg = textstat.flesch_kincaid_grade(text)\n",
        "  gf = textstat.gunning_fog(text)\n",
        "  ari = textstat.automated_readability_index(text)\n",
        "  cli = textstat.coleman_liau_index(text)\n",
        "  lwf = textstat.linsear_write_formula(text)\n",
        "  dcrs = textstat.dale_chall_readability_score(text)\n",
        "  ts = textstat.text_standard(text)\n",
        "\n",
        "  FRE.append(fre)\n",
        "  FKG.append(fkg)\n",
        "  GF.append(gf)\n",
        "  ARI.append(ari)\n",
        "  CLI.append(cli)\n",
        "  LWF.append(lwf)\n",
        "  DCRS.append(dcrs)\n",
        "  TS.append(ts)\n",
        "\n",
        "\n",
        "df3['FRE'] = FRE\n",
        "df3['FKG'] = FKG\n",
        "df3['GF'] = GF\n",
        "df3['ARI'] = ARI\n",
        "df3['CLI'] = CLI\n",
        "df3['LWF'] = LWF\n",
        "df3['DCRS'] = DCRS\n",
        "df3['TS'] = TS\n"
      ],
      "metadata": {
        "id": "vM7Pv8cLOnp4",
        "colab": {
          "base_uri": "https://localhost:8080/"
        },
        "outputId": "5ac24149-35d7-4f25-d73c-650464e141a1"
      },
      "execution_count": null,
      "outputs": [
        {
          "output_type": "stream",
          "name": "stderr",
          "text": [
            "/usr/local/lib/python3.7/dist-packages/ipykernel_launcher.py:32: SettingWithCopyWarning: \n",
            "A value is trying to be set on a copy of a slice from a DataFrame.\n",
            "Try using .loc[row_indexer,col_indexer] = value instead\n",
            "\n",
            "See the caveats in the documentation: https://pandas.pydata.org/pandas-docs/stable/user_guide/indexing.html#returning-a-view-versus-a-copy\n",
            "/usr/local/lib/python3.7/dist-packages/ipykernel_launcher.py:33: SettingWithCopyWarning: \n",
            "A value is trying to be set on a copy of a slice from a DataFrame.\n",
            "Try using .loc[row_indexer,col_indexer] = value instead\n",
            "\n",
            "See the caveats in the documentation: https://pandas.pydata.org/pandas-docs/stable/user_guide/indexing.html#returning-a-view-versus-a-copy\n",
            "/usr/local/lib/python3.7/dist-packages/ipykernel_launcher.py:34: SettingWithCopyWarning: \n",
            "A value is trying to be set on a copy of a slice from a DataFrame.\n",
            "Try using .loc[row_indexer,col_indexer] = value instead\n",
            "\n",
            "See the caveats in the documentation: https://pandas.pydata.org/pandas-docs/stable/user_guide/indexing.html#returning-a-view-versus-a-copy\n",
            "/usr/local/lib/python3.7/dist-packages/ipykernel_launcher.py:35: SettingWithCopyWarning: \n",
            "A value is trying to be set on a copy of a slice from a DataFrame.\n",
            "Try using .loc[row_indexer,col_indexer] = value instead\n",
            "\n",
            "See the caveats in the documentation: https://pandas.pydata.org/pandas-docs/stable/user_guide/indexing.html#returning-a-view-versus-a-copy\n",
            "/usr/local/lib/python3.7/dist-packages/ipykernel_launcher.py:36: SettingWithCopyWarning: \n",
            "A value is trying to be set on a copy of a slice from a DataFrame.\n",
            "Try using .loc[row_indexer,col_indexer] = value instead\n",
            "\n",
            "See the caveats in the documentation: https://pandas.pydata.org/pandas-docs/stable/user_guide/indexing.html#returning-a-view-versus-a-copy\n",
            "/usr/local/lib/python3.7/dist-packages/ipykernel_launcher.py:37: SettingWithCopyWarning: \n",
            "A value is trying to be set on a copy of a slice from a DataFrame.\n",
            "Try using .loc[row_indexer,col_indexer] = value instead\n",
            "\n",
            "See the caveats in the documentation: https://pandas.pydata.org/pandas-docs/stable/user_guide/indexing.html#returning-a-view-versus-a-copy\n",
            "/usr/local/lib/python3.7/dist-packages/ipykernel_launcher.py:38: SettingWithCopyWarning: \n",
            "A value is trying to be set on a copy of a slice from a DataFrame.\n",
            "Try using .loc[row_indexer,col_indexer] = value instead\n",
            "\n",
            "See the caveats in the documentation: https://pandas.pydata.org/pandas-docs/stable/user_guide/indexing.html#returning-a-view-versus-a-copy\n",
            "/usr/local/lib/python3.7/dist-packages/ipykernel_launcher.py:39: SettingWithCopyWarning: \n",
            "A value is trying to be set on a copy of a slice from a DataFrame.\n",
            "Try using .loc[row_indexer,col_indexer] = value instead\n",
            "\n",
            "See the caveats in the documentation: https://pandas.pydata.org/pandas-docs/stable/user_guide/indexing.html#returning-a-view-versus-a-copy\n"
          ]
        }
      ]
    },
    {
      "cell_type": "markdown",
      "source": [
        "df3: LD(4 indices)  + Readability"
      ],
      "metadata": {
        "id": "_b6mHkKyhFKP"
      }
    },
    {
      "cell_type": "code",
      "source": [
        "df3.to_csv('results_all_1005.csv')"
      ],
      "metadata": {
        "id": "7XoiDWZ4hEwI"
      },
      "execution_count": null,
      "outputs": []
    },
    {
      "cell_type": "code",
      "source": [
        "df3.head()"
      ],
      "metadata": {
        "colab": {
          "base_uri": "https://localhost:8080/",
          "height": 250
        },
        "id": "78zc7FdF7Htl",
        "outputId": "822cbf70-2c2e-4f4c-ca39-1665961c4d96"
      },
      "execution_count": null,
      "outputs": [
        {
          "output_type": "execute_result",
          "data": {
            "text/plain": [
              "   Year   QN  N_Splits  N_Sents       TTR     MATTR       HDD        MTLD  \\\n",
              "0  2015  Q18       107        8  0.728972  0.794828  0.841506  110.542069   \n",
              "1  2015  Q19       123       10  0.666667  0.795405  0.824749   62.363391   \n",
              "2  2015  Q20       117        6  0.623932  0.758529  0.776571   53.164604   \n",
              "3  2015  Q21       128        6  0.703125  0.813165  0.848132  112.313725   \n",
              "4  2015  Q22       128        6  0.703125  0.813165  0.848132  112.313725   \n",
              "\n",
              "     FRE   FKG     GF   ARI    CLI        LWF  DCRS                   TS  \n",
              "0  74.79   6.2   8.72   8.5  10.03   6.750000  8.73    8th and 9th grade  \n",
              "1  84.37   4.5   6.87   4.1   4.80   7.428571  6.94    4th and 5th grade  \n",
              "2  51.68  10.9  13.95  12.4  11.95  10.833333  9.60  10th and 11th grade  \n",
              "3  66.78   9.2  12.90  11.2   9.11  12.200000  8.89    8th and 9th grade  \n",
              "4  66.78   9.2  12.90  11.2   9.11  12.200000  8.89    8th and 9th grade  "
            ],
            "text/html": [
              "\n",
              "  <div id=\"df-23c72d87-872c-4006-b032-a2daf0db96bf\">\n",
              "    <div class=\"colab-df-container\">\n",
              "      <div>\n",
              "<style scoped>\n",
              "    .dataframe tbody tr th:only-of-type {\n",
              "        vertical-align: middle;\n",
              "    }\n",
              "\n",
              "    .dataframe tbody tr th {\n",
              "        vertical-align: top;\n",
              "    }\n",
              "\n",
              "    .dataframe thead th {\n",
              "        text-align: right;\n",
              "    }\n",
              "</style>\n",
              "<table border=\"1\" class=\"dataframe\">\n",
              "  <thead>\n",
              "    <tr style=\"text-align: right;\">\n",
              "      <th></th>\n",
              "      <th>Year</th>\n",
              "      <th>QN</th>\n",
              "      <th>N_Splits</th>\n",
              "      <th>N_Sents</th>\n",
              "      <th>TTR</th>\n",
              "      <th>MATTR</th>\n",
              "      <th>HDD</th>\n",
              "      <th>MTLD</th>\n",
              "      <th>FRE</th>\n",
              "      <th>FKG</th>\n",
              "      <th>GF</th>\n",
              "      <th>ARI</th>\n",
              "      <th>CLI</th>\n",
              "      <th>LWF</th>\n",
              "      <th>DCRS</th>\n",
              "      <th>TS</th>\n",
              "    </tr>\n",
              "  </thead>\n",
              "  <tbody>\n",
              "    <tr>\n",
              "      <th>0</th>\n",
              "      <td>2015</td>\n",
              "      <td>Q18</td>\n",
              "      <td>107</td>\n",
              "      <td>8</td>\n",
              "      <td>0.728972</td>\n",
              "      <td>0.794828</td>\n",
              "      <td>0.841506</td>\n",
              "      <td>110.542069</td>\n",
              "      <td>74.79</td>\n",
              "      <td>6.2</td>\n",
              "      <td>8.72</td>\n",
              "      <td>8.5</td>\n",
              "      <td>10.03</td>\n",
              "      <td>6.750000</td>\n",
              "      <td>8.73</td>\n",
              "      <td>8th and 9th grade</td>\n",
              "    </tr>\n",
              "    <tr>\n",
              "      <th>1</th>\n",
              "      <td>2015</td>\n",
              "      <td>Q19</td>\n",
              "      <td>123</td>\n",
              "      <td>10</td>\n",
              "      <td>0.666667</td>\n",
              "      <td>0.795405</td>\n",
              "      <td>0.824749</td>\n",
              "      <td>62.363391</td>\n",
              "      <td>84.37</td>\n",
              "      <td>4.5</td>\n",
              "      <td>6.87</td>\n",
              "      <td>4.1</td>\n",
              "      <td>4.80</td>\n",
              "      <td>7.428571</td>\n",
              "      <td>6.94</td>\n",
              "      <td>4th and 5th grade</td>\n",
              "    </tr>\n",
              "    <tr>\n",
              "      <th>2</th>\n",
              "      <td>2015</td>\n",
              "      <td>Q20</td>\n",
              "      <td>117</td>\n",
              "      <td>6</td>\n",
              "      <td>0.623932</td>\n",
              "      <td>0.758529</td>\n",
              "      <td>0.776571</td>\n",
              "      <td>53.164604</td>\n",
              "      <td>51.68</td>\n",
              "      <td>10.9</td>\n",
              "      <td>13.95</td>\n",
              "      <td>12.4</td>\n",
              "      <td>11.95</td>\n",
              "      <td>10.833333</td>\n",
              "      <td>9.60</td>\n",
              "      <td>10th and 11th grade</td>\n",
              "    </tr>\n",
              "    <tr>\n",
              "      <th>3</th>\n",
              "      <td>2015</td>\n",
              "      <td>Q21</td>\n",
              "      <td>128</td>\n",
              "      <td>6</td>\n",
              "      <td>0.703125</td>\n",
              "      <td>0.813165</td>\n",
              "      <td>0.848132</td>\n",
              "      <td>112.313725</td>\n",
              "      <td>66.78</td>\n",
              "      <td>9.2</td>\n",
              "      <td>12.90</td>\n",
              "      <td>11.2</td>\n",
              "      <td>9.11</td>\n",
              "      <td>12.200000</td>\n",
              "      <td>8.89</td>\n",
              "      <td>8th and 9th grade</td>\n",
              "    </tr>\n",
              "    <tr>\n",
              "      <th>4</th>\n",
              "      <td>2015</td>\n",
              "      <td>Q22</td>\n",
              "      <td>128</td>\n",
              "      <td>6</td>\n",
              "      <td>0.703125</td>\n",
              "      <td>0.813165</td>\n",
              "      <td>0.848132</td>\n",
              "      <td>112.313725</td>\n",
              "      <td>66.78</td>\n",
              "      <td>9.2</td>\n",
              "      <td>12.90</td>\n",
              "      <td>11.2</td>\n",
              "      <td>9.11</td>\n",
              "      <td>12.200000</td>\n",
              "      <td>8.89</td>\n",
              "      <td>8th and 9th grade</td>\n",
              "    </tr>\n",
              "  </tbody>\n",
              "</table>\n",
              "</div>\n",
              "      <button class=\"colab-df-convert\" onclick=\"convertToInteractive('df-23c72d87-872c-4006-b032-a2daf0db96bf')\"\n",
              "              title=\"Convert this dataframe to an interactive table.\"\n",
              "              style=\"display:none;\">\n",
              "        \n",
              "  <svg xmlns=\"http://www.w3.org/2000/svg\" height=\"24px\"viewBox=\"0 0 24 24\"\n",
              "       width=\"24px\">\n",
              "    <path d=\"M0 0h24v24H0V0z\" fill=\"none\"/>\n",
              "    <path d=\"M18.56 5.44l.94 2.06.94-2.06 2.06-.94-2.06-.94-.94-2.06-.94 2.06-2.06.94zm-11 1L8.5 8.5l.94-2.06 2.06-.94-2.06-.94L8.5 2.5l-.94 2.06-2.06.94zm10 10l.94 2.06.94-2.06 2.06-.94-2.06-.94-.94-2.06-.94 2.06-2.06.94z\"/><path d=\"M17.41 7.96l-1.37-1.37c-.4-.4-.92-.59-1.43-.59-.52 0-1.04.2-1.43.59L10.3 9.45l-7.72 7.72c-.78.78-.78 2.05 0 2.83L4 21.41c.39.39.9.59 1.41.59.51 0 1.02-.2 1.41-.59l7.78-7.78 2.81-2.81c.8-.78.8-2.07 0-2.86zM5.41 20L4 18.59l7.72-7.72 1.47 1.35L5.41 20z\"/>\n",
              "  </svg>\n",
              "      </button>\n",
              "      \n",
              "  <style>\n",
              "    .colab-df-container {\n",
              "      display:flex;\n",
              "      flex-wrap:wrap;\n",
              "      gap: 12px;\n",
              "    }\n",
              "\n",
              "    .colab-df-convert {\n",
              "      background-color: #E8F0FE;\n",
              "      border: none;\n",
              "      border-radius: 50%;\n",
              "      cursor: pointer;\n",
              "      display: none;\n",
              "      fill: #1967D2;\n",
              "      height: 32px;\n",
              "      padding: 0 0 0 0;\n",
              "      width: 32px;\n",
              "    }\n",
              "\n",
              "    .colab-df-convert:hover {\n",
              "      background-color: #E2EBFA;\n",
              "      box-shadow: 0px 1px 2px rgba(60, 64, 67, 0.3), 0px 1px 3px 1px rgba(60, 64, 67, 0.15);\n",
              "      fill: #174EA6;\n",
              "    }\n",
              "\n",
              "    [theme=dark] .colab-df-convert {\n",
              "      background-color: #3B4455;\n",
              "      fill: #D2E3FC;\n",
              "    }\n",
              "\n",
              "    [theme=dark] .colab-df-convert:hover {\n",
              "      background-color: #434B5C;\n",
              "      box-shadow: 0px 1px 3px 1px rgba(0, 0, 0, 0.15);\n",
              "      filter: drop-shadow(0px 1px 2px rgba(0, 0, 0, 0.3));\n",
              "      fill: #FFFFFF;\n",
              "    }\n",
              "  </style>\n",
              "\n",
              "      <script>\n",
              "        const buttonEl =\n",
              "          document.querySelector('#df-23c72d87-872c-4006-b032-a2daf0db96bf button.colab-df-convert');\n",
              "        buttonEl.style.display =\n",
              "          google.colab.kernel.accessAllowed ? 'block' : 'none';\n",
              "\n",
              "        async function convertToInteractive(key) {\n",
              "          const element = document.querySelector('#df-23c72d87-872c-4006-b032-a2daf0db96bf');\n",
              "          const dataTable =\n",
              "            await google.colab.kernel.invokeFunction('convertToInteractive',\n",
              "                                                     [key], {});\n",
              "          if (!dataTable) return;\n",
              "\n",
              "          const docLinkHtml = 'Like what you see? Visit the ' +\n",
              "            '<a target=\"_blank\" href=https://colab.research.google.com/notebooks/data_table.ipynb>data table notebook</a>'\n",
              "            + ' to learn more about interactive tables.';\n",
              "          element.innerHTML = '';\n",
              "          dataTable['output_type'] = 'display_data';\n",
              "          await google.colab.output.renderOutput(dataTable, element);\n",
              "          const docLink = document.createElement('div');\n",
              "          docLink.innerHTML = docLinkHtml;\n",
              "          element.appendChild(docLink);\n",
              "        }\n",
              "      </script>\n",
              "    </div>\n",
              "  </div>\n",
              "  "
            ]
          },
          "metadata": {},
          "execution_count": 40
        }
      ]
    },
    {
      "cell_type": "code",
      "source": [
        "47/136"
      ],
      "metadata": {
        "id": "eTb5vsGFrjWf",
        "outputId": "acf96137-ce5a-464b-98d5-e6b3334a3847",
        "colab": {
          "base_uri": "https://localhost:8080/"
        }
      },
      "execution_count": null,
      "outputs": [
        {
          "output_type": "execute_result",
          "data": {
            "text/plain": [
              "0.34558823529411764"
            ]
          },
          "metadata": {},
          "execution_count": 41
        }
      ]
    },
    {
      "cell_type": "code",
      "source": [
        "a = df3[df3['FRE'] < 50]\n",
        "a.shape"
      ],
      "metadata": {
        "id": "vsvJWky7qN1B",
        "outputId": "b8de54de-8efd-48da-b6d3-8f290ca780f3",
        "colab": {
          "base_uri": "https://localhost:8080/"
        }
      },
      "execution_count": null,
      "outputs": [
        {
          "output_type": "execute_result",
          "data": {
            "text/plain": [
              "(65, 16)"
            ]
          },
          "metadata": {},
          "execution_count": 42
        }
      ]
    },
    {
      "cell_type": "code",
      "source": [
        "df4 = df3\n",
        "df4 = df4[['Year','QN','N_Splits','N_Sents','TTR','MTLD','FRE','FKG','GF','DCRS']]"
      ],
      "metadata": {
        "id": "_En9q4zr7xwa"
      },
      "execution_count": null,
      "outputs": []
    },
    {
      "cell_type": "code",
      "source": [
        "sns.set(rc={'figure.figsize':(6,6),\"font.size\":40,\"axes.titlesize\":20,\"axes.labelsize\":20},style=\"white\") # font size doesn't work\n",
        "sns.scatterplot(data=df4, x=\"Year\", y=\"FRE\")\n",
        "ax = sns.rugplot(data=df4, x=\"Year\", y=\"FRE\", height=.1) \n",
        "ax.set_ylim([0,100])\n",
        "# ax.set_xlim([2014,2023])\n",
        "ax.set(xlabel='Year', ylabel='Flesch Reading Ease index')\n",
        "ax.axhline(50, color=\"gray\")\n",
        "ax.axhline(30, color=\"red\")\n",
        "# ax.axhline(60)\n",
        "# ax.axhline(70)\n",
        "# ax.axhline(80)\n",
        "# plt.text(8, 50, \"An annotation\", horizontalalignment='left', size='medium', color='black', weight='semibold')\n",
        "plt.savefig('Rug_FRE_byYear.png') "
      ],
      "metadata": {
        "colab": {
          "base_uri": "https://localhost:8080/",
          "height": 404
        },
        "id": "XXGeR26T8BYl",
        "outputId": "01269521-8efd-4de6-a4ad-dded46616564"
      },
      "execution_count": null,
      "outputs": [
        {
          "output_type": "display_data",
          "data": {
            "text/plain": [
              "<Figure size 432x432 with 1 Axes>"
            ],
            "image/png": "[encoded data removed]"
          },
          "metadata": {}
        }
      ]
    },
    {
      "cell_type": "code",
      "source": [
        "sns.set(rc={'figure.figsize':(6,6),\"font.size\":40,\"axes.titlesize\":20,\"axes.labelsize\":20},style=\"white\") # font size doesn't work\n",
        "sns.scatterplot(data=df4, x=\"Year\", y=\"FKG\")\n",
        "ax = sns.rugplot(data=df4, x=\"Year\", y=\"FKG\", height=.1) \n",
        "ax.set_ylim([0,20])\n",
        "# ax.set_xlim([2014,2023])\n",
        "ax.set(xlabel='Year', ylabel='Flesch Kincaid Grade')\n",
        "ax.axhline(15, color=\"red\")\n",
        "ax.axhline(12, color=\"blue\")\n",
        "ax.axhline(6, color=\"gray\")\n",
        "# ax.axhline(60)\n",
        "# ax.axhline(70)\n",
        "# ax.axhline(80)\n",
        "# plt.text(8, 50, \"An annotation\", horizontalalignment='left', size='medium', color='black', weight='semibold')\n",
        "plt.savefig('Rug_FKG_byYear.png') "
      ],
      "metadata": {
        "outputId": "b296e08c-8357-43bc-9da5-5e8e2f4ffe2b",
        "colab": {
          "base_uri": "https://localhost:8080/",
          "height": 404
        },
        "id": "9K5E9pOKBLPr"
      },
      "execution_count": null,
      "outputs": [
        {
          "output_type": "display_data",
          "data": {
            "text/plain": [
              "<Figure size 432x432 with 1 Axes>"
            ],
            "image/png": "[encoded data removed]"
          },
          "metadata": {}
        }
      ]
    },
    {
      "cell_type": "code",
      "source": [
        "a = df4.groupby('Year')['FKG'].describe()\n",
        "a.to_csv('FKG_summary_by_Year.csv')"
      ],
      "metadata": {
        "id": "2lLNtIuOD3HH"
      },
      "execution_count": null,
      "outputs": []
    },
    {
      "cell_type": "code",
      "source": [
        "b = df4.groupby('Year')['FRE'].describe()\n",
        "b.to_csv('FRE_summary_by_Year.csv')"
      ],
      "metadata": {
        "id": "q_2-XpqlEHAP"
      },
      "execution_count": null,
      "outputs": []
    },
    {
      "cell_type": "code",
      "source": [
        "b1 = df4.describe()\n",
        "b1.to_csv('Readability_summary_total.csv')\n"
      ],
      "metadata": {
        "id": "DT28eaT1E8GW"
      },
      "execution_count": null,
      "outputs": []
    },
    {
      "cell_type": "markdown",
      "source": [
        "# Getting individual numbers for the paper "
      ],
      "metadata": {
        "id": "22SigU7BTQ-D"
      }
    },
    {
      "cell_type": "code",
      "source": [
        "b2 = df4[15 <= df3['GF']]\n",
        "b2.shape"
      ],
      "metadata": {
        "id": "VKFuC4pvC8kS",
        "outputId": "f954623a-a56a-4412-8496-eedf22e05e67",
        "colab": {
          "base_uri": "https://localhost:8080/"
        }
      },
      "execution_count": null,
      "outputs": [
        {
          "output_type": "execute_result",
          "data": {
            "text/plain": [
              "(38, 10)"
            ]
          },
          "metadata": {},
          "execution_count": 80
        }
      ]
    },
    {
      "cell_type": "code",
      "source": [
        "38/136"
      ],
      "metadata": {
        "id": "F9nWieacDHGg",
        "outputId": "17c42070-a786-4df1-b996-3f1a253703e4",
        "colab": {
          "base_uri": "https://localhost:8080/"
        }
      },
      "execution_count": null,
      "outputs": [
        {
          "output_type": "execute_result",
          "data": {
            "text/plain": [
              "0.27941176470588236"
            ]
          },
          "metadata": {},
          "execution_count": 81
        }
      ]
    },
    {
      "cell_type": "code",
      "source": [
        "a1 = df4[10 <= df3['DCRS']]\n",
        "a1.shape"
      ],
      "metadata": {
        "colab": {
          "base_uri": "https://localhost:8080/"
        },
        "id": "D-C7324bBLAc",
        "outputId": "56658154-0041-4bdb-ff0c-81c12355bf8c"
      },
      "execution_count": null,
      "outputs": [
        {
          "output_type": "execute_result",
          "data": {
            "text/plain": [
              "(31, 10)"
            ]
          },
          "metadata": {},
          "execution_count": 49
        }
      ]
    },
    {
      "cell_type": "code",
      "source": [
        "31/136"
      ],
      "metadata": {
        "id": "HuM3veFoTwRs",
        "outputId": "f9d6ff59-9044-496d-e0a6-bdbfe0e7b0f1",
        "colab": {
          "base_uri": "https://localhost:8080/"
        }
      },
      "execution_count": null,
      "outputs": [
        {
          "output_type": "execute_result",
          "data": {
            "text/plain": [
              "0.22794117647058823"
            ]
          },
          "metadata": {},
          "execution_count": 50
        }
      ]
    },
    {
      "cell_type": "code",
      "source": [
        "sns.set(rc={'figure.figsize':(12,6),\"font.size\":40,\"axes.titlesize\":20,\"axes.labelsize\":20},style=\"white\") # font size doesn't work\n",
        "sns.scatterplot(data=df4, x=\"QN\", y=\"DCRS\")\n",
        "ax = sns.rugplot(data=df4, x=\"QN\", y=\"DCRS\", height=.1) \n",
        "ax.set_ylim([5,13])\n",
        "# ax.set_xlim([2014,2023])\n",
        "ax.set(xlabel='Question Number', ylabel='Dale-Chall Reading Score')\n",
        "ax.axhline(10, color=\"red\")\n",
        "ax.axhline(9, color=\"blue\")\n",
        "# ax.axhline(6, color=\"gray\")\n",
        "# ax.axhline(60)\n",
        "# ax.axhline(70)\n",
        "# ax.axhline(80)\n",
        "# plt.text(8, 50, \"An annotation\", horizontalalignment='left', size='medium', color='black', weight='semibold')\n",
        "plt.savefig('Rug_DCRS_byQN.png') "
      ],
      "metadata": {
        "id": "2Wlwq4kEVcWC",
        "outputId": "06ebc7dd-0955-4e71-a925-997631fe77f7",
        "colab": {
          "base_uri": "https://localhost:8080/",
          "height": 404
        }
      },
      "execution_count": null,
      "outputs": [
        {
          "output_type": "display_data",
          "data": {
            "text/plain": [
              "<Figure size 864x432 with 1 Axes>"
            ],
            "image/png": "[encoded data removed]"
          },
          "metadata": {}
        }
      ]
    },
    {
      "cell_type": "code",
      "source": [
        "a2 = df4[10 <= df3['DCRS']]\n",
        "a2.shape"
      ],
      "metadata": {
        "id": "aoWS4kGcTQYZ",
        "outputId": "3e02fcad-f592-4fb8-fc66-80db955d06ed",
        "colab": {
          "base_uri": "https://localhost:8080/"
        }
      },
      "execution_count": null,
      "outputs": [
        {
          "output_type": "execute_result",
          "data": {
            "text/plain": [
              "(31, 10)"
            ]
          },
          "metadata": {},
          "execution_count": 52
        }
      ]
    },
    {
      "cell_type": "code",
      "source": [
        "74/136"
      ],
      "metadata": {
        "id": "8ayoMR4SY7qc",
        "outputId": "98ce32f5-8570-422c-cceb-4ae0448ba8fd",
        "colab": {
          "base_uri": "https://localhost:8080/"
        }
      },
      "execution_count": null,
      "outputs": [
        {
          "output_type": "execute_result",
          "data": {
            "text/plain": [
              "0.5441176470588235"
            ]
          },
          "metadata": {},
          "execution_count": 53
        }
      ]
    },
    {
      "cell_type": "markdown",
      "source": [
        "# Pie chart of readability indices"
      ],
      "metadata": {
        "id": "91_TbAgua5SX"
      }
    },
    {
      "cell_type": "code",
      "source": [
        "import matplotlib.pyplot as plt\n",
        "import seaborn\n",
        "\n",
        "sns.set(rc={'figure.figsize':(6,6),\"font.size\":20,\"axes.titlesize\":20,\"axes.labelsize\":30},style=\"white\") # font size doesn't work  \n",
        "# declaring data\n",
        "data = [44, 45, 40, 41, 39]\n",
        "keys = ['Class 1', 'Class 2', 'CLass 3', 'Class 4', 'Class 5']\n",
        "  \n",
        "# declaring exploding pie\n",
        "explode = [0, 0.1, 0, 0, 0]\n",
        "# define Seaborn color palette to use\n",
        "palette_color = seaborn.color_palette(\"Set2\")\n",
        "  \n",
        "# plotting data on chart\n",
        "plt.pie(data, labels=keys, colors=palette_color,\n",
        "        explode=explode, autopct='%.0f%%')\n",
        "  \n",
        "# displaying chart\n",
        "plt.show()"
      ],
      "metadata": {
        "colab": {
          "base_uri": "https://localhost:8080/",
          "height": 357
        },
        "id": "PWEW48Fta4ng",
        "outputId": "aadc480d-7e37-4813-fe44-f60a62cf3d21"
      },
      "execution_count": null,
      "outputs": [
        {
          "output_type": "display_data",
          "data": {
            "text/plain": [
              "<Figure size 432x432 with 1 Axes>"
            ],
            "image/png": "[encoded data removed]"
          },
          "metadata": {}
        }
      ]
    },
    {
      "cell_type": "markdown",
      "source": [
        "## Data cut (categorize)"
      ],
      "metadata": {
        "id": "o9kl1cOOg58v"
      }
    },
    {
      "cell_type": "code",
      "source": [
        "import pandas as pd"
      ],
      "metadata": {
        "id": "Qf9A_f4oig0s"
      },
      "execution_count": null,
      "outputs": []
    },
    {
      "cell_type": "code",
      "source": [
        "df4.head()"
      ],
      "metadata": {
        "id": "pwFTuRDvimt8",
        "outputId": "de5f0468-7c9f-41b2-acd1-7097b102f5ec",
        "colab": {
          "base_uri": "https://localhost:8080/",
          "height": 206
        }
      },
      "execution_count": null,
      "outputs": [
        {
          "output_type": "execute_result",
          "data": {
            "text/plain": [
              "   Year   QN  N_Splits  N_Sents       TTR        MTLD    FRE   FKG     GF  \\\n",
              "0  2015  Q18       107        8  0.728972  110.542069  74.79   6.2   8.72   \n",
              "1  2015  Q19       123       10  0.666667   62.363391  84.37   4.5   6.87   \n",
              "2  2015  Q20       117        6  0.623932   53.164604  51.68  10.9  13.95   \n",
              "3  2015  Q21       128        6  0.703125  112.313725  66.78   9.2  12.90   \n",
              "4  2015  Q22       128        6  0.703125  112.313725  66.78   9.2  12.90   \n",
              "\n",
              "   DCRS  \n",
              "0  8.73  \n",
              "1  6.94  \n",
              "2  9.60  \n",
              "3  8.89  \n",
              "4  8.89  "
            ],
            "text/html": [
              "\n",
              "  <div id=\"df-5e3ff4b2-4257-4fe4-9498-be44c9f75ab7\">\n",
              "    <div class=\"colab-df-container\">\n",
              "      <div>\n",
              "<style scoped>\n",
              "    .dataframe tbody tr th:only-of-type {\n",
              "        vertical-align: middle;\n",
              "    }\n",
              "\n",
              "    .dataframe tbody tr th {\n",
              "        vertical-align: top;\n",
              "    }\n",
              "\n",
              "    .dataframe thead th {\n",
              "        text-align: right;\n",
              "    }\n",
              "</style>\n",
              "<table border=\"1\" class=\"dataframe\">\n",
              "  <thead>\n",
              "    <tr style=\"text-align: right;\">\n",
              "      <th></th>\n",
              "      <th>Year</th>\n",
              "      <th>QN</th>\n",
              "      <th>N_Splits</th>\n",
              "      <th>N_Sents</th>\n",
              "      <th>TTR</th>\n",
              "      <th>MTLD</th>\n",
              "      <th>FRE</th>\n",
              "      <th>FKG</th>\n",
              "      <th>GF</th>\n",
              "      <th>DCRS</th>\n",
              "    </tr>\n",
              "  </thead>\n",
              "  <tbody>\n",
              "    <tr>\n",
              "      <th>0</th>\n",
              "      <td>2015</td>\n",
              "      <td>Q18</td>\n",
              "      <td>107</td>\n",
              "      <td>8</td>\n",
              "      <td>0.728972</td>\n",
              "      <td>110.542069</td>\n",
              "      <td>74.79</td>\n",
              "      <td>6.2</td>\n",
              "      <td>8.72</td>\n",
              "      <td>8.73</td>\n",
              "    </tr>\n",
              "    <tr>\n",
              "      <th>1</th>\n",
              "      <td>2015</td>\n",
              "      <td>Q19</td>\n",
              "      <td>123</td>\n",
              "      <td>10</td>\n",
              "      <td>0.666667</td>\n",
              "      <td>62.363391</td>\n",
              "      <td>84.37</td>\n",
              "      <td>4.5</td>\n",
              "      <td>6.87</td>\n",
              "      <td>6.94</td>\n",
              "    </tr>\n",
              "    <tr>\n",
              "      <th>2</th>\n",
              "      <td>2015</td>\n",
              "      <td>Q20</td>\n",
              "      <td>117</td>\n",
              "      <td>6</td>\n",
              "      <td>0.623932</td>\n",
              "      <td>53.164604</td>\n",
              "      <td>51.68</td>\n",
              "      <td>10.9</td>\n",
              "      <td>13.95</td>\n",
              "      <td>9.60</td>\n",
              "    </tr>\n",
              "    <tr>\n",
              "      <th>3</th>\n",
              "      <td>2015</td>\n",
              "      <td>Q21</td>\n",
              "      <td>128</td>\n",
              "      <td>6</td>\n",
              "      <td>0.703125</td>\n",
              "      <td>112.313725</td>\n",
              "      <td>66.78</td>\n",
              "      <td>9.2</td>\n",
              "      <td>12.90</td>\n",
              "      <td>8.89</td>\n",
              "    </tr>\n",
              "    <tr>\n",
              "      <th>4</th>\n",
              "      <td>2015</td>\n",
              "      <td>Q22</td>\n",
              "      <td>128</td>\n",
              "      <td>6</td>\n",
              "      <td>0.703125</td>\n",
              "      <td>112.313725</td>\n",
              "      <td>66.78</td>\n",
              "      <td>9.2</td>\n",
              "      <td>12.90</td>\n",
              "      <td>8.89</td>\n",
              "    </tr>\n",
              "  </tbody>\n",
              "</table>\n",
              "</div>\n",
              "      <button class=\"colab-df-convert\" onclick=\"convertToInteractive('df-5e3ff4b2-4257-4fe4-9498-be44c9f75ab7')\"\n",
              "              title=\"Convert this dataframe to an interactive table.\"\n",
              "              style=\"display:none;\">\n",
              "        \n",
              "  <svg xmlns=\"http://www.w3.org/2000/svg\" height=\"24px\"viewBox=\"0 0 24 24\"\n",
              "       width=\"24px\">\n",
              "    <path d=\"M0 0h24v24H0V0z\" fill=\"none\"/>\n",
              "    <path d=\"M18.56 5.44l.94 2.06.94-2.06 2.06-.94-2.06-.94-.94-2.06-.94 2.06-2.06.94zm-11 1L8.5 8.5l.94-2.06 2.06-.94-2.06-.94L8.5 2.5l-.94 2.06-2.06.94zm10 10l.94 2.06.94-2.06 2.06-.94-2.06-.94-.94-2.06-.94 2.06-2.06.94z\"/><path d=\"M17.41 7.96l-1.37-1.37c-.4-.4-.92-.59-1.43-.59-.52 0-1.04.2-1.43.59L10.3 9.45l-7.72 7.72c-.78.78-.78 2.05 0 2.83L4 21.41c.39.39.9.59 1.41.59.51 0 1.02-.2 1.41-.59l7.78-7.78 2.81-2.81c.8-.78.8-2.07 0-2.86zM5.41 20L4 18.59l7.72-7.72 1.47 1.35L5.41 20z\"/>\n",
              "  </svg>\n",
              "      </button>\n",
              "      \n",
              "  <style>\n",
              "    .colab-df-container {\n",
              "      display:flex;\n",
              "      flex-wrap:wrap;\n",
              "      gap: 12px;\n",
              "    }\n",
              "\n",
              "    .colab-df-convert {\n",
              "      background-color: #E8F0FE;\n",
              "      border: none;\n",
              "      border-radius: 50%;\n",
              "      cursor: pointer;\n",
              "      display: none;\n",
              "      fill: #1967D2;\n",
              "      height: 32px;\n",
              "      padding: 0 0 0 0;\n",
              "      width: 32px;\n",
              "    }\n",
              "\n",
              "    .colab-df-convert:hover {\n",
              "      background-color: #E2EBFA;\n",
              "      box-shadow: 0px 1px 2px rgba(60, 64, 67, 0.3), 0px 1px 3px 1px rgba(60, 64, 67, 0.15);\n",
              "      fill: #174EA6;\n",
              "    }\n",
              "\n",
              "    [theme=dark] .colab-df-convert {\n",
              "      background-color: #3B4455;\n",
              "      fill: #D2E3FC;\n",
              "    }\n",
              "\n",
              "    [theme=dark] .colab-df-convert:hover {\n",
              "      background-color: #434B5C;\n",
              "      box-shadow: 0px 1px 3px 1px rgba(0, 0, 0, 0.15);\n",
              "      filter: drop-shadow(0px 1px 2px rgba(0, 0, 0, 0.3));\n",
              "      fill: #FFFFFF;\n",
              "    }\n",
              "  </style>\n",
              "\n",
              "      <script>\n",
              "        const buttonEl =\n",
              "          document.querySelector('#df-5e3ff4b2-4257-4fe4-9498-be44c9f75ab7 button.colab-df-convert');\n",
              "        buttonEl.style.display =\n",
              "          google.colab.kernel.accessAllowed ? 'block' : 'none';\n",
              "\n",
              "        async function convertToInteractive(key) {\n",
              "          const element = document.querySelector('#df-5e3ff4b2-4257-4fe4-9498-be44c9f75ab7');\n",
              "          const dataTable =\n",
              "            await google.colab.kernel.invokeFunction('convertToInteractive',\n",
              "                                                     [key], {});\n",
              "          if (!dataTable) return;\n",
              "\n",
              "          const docLinkHtml = 'Like what you see? Visit the ' +\n",
              "            '<a target=\"_blank\" href=https://colab.research.google.com/notebooks/data_table.ipynb>data table notebook</a>'\n",
              "            + ' to learn more about interactive tables.';\n",
              "          element.innerHTML = '';\n",
              "          dataTable['output_type'] = 'display_data';\n",
              "          await google.colab.output.renderOutput(dataTable, element);\n",
              "          const docLink = document.createElement('div');\n",
              "          docLink.innerHTML = docLinkHtml;\n",
              "          element.appendChild(docLink);\n",
              "        }\n",
              "      </script>\n",
              "    </div>\n",
              "  </div>\n",
              "  "
            ]
          },
          "metadata": {},
          "execution_count": 56
        }
      ]
    },
    {
      "cell_type": "code",
      "source": [
        "## pd.cut: how to use\n",
        "\n",
        "b1 = pd.cut(df4['FRE'], bins=[0, 30, 50, 60,1000], include_lowest=True, labels=['Very difficult', 'Difficult', 'Appropriate',\"East\"])\n",
        "\n",
        "count = b1.value_counts()\n",
        "print(count)"
      ],
      "metadata": {
        "id": "nxunGBulcWJE",
        "outputId": "5f164073-4824-441e-9e77-d6230d383d40",
        "colab": {
          "base_uri": "https://localhost:8080/"
        }
      },
      "execution_count": null,
      "outputs": [
        {
          "output_type": "stream",
          "name": "stdout",
          "text": [
            "Difficult         47\n",
            "East              40\n",
            "Appropriate       31\n",
            "Very difficult    18\n",
            "Name: FRE, dtype: int64\n"
          ]
        }
      ]
    },
    {
      "cell_type": "code",
      "source": [
        "## pd.cut: how to use\n",
        "\n",
        "b1 = pd.cut(df4['GF'], bins=[0, 9, 13, 16,20], include_lowest=True, labels=[\"Easy\", 'Appropriate', 'Difficult', 'Very difficult'])\n",
        "\n",
        "count = b1.value_counts()\n",
        "print(count)"
      ],
      "metadata": {
        "id": "UQD2Ba-xkJGd",
        "outputId": "fdb3ebcc-4cd3-49bb-f9f0-1d4a3e3afba2",
        "colab": {
          "base_uri": "https://localhost:8080/"
        }
      },
      "execution_count": null,
      "outputs": [
        {
          "output_type": "stream",
          "name": "stdout",
          "text": [
            "Appropriate       47\n",
            "Difficult         45\n",
            "Very difficult    21\n",
            "Easy              17\n",
            "Name: GF, dtype: int64\n"
          ]
        }
      ]
    },
    {
      "cell_type": "code",
      "source": [
        "## pd.cut: how to use\n",
        "\n",
        "b1 = pd.cut(df4['DCRS'], bins=[0, 7, 8, 9, 10], include_lowest=True, labels=[\"Easy\", 'Appropriate', 'Difficult', 'Very difficult'])\n",
        "\n",
        "count = b1.value_counts()\n",
        "print(count)"
      ],
      "metadata": {
        "id": "EdUrWJeAlBqf",
        "outputId": "59296ae2-1085-43a5-ef8a-ec0970478982",
        "colab": {
          "base_uri": "https://localhost:8080/"
        }
      },
      "execution_count": null,
      "outputs": [
        {
          "output_type": "stream",
          "name": "stdout",
          "text": [
            "Very difficult    44\n",
            "Difficult         41\n",
            "Appropriate       15\n",
            "Easy               6\n",
            "Name: DCRS, dtype: int64\n"
          ]
        }
      ]
    },
    {
      "cell_type": "code",
      "source": [
        "b1"
      ],
      "metadata": {
        "id": "eG9R4oC-iwNm",
        "outputId": "96e551f8-0423-4055-c904-76f6ad0c9146",
        "colab": {
          "base_uri": "https://localhost:8080/"
        }
      },
      "execution_count": null,
      "outputs": [
        {
          "output_type": "execute_result",
          "data": {
            "text/plain": [
              "0           Difficult\n",
              "1                Easy\n",
              "2      Very difficult\n",
              "3           Difficult\n",
              "4           Difficult\n",
              "            ...      \n",
              "131    Very difficult\n",
              "132    Very difficult\n",
              "133    Very difficult\n",
              "134         Difficult\n",
              "135    Very difficult\n",
              "Name: DCRS, Length: 136, dtype: category\n",
              "Categories (4, object): ['Easy' < 'Appropriate' < 'Difficult' < 'Very difficult']"
            ]
          },
          "metadata": {},
          "execution_count": 60
        }
      ]
    },
    {
      "cell_type": "code",
      "source": [],
      "metadata": {
        "id": "sdN0a6wNieKY"
      },
      "execution_count": null,
      "outputs": []
    },
    {
      "cell_type": "markdown",
      "source": [
        "==========================="
      ],
      "metadata": {
        "id": "wMHZn-5_iwwP"
      }
    },
    {
      "cell_type": "markdown",
      "source": [
        "[1] FRE pie chart"
      ],
      "metadata": {
        "id": "S_WexJS-l27k"
      }
    },
    {
      "cell_type": "code",
      "source": [
        "import matplotlib.pyplot as plt\n",
        "import seaborn\n",
        "\n",
        "sns.set(rc={'figure.figsize':(6,6),\"font.size\":20,\"axes.titlesize\":20,\"axes.labelsize\":30},style=\"white\") # font size doesn't work  \n",
        "\n",
        "# declaring data\n",
        "data = [18, 47, 31, 40]\n",
        "keys = ['Very difficult', 'Difficult','Appropriate','Easy']\n",
        "# declaring exploding pie\n",
        "explode = [0.1, 0, 0, 0]\n",
        "# define Seaborn color palette to use\n",
        "palette_color = seaborn.color_palette(\"Set2\")\n",
        "  \n",
        "# plotting data on chart\n",
        "plt.pie(data, labels=keys, colors=palette_color,\n",
        "        explode=explode, autopct='%.0f%%')\n",
        "\n",
        "# displaying chart\n",
        "ax.set_title(\"Flesch Reading Ease\")\n",
        "\n",
        "plt.savefig('Pie_FRE.png') \n",
        "plt.show()"
      ],
      "metadata": {
        "outputId": "b4911aa5-587a-47b7-f217-d977aa58ac7d",
        "colab": {
          "base_uri": "https://localhost:8080/",
          "height": 357
        },
        "id": "XntfBV_EcWT0"
      },
      "execution_count": null,
      "outputs": [
        {
          "output_type": "display_data",
          "data": {
            "text/plain": [
              "<Figure size 432x432 with 1 Axes>"
            ],
            "image/png": "[encoded data removed]"
          },
          "metadata": {}
        }
      ]
    },
    {
      "cell_type": "code",
      "source": [],
      "metadata": {
        "id": "GWT78a6_n78b"
      },
      "execution_count": null,
      "outputs": []
    },
    {
      "cell_type": "markdown",
      "source": [
        "[2] Gunning-Fog pie"
      ],
      "metadata": {
        "id": "5rzu3Znyn9F9"
      }
    },
    {
      "cell_type": "code",
      "source": [
        "import matplotlib.pyplot as plt\n",
        "import seaborn\n",
        "\n",
        "sns.set(rc={'figure.figsize':(6,6),\"font.size\":20,\"axes.titlesize\":20,\"axes.labelsize\":30},style=\"white\") # font size doesn't work  \n",
        "\n",
        "# declaring data\n",
        "data = [21, 45, 47, 17]\n",
        "keys = ['Very difficult', 'Difficult','Appropriate','Easy']\n",
        "# declaring exploding pie\n",
        "explode = [0.1, 0, 0, 0]\n",
        "# define Seaborn color palette to use\n",
        "palette_color = seaborn.color_palette(\"Set2\")\n",
        "  \n",
        "# plotting data on chart\n",
        "plt.pie(data, labels=keys, colors=palette_color,\n",
        "        explode=explode, autopct='%.0f%%')\n",
        "\n",
        "# displaying chart\n",
        "ax.set_title(\"Gunning-Fog\")\n",
        "\n",
        "plt.savefig('Pie_GF.png') \n",
        "plt.show()"
      ],
      "metadata": {
        "outputId": "82ef38e7-b278-4698-9dd4-a59351335868",
        "colab": {
          "base_uri": "https://localhost:8080/",
          "height": 357
        },
        "id": "rUwAcnMun8K5"
      },
      "execution_count": null,
      "outputs": [
        {
          "output_type": "display_data",
          "data": {
            "text/plain": [
              "<Figure size 432x432 with 1 Axes>"
            ],
            "image/png": "[encoded data removed]"
          },
          "metadata": {}
        }
      ]
    },
    {
      "cell_type": "code",
      "source": [],
      "metadata": {
        "id": "QVEeEcJGoNYh"
      },
      "execution_count": null,
      "outputs": []
    },
    {
      "cell_type": "markdown",
      "source": [
        "[3] Dale-Chall pie"
      ],
      "metadata": {
        "id": "SDpFAHW9oNjg"
      }
    },
    {
      "cell_type": "code",
      "source": [
        "import matplotlib.pyplot as plt\n",
        "import seaborn\n",
        "\n",
        "sns.set(rc={'figure.figsize':(6,6),\"font.size\":20,\"axes.titlesize\":20,\"axes.labelsize\":30},style=\"white\") # font size doesn't work  \n",
        "\n",
        "# declaring data\n",
        "data = [44, 41, 15, 6]\n",
        "keys = ['Very difficult', 'Difficult','Appropriate','Easy']\n",
        "# declaring exploding pie\n",
        "explode = [0.1, 0, 0, 0]\n",
        "# define Seaborn color palette to use\n",
        "palette_color = seaborn.color_palette(\"Set2\")\n",
        "  \n",
        "# plotting data on chart\n",
        "plt.pie(data, labels=keys, colors=palette_color,\n",
        "        explode=explode, autopct='%.0f%%')\n",
        "\n",
        "# displaying chart\n",
        "ax.set_title(\"Dale-Chall\")\n",
        "\n",
        "plt.savefig('Pie_DC.png') \n",
        "plt.show()"
      ],
      "metadata": {
        "outputId": "808cb47b-ef24-4768-83be-497fc7e6835c",
        "colab": {
          "base_uri": "https://localhost:8080/",
          "height": 357
        },
        "id": "0TvK_EWwoNjh"
      },
      "execution_count": null,
      "outputs": [
        {
          "output_type": "display_data",
          "data": {
            "text/plain": [
              "<Figure size 432x432 with 1 Axes>"
            ],
            "image/png": "[encoded data removed]"
          },
          "metadata": {}
        }
      ]
    },
    {
      "cell_type": "markdown",
      "source": [
        "# Statistic analysis for the data"
      ],
      "metadata": {
        "id": "UnZ6K37B3QSU"
      }
    },
    {
      "cell_type": "code",
      "source": [
        "df5 = df3[['Year','QN','N_Splits','N_Sents','TTR','MATTR','MTLD','HDD','FRE','FKG','GF','DCRS']]\n",
        "df5.head()"
      ],
      "metadata": {
        "id": "ly6YW9Io3Yd6",
        "outputId": "a3347a65-c413-492e-ecaa-e031601cbe0e",
        "colab": {
          "base_uri": "https://localhost:8080/",
          "height": 206
        }
      },
      "execution_count": null,
      "outputs": [
        {
          "output_type": "execute_result",
          "data": {
            "text/plain": [
              "   Year   QN  N_Splits  N_Sents       TTR     MATTR        MTLD       HDD  \\\n",
              "0  2015  Q18       107        8  0.728972  0.794828  110.542069  0.841506   \n",
              "1  2015  Q19       123       10  0.666667  0.795405   62.363391  0.824749   \n",
              "2  2015  Q20       117        6  0.623932  0.758529   53.164604  0.776571   \n",
              "3  2015  Q21       128        6  0.703125  0.813165  112.313725  0.848132   \n",
              "4  2015  Q22       128        6  0.703125  0.813165  112.313725  0.848132   \n",
              "\n",
              "     FRE   FKG     GF  DCRS  \n",
              "0  74.79   6.2   8.72  8.73  \n",
              "1  84.37   4.5   6.87  6.94  \n",
              "2  51.68  10.9  13.95  9.60  \n",
              "3  66.78   9.2  12.90  8.89  \n",
              "4  66.78   9.2  12.90  8.89  "
            ],
            "text/html": [
              "\n",
              "  <div id=\"df-4a23e66b-6c5a-49f8-8afc-d197a9cae8e7\">\n",
              "    <div class=\"colab-df-container\">\n",
              "      <div>\n",
              "<style scoped>\n",
              "    .dataframe tbody tr th:only-of-type {\n",
              "        vertical-align: middle;\n",
              "    }\n",
              "\n",
              "    .dataframe tbody tr th {\n",
              "        vertical-align: top;\n",
              "    }\n",
              "\n",
              "    .dataframe thead th {\n",
              "        text-align: right;\n",
              "    }\n",
              "</style>\n",
              "<table border=\"1\" class=\"dataframe\">\n",
              "  <thead>\n",
              "    <tr style=\"text-align: right;\">\n",
              "      <th></th>\n",
              "      <th>Year</th>\n",
              "      <th>QN</th>\n",
              "      <th>N_Splits</th>\n",
              "      <th>N_Sents</th>\n",
              "      <th>TTR</th>\n",
              "      <th>MATTR</th>\n",
              "      <th>MTLD</th>\n",
              "      <th>HDD</th>\n",
              "      <th>FRE</th>\n",
              "      <th>FKG</th>\n",
              "      <th>GF</th>\n",
              "      <th>DCRS</th>\n",
              "    </tr>\n",
              "  </thead>\n",
              "  <tbody>\n",
              "    <tr>\n",
              "      <th>0</th>\n",
              "      <td>2015</td>\n",
              "      <td>Q18</td>\n",
              "      <td>107</td>\n",
              "      <td>8</td>\n",
              "      <td>0.728972</td>\n",
              "      <td>0.794828</td>\n",
              "      <td>110.542069</td>\n",
              "      <td>0.841506</td>\n",
              "      <td>74.79</td>\n",
              "      <td>6.2</td>\n",
              "      <td>8.72</td>\n",
              "      <td>8.73</td>\n",
              "    </tr>\n",
              "    <tr>\n",
              "      <th>1</th>\n",
              "      <td>2015</td>\n",
              "      <td>Q19</td>\n",
              "      <td>123</td>\n",
              "      <td>10</td>\n",
              "      <td>0.666667</td>\n",
              "      <td>0.795405</td>\n",
              "      <td>62.363391</td>\n",
              "      <td>0.824749</td>\n",
              "      <td>84.37</td>\n",
              "      <td>4.5</td>\n",
              "      <td>6.87</td>\n",
              "      <td>6.94</td>\n",
              "    </tr>\n",
              "    <tr>\n",
              "      <th>2</th>\n",
              "      <td>2015</td>\n",
              "      <td>Q20</td>\n",
              "      <td>117</td>\n",
              "      <td>6</td>\n",
              "      <td>0.623932</td>\n",
              "      <td>0.758529</td>\n",
              "      <td>53.164604</td>\n",
              "      <td>0.776571</td>\n",
              "      <td>51.68</td>\n",
              "      <td>10.9</td>\n",
              "      <td>13.95</td>\n",
              "      <td>9.60</td>\n",
              "    </tr>\n",
              "    <tr>\n",
              "      <th>3</th>\n",
              "      <td>2015</td>\n",
              "      <td>Q21</td>\n",
              "      <td>128</td>\n",
              "      <td>6</td>\n",
              "      <td>0.703125</td>\n",
              "      <td>0.813165</td>\n",
              "      <td>112.313725</td>\n",
              "      <td>0.848132</td>\n",
              "      <td>66.78</td>\n",
              "      <td>9.2</td>\n",
              "      <td>12.90</td>\n",
              "      <td>8.89</td>\n",
              "    </tr>\n",
              "    <tr>\n",
              "      <th>4</th>\n",
              "      <td>2015</td>\n",
              "      <td>Q22</td>\n",
              "      <td>128</td>\n",
              "      <td>6</td>\n",
              "      <td>0.703125</td>\n",
              "      <td>0.813165</td>\n",
              "      <td>112.313725</td>\n",
              "      <td>0.848132</td>\n",
              "      <td>66.78</td>\n",
              "      <td>9.2</td>\n",
              "      <td>12.90</td>\n",
              "      <td>8.89</td>\n",
              "    </tr>\n",
              "  </tbody>\n",
              "</table>\n",
              "</div>\n",
              "      <button class=\"colab-df-convert\" onclick=\"convertToInteractive('df-4a23e66b-6c5a-49f8-8afc-d197a9cae8e7')\"\n",
              "              title=\"Convert this dataframe to an interactive table.\"\n",
              "              style=\"display:none;\">\n",
              "        \n",
              "  <svg xmlns=\"http://www.w3.org/2000/svg\" height=\"24px\"viewBox=\"0 0 24 24\"\n",
              "       width=\"24px\">\n",
              "    <path d=\"M0 0h24v24H0V0z\" fill=\"none\"/>\n",
              "    <path d=\"M18.56 5.44l.94 2.06.94-2.06 2.06-.94-2.06-.94-.94-2.06-.94 2.06-2.06.94zm-11 1L8.5 8.5l.94-2.06 2.06-.94-2.06-.94L8.5 2.5l-.94 2.06-2.06.94zm10 10l.94 2.06.94-2.06 2.06-.94-2.06-.94-.94-2.06-.94 2.06-2.06.94z\"/><path d=\"M17.41 7.96l-1.37-1.37c-.4-.4-.92-.59-1.43-.59-.52 0-1.04.2-1.43.59L10.3 9.45l-7.72 7.72c-.78.78-.78 2.05 0 2.83L4 21.41c.39.39.9.59 1.41.59.51 0 1.02-.2 1.41-.59l7.78-7.78 2.81-2.81c.8-.78.8-2.07 0-2.86zM5.41 20L4 18.59l7.72-7.72 1.47 1.35L5.41 20z\"/>\n",
              "  </svg>\n",
              "      </button>\n",
              "      \n",
              "  <style>\n",
              "    .colab-df-container {\n",
              "      display:flex;\n",
              "      flex-wrap:wrap;\n",
              "      gap: 12px;\n",
              "    }\n",
              "\n",
              "    .colab-df-convert {\n",
              "      background-color: #E8F0FE;\n",
              "      border: none;\n",
              "      border-radius: 50%;\n",
              "      cursor: pointer;\n",
              "      display: none;\n",
              "      fill: #1967D2;\n",
              "      height: 32px;\n",
              "      padding: 0 0 0 0;\n",
              "      width: 32px;\n",
              "    }\n",
              "\n",
              "    .colab-df-convert:hover {\n",
              "      background-color: #E2EBFA;\n",
              "      box-shadow: 0px 1px 2px rgba(60, 64, 67, 0.3), 0px 1px 3px 1px rgba(60, 64, 67, 0.15);\n",
              "      fill: #174EA6;\n",
              "    }\n",
              "\n",
              "    [theme=dark] .colab-df-convert {\n",
              "      background-color: #3B4455;\n",
              "      fill: #D2E3FC;\n",
              "    }\n",
              "\n",
              "    [theme=dark] .colab-df-convert:hover {\n",
              "      background-color: #434B5C;\n",
              "      box-shadow: 0px 1px 3px 1px rgba(0, 0, 0, 0.15);\n",
              "      filter: drop-shadow(0px 1px 2px rgba(0, 0, 0, 0.3));\n",
              "      fill: #FFFFFF;\n",
              "    }\n",
              "  </style>\n",
              "\n",
              "      <script>\n",
              "        const buttonEl =\n",
              "          document.querySelector('#df-4a23e66b-6c5a-49f8-8afc-d197a9cae8e7 button.colab-df-convert');\n",
              "        buttonEl.style.display =\n",
              "          google.colab.kernel.accessAllowed ? 'block' : 'none';\n",
              "\n",
              "        async function convertToInteractive(key) {\n",
              "          const element = document.querySelector('#df-4a23e66b-6c5a-49f8-8afc-d197a9cae8e7');\n",
              "          const dataTable =\n",
              "            await google.colab.kernel.invokeFunction('convertToInteractive',\n",
              "                                                     [key], {});\n",
              "          if (!dataTable) return;\n",
              "\n",
              "          const docLinkHtml = 'Like what you see? Visit the ' +\n",
              "            '<a target=\"_blank\" href=https://colab.research.google.com/notebooks/data_table.ipynb>data table notebook</a>'\n",
              "            + ' to learn more about interactive tables.';\n",
              "          element.innerHTML = '';\n",
              "          dataTable['output_type'] = 'display_data';\n",
              "          await google.colab.output.renderOutput(dataTable, element);\n",
              "          const docLink = document.createElement('div');\n",
              "          docLink.innerHTML = docLinkHtml;\n",
              "          element.appendChild(docLink);\n",
              "        }\n",
              "      </script>\n",
              "    </div>\n",
              "  </div>\n",
              "  "
            ]
          },
          "metadata": {},
          "execution_count": 71
        }
      ]
    },
    {
      "cell_type": "code",
      "source": [
        "ld = df5[['TTR','MATTR','MTLD','HDD']]"
      ],
      "metadata": {
        "id": "XMq0Xdkk4OWj"
      },
      "execution_count": null,
      "outputs": []
    },
    {
      "cell_type": "code",
      "source": [
        "corrMatrix = ld.corr()\n",
        "corrMatrix"
      ],
      "metadata": {
        "id": "O5DjwMno4a1Z",
        "outputId": "3c9b3c1c-852e-428c-f453-ed7e1c1046e1",
        "colab": {
          "base_uri": "https://localhost:8080/",
          "height": 191
        }
      },
      "execution_count": null,
      "outputs": [
        {
          "output_type": "execute_result",
          "data": {
            "text/plain": [
              "            TTR     MATTR      MTLD       HDD\n",
              "TTR    1.000000  0.745764  0.769432  0.837011\n",
              "MATTR  0.745764  1.000000  0.818469  0.896942\n",
              "MTLD   0.769432  0.818469  1.000000  0.857670\n",
              "HDD    0.837011  0.896942  0.857670  1.000000"
            ],
            "text/html": [
              "\n",
              "  <div id=\"df-624a7ec7-2e8b-4111-9981-855fecdd55c1\">\n",
              "    <div class=\"colab-df-container\">\n",
              "      <div>\n",
              "<style scoped>\n",
              "    .dataframe tbody tr th:only-of-type {\n",
              "        vertical-align: middle;\n",
              "    }\n",
              "\n",
              "    .dataframe tbody tr th {\n",
              "        vertical-align: top;\n",
              "    }\n",
              "\n",
              "    .dataframe thead th {\n",
              "        text-align: right;\n",
              "    }\n",
              "</style>\n",
              "<table border=\"1\" class=\"dataframe\">\n",
              "  <thead>\n",
              "    <tr style=\"text-align: right;\">\n",
              "      <th></th>\n",
              "      <th>TTR</th>\n",
              "      <th>MATTR</th>\n",
              "      <th>MTLD</th>\n",
              "      <th>HDD</th>\n",
              "    </tr>\n",
              "  </thead>\n",
              "  <tbody>\n",
              "    <tr>\n",
              "      <th>TTR</th>\n",
              "      <td>1.000000</td>\n",
              "      <td>0.745764</td>\n",
              "      <td>0.769432</td>\n",
              "      <td>0.837011</td>\n",
              "    </tr>\n",
              "    <tr>\n",
              "      <th>MATTR</th>\n",
              "      <td>0.745764</td>\n",
              "      <td>1.000000</td>\n",
              "      <td>0.818469</td>\n",
              "      <td>0.896942</td>\n",
              "    </tr>\n",
              "    <tr>\n",
              "      <th>MTLD</th>\n",
              "      <td>0.769432</td>\n",
              "      <td>0.818469</td>\n",
              "      <td>1.000000</td>\n",
              "      <td>0.857670</td>\n",
              "    </tr>\n",
              "    <tr>\n",
              "      <th>HDD</th>\n",
              "      <td>0.837011</td>\n",
              "      <td>0.896942</td>\n",
              "      <td>0.857670</td>\n",
              "      <td>1.000000</td>\n",
              "    </tr>\n",
              "  </tbody>\n",
              "</table>\n",
              "</div>\n",
              "      <button class=\"colab-df-convert\" onclick=\"convertToInteractive('df-624a7ec7-2e8b-4111-9981-855fecdd55c1')\"\n",
              "              title=\"Convert this dataframe to an interactive table.\"\n",
              "              style=\"display:none;\">\n",
              "        \n",
              "  <svg xmlns=\"http://www.w3.org/2000/svg\" height=\"24px\"viewBox=\"0 0 24 24\"\n",
              "       width=\"24px\">\n",
              "    <path d=\"M0 0h24v24H0V0z\" fill=\"none\"/>\n",
              "    <path d=\"M18.56 5.44l.94 2.06.94-2.06 2.06-.94-2.06-.94-.94-2.06-.94 2.06-2.06.94zm-11 1L8.5 8.5l.94-2.06 2.06-.94-2.06-.94L8.5 2.5l-.94 2.06-2.06.94zm10 10l.94 2.06.94-2.06 2.06-.94-2.06-.94-.94-2.06-.94 2.06-2.06.94z\"/><path d=\"M17.41 7.96l-1.37-1.37c-.4-.4-.92-.59-1.43-.59-.52 0-1.04.2-1.43.59L10.3 9.45l-7.72 7.72c-.78.78-.78 2.05 0 2.83L4 21.41c.39.39.9.59 1.41.59.51 0 1.02-.2 1.41-.59l7.78-7.78 2.81-2.81c.8-.78.8-2.07 0-2.86zM5.41 20L4 18.59l7.72-7.72 1.47 1.35L5.41 20z\"/>\n",
              "  </svg>\n",
              "      </button>\n",
              "      \n",
              "  <style>\n",
              "    .colab-df-container {\n",
              "      display:flex;\n",
              "      flex-wrap:wrap;\n",
              "      gap: 12px;\n",
              "    }\n",
              "\n",
              "    .colab-df-convert {\n",
              "      background-color: #E8F0FE;\n",
              "      border: none;\n",
              "      border-radius: 50%;\n",
              "      cursor: pointer;\n",
              "      display: none;\n",
              "      fill: #1967D2;\n",
              "      height: 32px;\n",
              "      padding: 0 0 0 0;\n",
              "      width: 32px;\n",
              "    }\n",
              "\n",
              "    .colab-df-convert:hover {\n",
              "      background-color: #E2EBFA;\n",
              "      box-shadow: 0px 1px 2px rgba(60, 64, 67, 0.3), 0px 1px 3px 1px rgba(60, 64, 67, 0.15);\n",
              "      fill: #174EA6;\n",
              "    }\n",
              "\n",
              "    [theme=dark] .colab-df-convert {\n",
              "      background-color: #3B4455;\n",
              "      fill: #D2E3FC;\n",
              "    }\n",
              "\n",
              "    [theme=dark] .colab-df-convert:hover {\n",
              "      background-color: #434B5C;\n",
              "      box-shadow: 0px 1px 3px 1px rgba(0, 0, 0, 0.15);\n",
              "      filter: drop-shadow(0px 1px 2px rgba(0, 0, 0, 0.3));\n",
              "      fill: #FFFFFF;\n",
              "    }\n",
              "  </style>\n",
              "\n",
              "      <script>\n",
              "        const buttonEl =\n",
              "          document.querySelector('#df-624a7ec7-2e8b-4111-9981-855fecdd55c1 button.colab-df-convert');\n",
              "        buttonEl.style.display =\n",
              "          google.colab.kernel.accessAllowed ? 'block' : 'none';\n",
              "\n",
              "        async function convertToInteractive(key) {\n",
              "          const element = document.querySelector('#df-624a7ec7-2e8b-4111-9981-855fecdd55c1');\n",
              "          const dataTable =\n",
              "            await google.colab.kernel.invokeFunction('convertToInteractive',\n",
              "                                                     [key], {});\n",
              "          if (!dataTable) return;\n",
              "\n",
              "          const docLinkHtml = 'Like what you see? Visit the ' +\n",
              "            '<a target=\"_blank\" href=https://colab.research.google.com/notebooks/data_table.ipynb>data table notebook</a>'\n",
              "            + ' to learn more about interactive tables.';\n",
              "          element.innerHTML = '';\n",
              "          dataTable['output_type'] = 'display_data';\n",
              "          await google.colab.output.renderOutput(dataTable, element);\n",
              "          const docLink = document.createElement('div');\n",
              "          docLink.innerHTML = docLinkHtml;\n",
              "          element.appendChild(docLink);\n",
              "        }\n",
              "      </script>\n",
              "    </div>\n",
              "  </div>\n",
              "  "
            ]
          },
          "metadata": {},
          "execution_count": 76
        }
      ]
    },
    {
      "cell_type": "code",
      "source": [
        "import seaborn as sn\n",
        "import matplotlib.pyplot as plt\n",
        "\n",
        "sns.set(rc={'figure.figsize':(12,6),\"font.size\":20,\"axes.titlesize\":20,\"axes.labelsize\":30},style=\"white\")\n",
        "\n",
        "sn.heatmap(corrMatrix, annot=True)\n",
        "plt.show()"
      ],
      "metadata": {
        "id": "DOXwYBKc4spb",
        "outputId": "300b4775-efcc-42cf-9067-f5a2956185ce",
        "colab": {
          "base_uri": "https://localhost:8080/",
          "height": 381
        }
      },
      "execution_count": null,
      "outputs": [
        {
          "output_type": "display_data",
          "data": {
            "text/plain": [
              "<Figure size 864x432 with 2 Axes>"
            ],
            "image/png": "[encoded data removed]"
          },
          "metadata": {}
        }
      ]
    },
    {
      "cell_type": "markdown",
      "source": [
        "# Others"
      ],
      "metadata": {
        "id": "sauN8nml3La1"
      }
    },
    {
      "cell_type": "code",
      "source": [],
      "metadata": {
        "id": "q3DcG-hA3NBQ"
      },
      "execution_count": null,
      "outputs": []
    },
    {
      "cell_type": "markdown",
      "source": [
        "The Gunning Fog index: It generates a grade level between 0 and 20. It estimates the education level required to understand the text.\n",
        "Too many different words per thoughsand, not enough simple sentences, too difficult for the inteded audience."
      ],
      "metadata": {
        "id": "pF1wOkdHHQVz"
      }
    },
    {
      "cell_type": "code",
      "source": [
        "sns.set(rc={'figure.figsize':(12,6),\"font.size\":40,\"axes.titlesize\":20,\"axes.labelsize\":20},style=\"white\") # font size doesn't work\n",
        "sns.scatterplot(data=df4, x=\"Year\", y=\"GF\")\n",
        "ax = sns.rugplot(data=df4, x=\"Year\", y=\"GF\", height=.1) \n",
        "ax.set_ylim([0,20])\n",
        "# ax.set_xlim([0,150])\n",
        "ax.set(xlabel='Year', ylabel='Dale-Chall Reading Score')\n",
        "ax.axhline(15, color=\"red\")\n",
        "ax.axhline(12, color=\"blue\")\n",
        "ax.axhline(9, color=\"gray\")\n",
        "# ax.axhline(60)\n",
        "# ax.axhline(70)\n",
        "# ax.axhline(80)\n",
        "# plt.text(8, 50, \"An annotation\", horizontalalignment='left', size='medium', color='black', weight='semibold')\n",
        "plt.savefig('GF_scatter.png') "
      ],
      "metadata": {
        "id": "htHyh-E1HP1L"
      },
      "execution_count": null,
      "outputs": []
    },
    {
      "cell_type": "code",
      "source": [
        "sns.set(rc={'figure.figsize':(12,6),\"font.size\":40,\"axes.titlesize\":20,\"axes.labelsize\":20},style=\"white\") # font size doesn't work\n",
        "sns.scatterplot(data=df4, x=\"Year\", y=\"DCRS\")\n",
        "ax = sns.rugplot(data=df4, x=\"Year\", y=\"DCRS\", height=.1) \n",
        "ax.set_ylim([5,13])\n",
        "# ax.set_xlim([0,150])\n",
        "ax.set(xlabel='Year', ylabel='Dale-Chall Reading Score')\n",
        "# ax.axhline(15, color=\"red\")\n",
        "ax.axhline(10, color=\"red\")\n",
        "ax.axhline(9, color=\"blue\")\n",
        "# ax.axhline(60)\n",
        "# ax.axhline(70)\n",
        "# ax.axhline(80)\n",
        "# plt.text(8, 50, \"An annotation\", horizontalalignment='left', size='medium', color='black', weight='semibold')\n",
        "plt.savefig('DCRS_scatter.png')"
      ],
      "metadata": {
        "id": "nXbQDEi-EgpD"
      },
      "execution_count": null,
      "outputs": []
    },
    {
      "cell_type": "markdown",
      "source": [
        "========================================================"
      ],
      "metadata": {
        "id": "L4_A7jX0E8x5"
      }
    },
    {
      "cell_type": "code",
      "source": [
        "df4['DCRS'].describe()"
      ],
      "metadata": {
        "id": "tCIn_PVKJ-Nl"
      },
      "execution_count": null,
      "outputs": []
    },
    {
      "cell_type": "code",
      "source": [
        "plt.hist(df4['DCRS'], binwidth=1)"
      ],
      "metadata": {
        "id": "9ql1x-n9Oetn"
      },
      "execution_count": null,
      "outputs": []
    },
    {
      "cell_type": "code",
      "source": [
        "ordered_ttr = list(df2['TTR']).sort()\n",
        "ordered_ttr"
      ],
      "metadata": {
        "id": "nfRqNhEReWeI"
      },
      "execution_count": null,
      "outputs": []
    },
    {
      "cell_type": "code",
      "source": [
        "a1 = df2[['N_Splits','TTR','MSTTR']]\n",
        "a2 = a1.sort_values(by=['N_Splits'])\n",
        "a2"
      ],
      "metadata": {
        "id": "qI_0j8iKe9hX"
      },
      "execution_count": null,
      "outputs": []
    },
    {
      "cell_type": "code",
      "source": [
        "df3 = df2.sort_values(by=['N_Splits'])"
      ],
      "metadata": {
        "id": "LLAP0tTT0UQu"
      },
      "execution_count": null,
      "outputs": []
    },
    {
      "cell_type": "code",
      "source": [
        "f = plt.figure(figsize=(10, 10))\n",
        "plt.scatter(df2['N_Splits'],df2['TTR'],  label='TTR')\n",
        "# plt.scatter(df2['N_Splits'],df2['LogTTR'],  label='LogTTR')\n",
        "# plt.scatter(df2['N_Splits'],df2['MSTTR'],  label='MSTTR')\n",
        "plt.legend()"
      ],
      "metadata": {
        "id": "wOw7t5TMys-r"
      },
      "execution_count": null,
      "outputs": []
    },
    {
      "cell_type": "markdown",
      "source": [
        "### Linear regression of TTR and Length"
      ],
      "metadata": {
        "id": "MEBCJmAs1R4y"
      }
    },
    {
      "cell_type": "code",
      "source": [
        "# importing the required library\n",
        "import pandas as pd\n",
        "import seaborn as sns\n",
        "import matplotlib.pyplot as plt"
      ],
      "metadata": {
        "id": "Fv35R9qx1WfM"
      },
      "execution_count": null,
      "outputs": []
    },
    {
      "cell_type": "code",
      "source": [
        "# # f = plt.figure(figsize=(10, 10))\n",
        "# fig, (ax1, ax2) = plt.subplots(1, 2)\n",
        "# fig.suptitle('Horizontally stacked subplots')\n",
        "# data\n",
        "df = df2\n",
        " \n",
        "# scatter plot with regression\n",
        "# line(by default)\n",
        "sns.lmplot(x ='N_Splits', y ='TTR', data = df)\n",
        " \n",
        "# Show the plot\n",
        "plt.show()"
      ],
      "metadata": {
        "id": "25xmBMSG1paT"
      },
      "execution_count": null,
      "outputs": []
    },
    {
      "cell_type": "code",
      "source": [],
      "metadata": {
        "id": "BHgS2roSpZwH"
      },
      "execution_count": null,
      "outputs": []
    },
    {
      "cell_type": "code",
      "source": [
        "# Residual plots\n",
        "sns.residplot(x ='N_Splits', y ='TTR', data = df)"
      ],
      "metadata": {
        "id": "ssTPQ1pZ8Z2p"
      },
      "execution_count": null,
      "outputs": []
    },
    {
      "cell_type": "code",
      "source": [
        "sns.lmplot(x ='N_Splits', y ='MTLD', data = df)\n",
        " \n",
        "# Show the plot\n",
        "plt.show()"
      ],
      "metadata": {
        "id": "ca9ziRS54ES3"
      },
      "execution_count": null,
      "outputs": []
    },
    {
      "cell_type": "code",
      "source": [
        "# Residual plots\n",
        "sns.residplot(x ='N_Splits', y ='MTLD', data = df)"
      ],
      "metadata": {
        "id": "dSfhDram9LOd"
      },
      "execution_count": null,
      "outputs": []
    },
    {
      "cell_type": "code",
      "source": [
        "import statsmodels.api as sm\n",
        "\n",
        "X = df[\"N_Splits\"]\n",
        "y = df[\"TTR\"]\n",
        "\n",
        "# Note the difference in argument order\n",
        "model = sm.OLS(y, X).fit()\n",
        "predictions = model.predict(X) # make the predictions by the model\n",
        "\n",
        "# Print out the statistics\n",
        "model.summary()"
      ],
      "metadata": {
        "id": "pmb6dHeQ2Qbv"
      },
      "execution_count": null,
      "outputs": []
    },
    {
      "cell_type": "code",
      "source": [
        "X = df[\"N_Splits\"]\n",
        "y = df[\"MTLD\"]\n",
        "\n",
        "# Note the difference in argument order\n",
        "model = sm.OLS(y, X).fit()\n",
        "predictions = model.predict(X) # make the predictions by the model\n",
        "\n",
        "# Print out the statistics\n",
        "model.summary()"
      ],
      "metadata": {
        "id": "AdgG63hT4qD7"
      },
      "execution_count": null,
      "outputs": []
    },
    {
      "cell_type": "markdown",
      "source": [
        "## Style: additionaal Boxplots"
      ],
      "metadata": {
        "id": "mJGM99eurzU_"
      }
    },
    {
      "cell_type": "code",
      "source": [
        "import seaborn as sns\n",
        "import numpy as np"
      ],
      "metadata": {
        "id": "We5jtymfstsa"
      },
      "execution_count": null,
      "outputs": []
    },
    {
      "cell_type": "markdown",
      "source": [
        "### Setting the figure size"
      ],
      "metadata": {
        "id": "QyjiOex4x4RN"
      }
    },
    {
      "cell_type": "code",
      "source": [
        "sns.set(rc={'figure.figsize':(12,8)}) #set width and height"
      ],
      "metadata": {
        "id": "Jc4qM8GHxmIO"
      },
      "execution_count": null,
      "outputs": []
    },
    {
      "cell_type": "code",
      "source": [
        "df = df2\n",
        "df = df[['Year','TTR','MSTTR','HDD','MTLD']]\n",
        "\n",
        "dd=pd.melt(df,id_vars=['Year'],value_vars=['TTR','HDD','MSTTR'],var_name='fruits')\n",
        "sns.boxplot(x='Year',y='value',data=dd,hue='fruits')"
      ],
      "metadata": {
        "id": "wPAH97M0t7bJ"
      },
      "execution_count": null,
      "outputs": []
    },
    {
      "cell_type": "code",
      "source": [
        "import numpy as np\n",
        "import matplotlib.pyplot as plt\n",
        "\n",
        "# --- Your data, e.g. results per algorithm:\n",
        "data1 = [5,5,4,3,3,5]\n",
        "data2 = [6,6,4,6,8,5]\n",
        "data3 = [7,8,4,5,8,2]\n",
        "data4 = [6,9,3,6,8,4]\n",
        "\n",
        "# --- Combining your data:\n",
        "data_group1 = [data1, data2]\n",
        "data_group2 = [data3, data4]\n",
        "\n",
        "# --- Labels for your data:\n",
        "labels_list = ['a','b']\n",
        "xlocations  = range(len(data_group1))\n",
        "width       = 0.3\n",
        "symbol      = 'r+'\n",
        "ymin        = 0\n",
        "ymax        = 10\n",
        "\n",
        "ax = plt.gca()\n",
        "ax.set_ylim(ymin,ymax)\n",
        "ax.set_xticklabels( labels_list, rotation=0 )\n",
        "ax.grid(True, linestyle='dotted')\n",
        "ax.set_axisbelow(True)\n",
        "ax.set_xticks(xlocations)\n",
        "plt.xlabel('X axis label')\n",
        "plt.ylabel('Y axis label')\n",
        "plt.title('title')\n",
        "\n",
        "# --- Offset the positions per group:\n",
        "positions_group1 = [x-(width+0.01) for x in xlocations]\n",
        "positions_group2 = xlocations\n",
        "\n",
        "plt.boxplot(data_group1, \n",
        "            sym=symbol,\n",
        "            labels=['']*len(labels_list),\n",
        "            positions=positions_group1, \n",
        "            widths=width, \n",
        "#           notch=False,  \n",
        "#           vert=True, \n",
        "#           whis=1.5,\n",
        "#           bootstrap=None, \n",
        "#           usermedians=None, \n",
        "#           conf_intervals=None,\n",
        "#           patch_artist=False,\n",
        "            )\n",
        "\n",
        "plt.boxplot(data_group2, \n",
        "            labels=labels_list,\n",
        "            sym=symbol,\n",
        "            positions=positions_group2, \n",
        "            widths=width, \n",
        "#           notch=False,  \n",
        "#           vert=True, \n",
        "#           whis=1.5,\n",
        "#           bootstrap=None, \n",
        "#           usermedians=None, \n",
        "#           conf_intervals=None,\n",
        "#           patch_artist=False,\n",
        "            )\n",
        "\n",
        "plt.savefig('boxplot_grouped.png')  \n",
        "plt.savefig('boxplot_grouped.pdf')    # when publishing, use high quality PDFs\n",
        "#plt.show()                   # uncomment to show the plot. "
      ],
      "metadata": {
        "id": "NIzvfXkIwQnJ"
      },
      "execution_count": null,
      "outputs": []
    },
    {
      "cell_type": "code",
      "source": [
        "dd = pd.melt(df3, id_vars = 'Year'],value_vars = ['TTR','HDD'],var_name='LD')\n",
        "sns.boxplot(x = 'Year', y = 'LD index', data=dd, hue='LD')"
      ],
      "metadata": {
        "id": "RH7aO34EtZy8"
      },
      "execution_count": null,
      "outputs": []
    },
    {
      "cell_type": "markdown",
      "source": [
        "### MTLD grouped plots"
      ],
      "metadata": {
        "id": "ZLE6FZ9m9Yjn"
      }
    },
    {
      "cell_type": "code",
      "source": [
        "datatop = df2.tail()\n",
        "datatop"
      ],
      "metadata": {
        "id": "gzbU_kHq9ym1"
      },
      "execution_count": null,
      "outputs": []
    },
    {
      "cell_type": "markdown",
      "source": [
        "column names"
      ],
      "metadata": {
        "id": "7M3vlAbx-Lyl"
      }
    },
    {
      "cell_type": "code",
      "source": [
        "for col in df2.columns:\n",
        "    print(col)"
      ],
      "metadata": {
        "id": "1SBJUx-7-GR4"
      },
      "execution_count": null,
      "outputs": []
    },
    {
      "cell_type": "code",
      "source": [
        "groups = df2.groupby(\"Category\")\n",
        "for name, group in groups:\n",
        "    plt.plot(group[\"N_Splits\"], group[\"MTLD\"], marker=\"o\", linestyle=\"\", label=name)\n",
        "plt.legend()"
      ],
      "metadata": {
        "id": "CuGZyVKqBo9A"
      },
      "execution_count": null,
      "outputs": []
    },
    {
      "cell_type": "code",
      "source": [
        "f = plt.figure(figsize=(10, 10))\n",
        "flights = sns.load_dataset(\"flights\")\n",
        "flights = flights.pivot(\"month\", \"year\", \"passengers\")\n",
        "ax = sns.heatmap(flights)\n",
        "\n",
        "data = df2\n",
        "data = data.pivot(\"Year\", \"QN\", \"MTLD\")\n",
        "ax = sns.heatmap(data)"
      ],
      "metadata": {
        "id": "C3QXDJjGEJKk"
      },
      "execution_count": null,
      "outputs": []
    },
    {
      "cell_type": "code",
      "source": [
        "import pandas as pd\n",
        "import numpy as np\n",
        "\n",
        "rs = np.random.RandomState(0)\n",
        "df = pd.DataFrame(rs.rand(10, 10))\n",
        "corr = df.corr()\n",
        "corr.style.background_gradient(cmap='coolwarm')"
      ],
      "metadata": {
        "id": "PfjqNG9Mhe6c"
      },
      "execution_count": null,
      "outputs": []
    },
    {
      "cell_type": "code",
      "source": [
        "df3"
      ],
      "metadata": {
        "id": "CBOopywoh3Qv"
      },
      "execution_count": null,
      "outputs": []
    },
    {
      "cell_type": "code",
      "source": [
        "f = plt.figure(figsize=(10, 10))\n",
        "plt.matshow(df.corr(), fignum=f.number)\n",
        "plt.xticks(range(df.select_dtypes(['number']).shape[1]), df.select_dtypes(['number']).columns, fontsize=14, rotation=45)\n",
        "plt.yticks(range(df.select_dtypes(['number']).shape[1]), df.select_dtypes(['number']).columns, fontsize=14)\n",
        "cb = plt.colorbar()\n",
        "cb.ax.tick_params(labelsize=14)\n",
        "plt.title('Correlation Matrix', fontsize=16);"
      ],
      "metadata": {
        "id": "YdwEHJ1fg3cT"
      },
      "execution_count": null,
      "outputs": []
    },
    {
      "cell_type": "code",
      "source": [
        "df"
      ],
      "metadata": {
        "id": "iVOFilUl1rkd"
      },
      "execution_count": null,
      "outputs": []
    },
    {
      "cell_type": "code",
      "source": [
        "# df4 = df3.iloc[:, [6,8,9,10,11,12,13,14,15,16,17]]"
      ],
      "metadata": {
        "id": "IzEM4uG31gLM"
      },
      "execution_count": null,
      "outputs": []
    },
    {
      "cell_type": "code",
      "source": [
        "# import seaborn as sns; sns.set_theme()"
      ],
      "metadata": {
        "id": "hrBidJex3iip"
      },
      "execution_count": null,
      "outputs": []
    }
  ]
}