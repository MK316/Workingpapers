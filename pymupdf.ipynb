{
  "nbformat": 4,
  "nbformat_minor": 0,
  "metadata": {
    "colab": {
      "provenance": [],
      "authorship_tag": "ABX9TyPb2tclP8Q9eOHc426XUgLb",
      "include_colab_link": true
    },
    "kernelspec": {
      "name": "python3",
      "display_name": "Python 3"
    },
    "language_info": {
      "name": "python"
    }
  },
  "cells": [
    {
      "cell_type": "markdown",
      "metadata": {
        "id": "view-in-github",
        "colab_type": "text"
      },
      "source": [
        "<a href=\"https://colab.research.google.com/github/MK316/Workingpapers/blob/main/pymupdf.ipynb\" target=\"_parent\"><img src=\"https://colab.research.google.com/assets/colab-badge.svg\" alt=\"Open In Colab\"/></a>"
      ]
    },
    {
      "cell_type": "code",
      "execution_count": 1,
      "metadata": {
        "colab": {
          "base_uri": "https://localhost:8080/"
        },
        "id": "RbybreulH0V9",
        "outputId": "5280175d-1b6a-4342-bb2e-238d75d5edfa"
      },
      "outputs": [
        {
          "output_type": "stream",
          "name": "stdout",
          "text": [
            "Looking in indexes: https://pypi.org/simple, https://us-python.pkg.dev/colab-wheels/public/simple/\n",
            "Collecting pymupdf\n",
            "  Downloading PyMuPDF-1.20.2-cp37-cp37m-manylinux_2_17_x86_64.manylinux2014_x86_64.whl (8.8 MB)\n",
            "\u001b[K     |████████████████████████████████| 8.8 MB 32.9 MB/s \n",
            "\u001b[?25hInstalling collected packages: pymupdf\n",
            "Successfully installed pymupdf-1.20.2\n"
          ]
        }
      ],
      "source": [
        "!pip install pymupdf"
      ]
    },
    {
      "cell_type": "code",
      "source": [
        "import fitz"
      ],
      "metadata": {
        "id": "0cJzDAgiH_1Y"
      },
      "execution_count": 4,
      "outputs": []
    },
    {
      "cell_type": "code",
      "source": [
        "DIGITIZED_FILE = \"/content/2014.12.pdf\""
      ],
      "metadata": {
        "id": "D2VpX5BbILhV"
      },
      "execution_count": 5,
      "outputs": []
    },
    {
      "cell_type": "markdown",
      "source": [
        "reference to extract by blocks:\n",
        "https://pymupdf.readthedocs.io/en/latest/textpage.html?highlight=get_text"
      ],
      "metadata": {
        "id": "193VpAG7JwiX"
      }
    },
    {
      "cell_type": "code",
      "source": [
        "# This code works well: extracting a single file\n",
        "\n",
        "with fitz.open(DIGITIZED_FILE) as doc:\n",
        "    for page in doc:\n",
        "        # text = page.get_text()\n",
        "        print(text)"
      ],
      "metadata": {
        "id": "tchPsJghIchs"
      },
      "execution_count": null,
      "outputs": []
    },
    {
      "cell_type": "markdown",
      "source": [
        "## Mount github repository for the process"
      ],
      "metadata": {
        "id": "pX4hXbukKJlH"
      }
    },
    {
      "cell_type": "code",
      "source": [
        "!git clone https://github.com/MK316/workingpapers.git\n",
        "\n",
        "# Check current directory\n",
        "!pwd"
      ],
      "metadata": {
        "colab": {
          "base_uri": "https://localhost:8080/"
        },
        "id": "bTQ4oYovKJHX",
        "outputId": "ecfa5fc6-9099-4ddd-c3a8-63e6a6170746"
      },
      "execution_count": 14,
      "outputs": [
        {
          "output_type": "stream",
          "name": "stdout",
          "text": [
            "Cloning into 'workingpapers'...\n",
            "remote: Enumerating objects: 48, done.\u001b[K\n",
            "remote: Counting objects: 100% (48/48), done.\u001b[K\n",
            "remote: Compressing objects: 100% (44/44), done.\u001b[K\n",
            "remote: Total 48 (delta 5), reused 0 (delta 0), pack-reused 0\u001b[K\n",
            "Unpacking objects: 100% (48/48), done.\n"
          ]
        }
      ]
    },
    {
      "cell_type": "code",
      "source": [
        "import os.path\n",
        "os.chdir('/content/workingpapers/ksatdata')\n",
        "!pwd"
      ],
      "metadata": {
        "id": "G6mWWoXkMwoz"
      },
      "execution_count": null,
      "outputs": []
    },
    {
      "cell_type": "markdown",
      "source": [
        "# Loop to process files on 'workingpapers' to text files"
      ],
      "metadata": {
        "id": "uYdh9v2FMz9h"
      }
    },
    {
      "cell_type": "code",
      "source": [
        "# File list\n",
        "import os\n",
        "filenames = os.listdir('.')\n",
        "filenames"
      ],
      "metadata": {
        "colab": {
          "base_uri": "https://localhost:8080/"
        },
        "id": "uvwEyKfuN75D",
        "outputId": "5a364a64-eef4-40ad-a40e-926c6fb339c9"
      },
      "execution_count": 46,
      "outputs": [
        {
          "output_type": "execute_result",
          "data": {
            "text/plain": [
              "['2022.6.pdf',\n",
              " '2014.9.pdf',\n",
              " '2015.6.pdf',\n",
              " '2014.6.pdf',\n",
              " '2020.9.pdf',\n",
              " '2020.6.pdf',\n",
              " '2022.9.pdf',\n",
              " '.ipynb_checkpoints',\n",
              " '2018.9.pdf',\n",
              " '2016.12.pdf',\n",
              " '2020.12.pdf',\n",
              " '2017.6.pdf',\n",
              " '2022.12.pdf',\n",
              " '2017.12.pdf',\n",
              " '2021.9.pdf',\n",
              " '2021.6.pdf',\n",
              " '2018.12.pdf',\n",
              " '2017.9.pdf',\n",
              " '2015.12.pdf',\n",
              " '2014.12.pdf',\n",
              " '2015.9.pdf',\n",
              " '2019.6.pdf',\n",
              " '2021.12.pdf',\n",
              " '2019.12.pdf',\n",
              " '2023.9.pdf',\n",
              " '2016.6.pdf',\n",
              " '2023.6.pdf',\n",
              " '2016.9.pdf',\n",
              " '2019.9.pdf',\n",
              " '2018.6.pdf']"
            ]
          },
          "metadata": {},
          "execution_count": 46
        }
      ]
    }
  ]
}